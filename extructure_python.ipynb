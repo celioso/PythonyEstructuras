{
 "cells": [
  {
   "cell_type": "code",
   "execution_count": 27,
   "id": "cf09cb01",
   "metadata": {},
   "outputs": [],
   "source": [
    "#y = input('nombre: ')\n",
    "\n",
    "#print(f\"mi nombre es {y}\")"
   ]
  },
  {
   "cell_type": "markdown",
   "id": "7d06c27f",
   "metadata": {},
   "source": [
    "## Variables"
   ]
  },
  {
   "cell_type": "code",
   "execution_count": 28,
   "id": "df094155",
   "metadata": {},
   "outputs": [
    {
     "name": "stdout",
     "output_type": "stream",
     "text": [
      "5\n",
      "John\n"
     ]
    }
   ],
   "source": [
    "x = 5\n",
    "y = \"John\"\n",
    "print(x)\n",
    "print(y)"
   ]
  },
  {
   "cell_type": "code",
   "execution_count": 29,
   "id": "bb2a7dd3",
   "metadata": {},
   "outputs": [
    {
     "name": "stdout",
     "output_type": "stream",
     "text": [
      "Sally\n"
     ]
    }
   ],
   "source": [
    "x = 4       # x is of type int\n",
    "x = \"Sally\" # x is now of type str\n",
    "print(x)"
   ]
  },
  {
   "cell_type": "code",
   "execution_count": 30,
   "id": "3d1a5c96",
   "metadata": {},
   "outputs": [
    {
     "name": "stdout",
     "output_type": "stream",
     "text": [
      "3\n",
      "3\n",
      "3.0\n"
     ]
    }
   ],
   "source": [
    "x = str(3)      # x will be '3'\n",
    "y = int(3)      # y will be 3\n",
    "z = float(3)    # z will be 3.0\n",
    "\n",
    "print(x)\n",
    "print(y)\n",
    "print(z)"
   ]
  },
  {
   "cell_type": "markdown",
   "id": "ab50c1cf",
   "metadata": {},
   "source": [
    "### Get the Type"
   ]
  },
  {
   "cell_type": "code",
   "execution_count": 31,
   "id": "da5d8c99",
   "metadata": {},
   "outputs": [
    {
     "name": "stdout",
     "output_type": "stream",
     "text": [
      "<class 'int'>\n",
      "<class 'str'>\n"
     ]
    }
   ],
   "source": [
    "x = 5\n",
    "y = \"John\"\n",
    "\n",
    "print(type(x))\n",
    "print(type(y))"
   ]
  },
  {
   "cell_type": "markdown",
   "id": "f3ac2339",
   "metadata": {},
   "source": [
    "## Variable Names"
   ]
  },
  {
   "cell_type": "code",
   "execution_count": 32,
   "id": "8f87cb6f",
   "metadata": {},
   "outputs": [
    {
     "name": "stdout",
     "output_type": "stream",
     "text": [
      "John\n",
      "John\n",
      "John\n",
      "John\n",
      "John\n",
      "John\n"
     ]
    }
   ],
   "source": [
    "myvar = \"John\"\n",
    "my_var = \"John\"\n",
    "_my_var = \"John\"\n",
    "myVar = \"John\"\n",
    "MYVAR = \"John\"\n",
    "myvar2 = \"John\"\n",
    "\n",
    "\n",
    "print(myvar)\n",
    "print(my_var)\n",
    "print(_my_var)\n",
    "print(myVar)\n",
    "print(MYVAR)\n",
    "print(myvar2)\n"
   ]
  },
  {
   "cell_type": "code",
   "execution_count": 33,
   "id": "488f9f77",
   "metadata": {},
   "outputs": [
    {
     "name": "stdout",
     "output_type": "stream",
     "text": [
      "John\n"
     ]
    }
   ],
   "source": [
    "# Camel Case\n",
    "# Each word, except the first, starts with a capital letter:\n",
    "\n",
    "myVariableName = \"John\"\n",
    "print(myVariableName)"
   ]
  },
  {
   "cell_type": "code",
   "execution_count": 34,
   "id": "eb3d6266",
   "metadata": {},
   "outputs": [
    {
     "name": "stdout",
     "output_type": "stream",
     "text": [
      "John\n"
     ]
    }
   ],
   "source": [
    "# Pascal Case\n",
    "# Each word starts with a capital letter:\n",
    "\n",
    "MyVariableName = \"John\"\n",
    "print(MyVariableName)"
   ]
  },
  {
   "cell_type": "code",
   "execution_count": 35,
   "id": "9578fd06",
   "metadata": {},
   "outputs": [
    {
     "name": "stdout",
     "output_type": "stream",
     "text": [
      "John\n"
     ]
    }
   ],
   "source": [
    "# Snake Case\n",
    "# Each word is separated by an underscore character:\n",
    "\n",
    "my_variable_name = \"John\"\n",
    "print(my_variable_name)"
   ]
  },
  {
   "cell_type": "markdown",
   "id": "80ffe3ac",
   "metadata": {},
   "source": [
    "## Python Variables - Assign Multiple Values"
   ]
  },
  {
   "cell_type": "markdown",
   "id": "4f810496",
   "metadata": {},
   "source": [
    "### Many Values to Multiple Variables"
   ]
  },
  {
   "cell_type": "code",
   "execution_count": 36,
   "id": "7e6a08e2",
   "metadata": {},
   "outputs": [
    {
     "name": "stdout",
     "output_type": "stream",
     "text": [
      "Orange\n",
      "Banana\n",
      "Cherry\n"
     ]
    }
   ],
   "source": [
    "x, y, z = \"Orange\", \"Banana\", \"Cherry\"\n",
    "\n",
    "print(x)\n",
    "print(y)\n",
    "print(z)"
   ]
  },
  {
   "cell_type": "markdown",
   "id": "66dc0794",
   "metadata": {},
   "source": [
    "### One Value to Multiple Variables"
   ]
  },
  {
   "cell_type": "code",
   "execution_count": 37,
   "id": "c0e30ec4",
   "metadata": {},
   "outputs": [
    {
     "name": "stdout",
     "output_type": "stream",
     "text": [
      "Orange\n",
      "Orange\n",
      "Orange\n"
     ]
    }
   ],
   "source": [
    "x = y = z = \"Orange\"\n",
    "\n",
    "print(x)\n",
    "print(y)\n",
    "print(z)"
   ]
  },
  {
   "cell_type": "markdown",
   "id": "77b1c8d0",
   "metadata": {},
   "source": [
    "### Unpack a Collection"
   ]
  },
  {
   "cell_type": "code",
   "execution_count": 38,
   "id": "7dcd7b07",
   "metadata": {},
   "outputs": [
    {
     "name": "stdout",
     "output_type": "stream",
     "text": [
      "apple\n",
      "banana\n",
      "cherry\n"
     ]
    }
   ],
   "source": [
    "fruits = [\"apple\", \"banana\", \"cherry\"]\n",
    "x, y, z = fruits\n",
    "print(x)\n",
    "print(y)\n",
    "print(z)"
   ]
  },
  {
   "cell_type": "markdown",
   "id": "e21fe7b8",
   "metadata": {},
   "source": [
    "## Python - Output Variables"
   ]
  },
  {
   "cell_type": "code",
   "execution_count": 39,
   "id": "74871ace",
   "metadata": {},
   "outputs": [
    {
     "name": "stdout",
     "output_type": "stream",
     "text": [
      "Python is awesome\n"
     ]
    }
   ],
   "source": [
    "x = \"Python is awesome\"\n",
    "print(x)"
   ]
  },
  {
   "cell_type": "code",
   "execution_count": 40,
   "id": "3109ac26",
   "metadata": {},
   "outputs": [
    {
     "name": "stdout",
     "output_type": "stream",
     "text": [
      "Python is awesome\n"
     ]
    }
   ],
   "source": [
    "x = \"Python\"\n",
    "y = \"is\"\n",
    "z = \"awesome\"\n",
    "\n",
    "print(x,y,z)"
   ]
  },
  {
   "cell_type": "code",
   "execution_count": 41,
   "id": "f53bfa60",
   "metadata": {},
   "outputs": [
    {
     "name": "stdout",
     "output_type": "stream",
     "text": [
      "Pythonisawesome\n"
     ]
    }
   ],
   "source": [
    "x = \"Python\"\n",
    "y = \"is\"\n",
    "z = \"awesome\"\n",
    "\n",
    "print(x+y+z)"
   ]
  },
  {
   "cell_type": "code",
   "execution_count": 42,
   "id": "ee7f745b",
   "metadata": {},
   "outputs": [
    {
     "name": "stdout",
     "output_type": "stream",
     "text": [
      "15\n"
     ]
    }
   ],
   "source": [
    "x = 5\n",
    "y = 10\n",
    "print(x + y)"
   ]
  },
  {
   "cell_type": "code",
   "execution_count": 43,
   "id": "40b78136",
   "metadata": {},
   "outputs": [
    {
     "name": "stdout",
     "output_type": "stream",
     "text": [
      "5 John\n"
     ]
    }
   ],
   "source": [
    "x = 5\n",
    "y = \"John\"\n",
    "print(x, y)"
   ]
  },
  {
   "cell_type": "markdown",
   "id": "033cdf75",
   "metadata": {},
   "source": [
    "## Python - Global Variables"
   ]
  },
  {
   "cell_type": "markdown",
   "id": "eda6c42b",
   "metadata": {},
   "source": [
    "### Global Variables"
   ]
  },
  {
   "cell_type": "code",
   "execution_count": 44,
   "id": "1062d16a",
   "metadata": {},
   "outputs": [
    {
     "name": "stdout",
     "output_type": "stream",
     "text": [
      "Python is awesome\n"
     ]
    }
   ],
   "source": [
    "x = \"awesome\"\n",
    "\n",
    "def myfunc():\n",
    "    print(\"Python is \"+ x)\n",
    "\n",
    "myfunc()"
   ]
  },
  {
   "cell_type": "code",
   "execution_count": 45,
   "id": "6efb3790",
   "metadata": {},
   "outputs": [
    {
     "name": "stdout",
     "output_type": "stream",
     "text": [
      "Python is fantastic\n",
      "Python is awesome\n"
     ]
    }
   ],
   "source": [
    "x = \"awesome\"\n",
    "\n",
    "def myfunc():\n",
    "    x = \"fantastic\"\n",
    "    print(\"Python is \"+ x)\n",
    "\n",
    "myfunc()\n",
    "\n",
    "print(\"Python is \"+ x)"
   ]
  },
  {
   "cell_type": "markdown",
   "id": "8088486c",
   "metadata": {},
   "source": [
    "### The global Keyword"
   ]
  },
  {
   "cell_type": "code",
   "execution_count": 46,
   "id": "e2a722a5",
   "metadata": {},
   "outputs": [
    {
     "name": "stdout",
     "output_type": "stream",
     "text": [
      "Python is fantastic\n"
     ]
    }
   ],
   "source": [
    "def myfunc():\n",
    "    global x\n",
    "    x = \"fantastic\"\n",
    "\n",
    "myfunc()\n",
    "\n",
    "print(\"Python is \" + x)"
   ]
  },
  {
   "cell_type": "code",
   "execution_count": 47,
   "id": "13c270bc",
   "metadata": {},
   "outputs": [
    {
     "name": "stdout",
     "output_type": "stream",
     "text": [
      "Python is fantastic\n"
     ]
    }
   ],
   "source": [
    "x = \"awesomr\"\n",
    "\n",
    "def myfunc():\n",
    "    global x\n",
    "    x = \"fantastic\"\n",
    "\n",
    "myfunc()\n",
    "\n",
    "print(\"Python is \"+x)"
   ]
  },
  {
   "cell_type": "code",
   "execution_count": 48,
   "id": "21be6fc1",
   "metadata": {},
   "outputs": [
    {
     "name": "stdout",
     "output_type": "stream",
     "text": [
      "Five is greater than two!\n"
     ]
    }
   ],
   "source": [
    "if 5>2:\n",
    "    print(\"Five is greater than two!\")"
   ]
  },
  {
   "cell_type": "markdown",
   "id": "5c139fe7",
   "metadata": {},
   "source": [
    "## Python Data Types"
   ]
  },
  {
   "cell_type": "markdown",
   "id": "d28c4f9c",
   "metadata": {},
   "source": [
    "### Built-in Data Types\n",
    "\n",
    "In programming, data type is an important concept.\n",
    "\n",
    "Variables can store data of different types, and different types can do different things.\n",
    "\n",
    "Python has the following data types built-in by default, in these categories:\n",
    "\n",
    "Text Type:\t`str`\n",
    "\n",
    "Numeric Types:\t`int`, `float`, `complex`\n",
    "\n",
    "Sequence Types:\t`list`, `tuple`, `range`\n",
    "\n",
    "Mapping Type:\t`dict`\n",
    "\n",
    "Set Types:\t`set`, `frozenset`\n",
    "\n",
    "Boolean Type:\t`bool`\n",
    "\n",
    "Binary Types:\t`bytes`, `bytearray`, `memoryview`\n",
    "\n",
    "None Type:\t`NoneType`"
   ]
  },
  {
   "cell_type": "markdown",
   "id": "8d2a7f2b",
   "metadata": {},
   "source": [
    "### Getting the Data Type\n",
    "\n",
    "You can get the data type of any object by using the `type()` function:"
   ]
  },
  {
   "cell_type": "code",
   "execution_count": 49,
   "id": "457d6a23",
   "metadata": {},
   "outputs": [
    {
     "name": "stdout",
     "output_type": "stream",
     "text": [
      "<class 'int'>\n"
     ]
    }
   ],
   "source": [
    "x = 5\n",
    "print(type(x))"
   ]
  },
  {
   "cell_type": "markdown",
   "id": "c672ac4b",
   "metadata": {},
   "source": [
    "### Setting the Data Type\n",
    "\n",
    "In Python, the data type is set when you assign a value to a variable:"
   ]
  },
  {
   "cell_type": "markdown",
   "id": "2cf6ced3",
   "metadata": {},
   "source": [
    "|Example\tData Type | Try it|\n",
    "|---|---|\n",
    "| x = \"Hello World\" | str |\n",
    "|x = 20 | int |\n",
    "|x = 20.5 | float |\n",
    "|x = 1j | complex |\n",
    "|x = [\"apple\", \"banana\", \"cherry\"] | list |\n",
    "|x = (\"apple\", \"banana\", \"cherry\") | tuple |\n",
    "|x = range(6) | range |\n",
    "|x = {\"name\" : \"John\", \"age\" : 36} | dict |\n",
    "|x = {\"apple\", \"banana\", \"cherry\"} | set |\n",
    "|x = frozenset({\"apple\", \"banana\", \"cherry\"}) | frozenset |\n",
    "|x = True | bool |\n",
    "|x = b\"Hello\" |bytes |\n",
    "|x = bytearray(5) | bytearray |\n",
    "|x = memoryview(bytes(5)) | memoryview |\n",
    "|x = None | NoneType |"
   ]
  },
  {
   "cell_type": "code",
   "execution_count": 50,
   "id": "e4f3c438",
   "metadata": {},
   "outputs": [
    {
     "name": "stdout",
     "output_type": "stream",
     "text": [
      "Hello World\n",
      "<class 'str'>\n",
      "20\n",
      "<class 'int'>\n",
      "20\n",
      "<class 'int'>\n",
      "1j\n",
      "<class 'complex'>\n",
      "['apple', 'banana', 'cherry']\n",
      "<class 'list'>\n",
      "('apple', 'banana', 'cherry')\n",
      "<class 'tuple'>\n",
      "range(0, 6)\n",
      "<class 'range'>\n",
      "{'name': 'John', 'age': 36}\n",
      "<class 'dict'>\n",
      "{'banana', 'apple', 'cherry'}\n",
      "<class 'set'>\n",
      "frozenset({'banana', 'apple', 'cherry'})\n",
      "<class 'frozenset'>\n",
      "True\n",
      "<class 'bool'>\n",
      "b'Hello'\n",
      "<class 'bytes'>\n",
      "bytearray(b'\\x00\\x00\\x00\\x00\\x00')\n",
      "<class 'bytearray'>\n",
      "<memory at 0x000001E9771C8640>\n",
      "<class 'memoryview'>\n",
      "None\n",
      "<class 'NoneType'>\n"
     ]
    }
   ],
   "source": [
    "# str\t\n",
    "x = \"Hello World\"\n",
    "\n",
    "print(x)\n",
    "print(type(x))  \n",
    "\n",
    "# int\t\n",
    "x = 20\n",
    "\n",
    "print(x)\n",
    "print(type(x)) \t\n",
    "\n",
    "# float\n",
    "x = 20\n",
    "\n",
    "print(x)\n",
    "print(type(x))\n",
    "\n",
    "# complex\n",
    "x = 1j\n",
    "\n",
    "print(x)\n",
    "print(type(x))\n",
    "\n",
    "# list\n",
    "x = [\"apple\", \"banana\", \"cherry\"]\n",
    "\n",
    "print(x)\n",
    "print(type(x))\n",
    "\n",
    "# tuple\n",
    "x = (\"apple\", \"banana\", \"cherry\")\n",
    "\n",
    "print(x)\n",
    "print(type(x))\n",
    "\n",
    "# range\n",
    "x = range(6)\n",
    "\n",
    "print(x)\n",
    "print(type(x))\n",
    "\n",
    "# dict\n",
    "x = {\"name\" : \"John\", \"age\" : 36}\n",
    "\n",
    "print(x)\n",
    "print(type(x))\n",
    "\n",
    "# set \n",
    "x = {\"apple\", \"banana\", \"cherry\"}\n",
    "\n",
    "print(x)\n",
    "print(type(x)) \n",
    "\n",
    "# frozenset\t\n",
    "x = frozenset({\"apple\", \"banana\", \"cherry\"})\n",
    "\n",
    "print(x)\n",
    "print(type(x))\n",
    "\n",
    "# bool\n",
    "x = True\n",
    "\n",
    "print(x)\n",
    "print(type(x)) \n",
    "\n",
    "# bytes\n",
    "x = b\"Hello\"\n",
    "\n",
    "print(x)\n",
    "print(type(x)) \n",
    "\n",
    "# bytearray\n",
    "\n",
    "x = bytearray(5)\n",
    "\n",
    "print(x)\n",
    "print(type(x))\n",
    "\n",
    "# memoryview\n",
    "x = memoryview(bytes(5))\n",
    "\n",
    "print(x)\n",
    "print(type(x))\n",
    "\n",
    "# NoneType\n",
    "x = None\n",
    "\n",
    "print(x)\n",
    "print(type(x)) "
   ]
  },
  {
   "cell_type": "markdown",
   "id": "7d4ac7dd",
   "metadata": {},
   "source": [
    "### Setting the Specific Data Type\n",
    "If you want to specify the data type, you can use the following constructor functions:"
   ]
  },
  {
   "cell_type": "markdown",
   "id": "3f63493a",
   "metadata": {},
   "source": [
    "| Example | Data Type |\n",
    "|---|---|\n",
    "| x = str(\"Hello World\") | str |\n",
    "| x = int(20) | int |\n",
    "| x = float(20.5) | float |\n",
    "| x = complex(1j) | complex |\n",
    "| x = list((\"apple\", \"banana\", \"cherry\")) | list |\n",
    "| x = tuple((\"apple\", \"banana\", \"cherry\")) | tuple |\n",
    "| x = range(6) | range |\n",
    "| x = dict(name=\"John\", age=36) | dict |\n",
    "| x = set((\"apple\", \"banana\", \"cherry\")) | set |\n",
    "| x = frozenset((\"apple\", \"banana\", \"cherry\")) | frozenset |\n",
    "| x = bool(5) | bool |\n",
    "| x = bytes(5) | bytes |\n",
    "| x = bytearray(5) | bytearray |\n",
    "| x = memoryview(bytes(5)) | memoryview |"
   ]
  },
  {
   "cell_type": "code",
   "execution_count": 51,
   "id": "8fb3e09c",
   "metadata": {},
   "outputs": [
    {
     "name": "stdout",
     "output_type": "stream",
     "text": [
      "Hello World\n",
      "<class 'str'>\n",
      "20\n",
      "<class 'int'>\n",
      "20.5\n",
      "<class 'float'>\n",
      "1j\n",
      "<class 'complex'>\n",
      "['apple', 'banana', 'cherry']\n",
      "<class 'list'>\n",
      "('apple', 'banana', 'cherry')\n",
      "<class 'tuple'>\n",
      "range(0, 6)\n",
      "<class 'range'>\n",
      "{'name': 'John', 'age': 36}\n",
      "<class 'dict'>\n",
      "{'banana', 'apple', 'cherry'}\n",
      "<class 'set'>\n",
      "frozenset({'banana', 'apple', 'cherry'})\n",
      "<class 'frozenset'>\n",
      "True\n",
      "<class 'bool'>\n",
      "b'\\x00\\x00\\x00\\x00\\x00'\n",
      "<class 'bytes'>\n",
      "bytearray(b'\\x00\\x00\\x00\\x00\\x00')\n",
      "<class 'bytearray'>\n",
      "<memory at 0x000001E9771C9A80>\n",
      "<class 'memoryview'>\n"
     ]
    }
   ],
   "source": [
    "# str\t\n",
    "x = str(\"Hello World\")\n",
    "\n",
    "print(x)\n",
    "print(type(x))  \n",
    "\n",
    "# int\t\n",
    "x = int(20)\n",
    "\n",
    "print(x)\n",
    "print(type(x))\n",
    "\n",
    "# float\n",
    "x = float(20.5)\n",
    "\n",
    "print(x)\n",
    "print(type(x)) \n",
    "\n",
    "# complex\n",
    "x = complex(1j)\n",
    "\n",
    "print(x)\n",
    "print(type(x)) \n",
    "\n",
    "# list\n",
    "x = list((\"apple\", \"banana\", \"cherry\"))\n",
    "\n",
    "print(x)\n",
    "print(type(x)) \n",
    "\n",
    "# tuple\n",
    "x = tuple((\"apple\", \"banana\", \"cherry\"))\n",
    "\n",
    "print(x)\n",
    "print(type(x))\n",
    "\n",
    "# range\n",
    "x = range(6)\n",
    "\n",
    "print(x)\n",
    "print(type(x))\n",
    "\n",
    "# dict\n",
    "x = dict(name=\"John\", age=36)\n",
    "\n",
    "print(x)\n",
    "print(type(x)) \n",
    "\n",
    "# set \n",
    "x = set((\"apple\", \"banana\", \"cherry\"))\n",
    "\n",
    "print(x)\n",
    "print(type(x)) \n",
    "\n",
    "\n",
    "# frozenset\t\n",
    "x = frozenset((\"apple\", \"banana\", \"cherry\"))\n",
    "\n",
    "print(x)\n",
    "print(type(x)) \n",
    "\n",
    "# bool\n",
    "x = bool(5)\n",
    "\n",
    "print(x)\n",
    "print(type(x)) \n",
    "\n",
    "# bytes\n",
    "x = bytes(5)\n",
    "\n",
    "print(x)\n",
    "print(type(x))  \n",
    "\n",
    "# bytearray\n",
    "x = bytearray(5)\n",
    "\n",
    "print(x)\n",
    "print(type(x)) \n",
    "\n",
    "# memoryview\n",
    "x = memoryview(bytes(5))\n",
    "\n",
    "print(x)\n",
    "print(type(x))"
   ]
  },
  {
   "cell_type": "markdown",
   "id": "676529c6",
   "metadata": {},
   "source": [
    "## Python Numbers\n",
    "\n",
    "There are three numeric types in Python:\n",
    "\n",
    "- int\n",
    "- float\n",
    "- complex\n",
    "\n",
    "Variables of numeric types are created when you assign a value to them:"
   ]
  },
  {
   "cell_type": "code",
   "execution_count": 52,
   "id": "dad9ce8d",
   "metadata": {},
   "outputs": [
    {
     "name": "stdout",
     "output_type": "stream",
     "text": [
      "<class 'int'>\n",
      "<class 'float'>\n",
      "<class 'complex'>\n"
     ]
    }
   ],
   "source": [
    "x = 1\n",
    "y = 2.8\n",
    "z = 1j\n",
    "\n",
    "print(type(x))\n",
    "print(type(y))\n",
    "print(type(z))"
   ]
  },
  {
   "cell_type": "markdown",
   "id": "08d03f7c",
   "metadata": {},
   "source": [
    "To verify the type of any object in Python, use the type() function:\n",
    "\n",
    "## Int\n",
    "\n",
    "Int, or integer, is a whole number, positive or negative, without decimals, of unlimited length."
   ]
  },
  {
   "cell_type": "code",
   "execution_count": 53,
   "id": "d644c62e",
   "metadata": {},
   "outputs": [
    {
     "name": "stdout",
     "output_type": "stream",
     "text": [
      "<class 'int'>\n",
      "<class 'int'>\n",
      "<class 'int'>\n"
     ]
    }
   ],
   "source": [
    "x = 1\n",
    "y = 35656222554887711\n",
    "z = -3255522\n",
    "\n",
    "print(type(x))\n",
    "print(type(y))\n",
    "print(type(z))"
   ]
  },
  {
   "cell_type": "markdown",
   "id": "24d7641f",
   "metadata": {},
   "source": [
    "## Float\n",
    "\n",
    "Float, or \"floating point number\" is a number, positive or negative, containing one or more decimals."
   ]
  },
  {
   "cell_type": "code",
   "execution_count": 54,
   "id": "12b38cb9",
   "metadata": {},
   "outputs": [
    {
     "name": "stdout",
     "output_type": "stream",
     "text": [
      "<class 'float'>\n",
      "<class 'float'>\n",
      "<class 'float'>\n"
     ]
    }
   ],
   "source": [
    "x = 1.10\n",
    "y = 1.0\n",
    "z = -35.59\n",
    "\n",
    "print(type(x))\n",
    "print(type(y))\n",
    "print(type(z))"
   ]
  },
  {
   "cell_type": "markdown",
   "id": "a26cdd1c",
   "metadata": {},
   "source": [
    "Float can also be scientific numbers with an \"e\" to indicate the power of 10."
   ]
  },
  {
   "cell_type": "code",
   "execution_count": 55,
   "id": "a45d6fb6",
   "metadata": {},
   "outputs": [
    {
     "name": "stdout",
     "output_type": "stream",
     "text": [
      "<class 'float'>\n",
      "<class 'float'>\n",
      "<class 'float'>\n"
     ]
    }
   ],
   "source": [
    "x = 35e3\n",
    "y = 12E4\n",
    "z = -87.7e100\n",
    "\n",
    "print(type(x))\n",
    "print(type(y))\n",
    "print(type(z))"
   ]
  },
  {
   "cell_type": "markdown",
   "id": "51198c56",
   "metadata": {},
   "source": [
    "## Complex\n",
    "\n",
    "Complex numbers are written with a \"j\" as the imaginary part:"
   ]
  },
  {
   "cell_type": "code",
   "execution_count": 56,
   "id": "b65c6b51",
   "metadata": {},
   "outputs": [
    {
     "name": "stdout",
     "output_type": "stream",
     "text": [
      "<class 'complex'>\n",
      "<class 'complex'>\n",
      "<class 'complex'>\n"
     ]
    }
   ],
   "source": [
    "x = 3+5j\n",
    "y = 5j\n",
    "z = -5j\n",
    "\n",
    "print(type(x))\n",
    "print(type(y))\n",
    "print(type(z))\n"
   ]
  },
  {
   "cell_type": "markdown",
   "id": "5a355752",
   "metadata": {},
   "source": [
    "## Type Conversion\n",
    "\n",
    "You can convert from one type to another with the int(), float(), and complex() methods:"
   ]
  },
  {
   "cell_type": "code",
   "execution_count": 57,
   "id": "17c61376",
   "metadata": {},
   "outputs": [
    {
     "name": "stdout",
     "output_type": "stream",
     "text": [
      "1.0\n",
      "2\n",
      "(1+0j)\n",
      "<class 'float'>\n",
      "<class 'int'>\n",
      "<class 'complex'>\n"
     ]
    }
   ],
   "source": [
    "#convert from int to float:\n",
    "x = float(1)\n",
    "\n",
    "#convert from float to int:\n",
    "y = int(2.8)\n",
    "\n",
    "#convert from int to complex:\n",
    "z = complex(1)\n",
    "\n",
    "print(x)\n",
    "print(y)\n",
    "print(z)\n",
    "\n",
    "print(type(x))\n",
    "print(type(y))\n",
    "print(type(z))"
   ]
  },
  {
   "cell_type": "markdown",
   "id": "a3d7700c",
   "metadata": {},
   "source": [
    "## Random Number\n",
    "\n",
    "Python does not have a `random()` function to make a random number, but Python has a built-in module called `random` that can be used to make random numbers:"
   ]
  },
  {
   "cell_type": "code",
   "execution_count": 58,
   "id": "211d8f6d",
   "metadata": {},
   "outputs": [
    {
     "name": "stdout",
     "output_type": "stream",
     "text": [
      "3\n"
     ]
    }
   ],
   "source": [
    "import random\n",
    "\n",
    "print(random.randrange(1, 16))"
   ]
  },
  {
   "cell_type": "markdown",
   "id": "f8bcb489",
   "metadata": {},
   "source": [
    "## Python Casting\n",
    "### Specify a Variable Type\n",
    "\n",
    "There may be times when you want to specify a type on to a variable. This can be done with casting. Python is an object-orientated language, and as such it uses classes to define data types, including its primitive types.\n",
    "\n",
    "Casting in python is therefore done using constructor functions:\n",
    "\n",
    "- `int()` - constructs an integer number from an integer literal, a float literal (by removing all decimals), or a string literal (providing the string represents a whole number)\n",
    "- `float()` - constructs a float number from an integer literal, a float literal or a string literal (providing the string represents a float or an integer)\n",
    "- `str()` - constructs a string from a wide variety of data types, including strings, integer literals and float literals"
   ]
  },
  {
   "cell_type": "code",
   "execution_count": 59,
   "id": "9d4aa3b8",
   "metadata": {},
   "outputs": [
    {
     "name": "stdout",
     "output_type": "stream",
     "text": [
      "1\n",
      "2\n",
      "3\n"
     ]
    }
   ],
   "source": [
    "x = int(1)\n",
    "y = int(2.8)\n",
    "z = int(\"3\")\n",
    "print(x)\n",
    "print(y)\n",
    "print(z)"
   ]
  },
  {
   "cell_type": "code",
   "execution_count": 60,
   "id": "e7d176ba",
   "metadata": {},
   "outputs": [
    {
     "name": "stdout",
     "output_type": "stream",
     "text": [
      "1.0\n",
      "2.8\n",
      "3.0\n",
      "4.2\n"
     ]
    }
   ],
   "source": [
    "x = float(1)\n",
    "y = float(2.8)\n",
    "z = float(\"3\")\n",
    "w = float(\"4.2\")\n",
    "print(x)\n",
    "print(y)\n",
    "print(z)\n",
    "print(w)\n"
   ]
  },
  {
   "cell_type": "code",
   "execution_count": 61,
   "id": "481970b5",
   "metadata": {},
   "outputs": [
    {
     "name": "stdout",
     "output_type": "stream",
     "text": [
      "s1\n",
      "2\n",
      "3.0\n"
     ]
    }
   ],
   "source": [
    "x = str(\"s1\")\n",
    "y = str(2)\n",
    "z = str(3.0)\n",
    "print(x)\n",
    "print(y)\n",
    "print(z)\n"
   ]
  },
  {
   "cell_type": "markdown",
   "id": "7ed4c4a3",
   "metadata": {},
   "source": [
    "## Python Strings\n",
    "### Strings\n",
    "\n",
    "Strings in python are surrounded by either single quotation marks, or double quotation marks.\n",
    "\n",
    "`'hello'` is the same as `\"hello\"`.\n",
    "\n",
    "You can display a string literal with the `print()` function:"
   ]
  },
  {
   "cell_type": "code",
   "execution_count": 62,
   "id": "39156c12",
   "metadata": {},
   "outputs": [
    {
     "name": "stdout",
     "output_type": "stream",
     "text": [
      "Hello\n",
      "Hello\n"
     ]
    }
   ],
   "source": [
    "print(\"Hello\")\n",
    "print('Hello')"
   ]
  },
  {
   "cell_type": "markdown",
   "id": "bb96f967",
   "metadata": {},
   "source": [
    "## Quotes Inside Quotes\n",
    "\n",
    "You can use quotes inside a string, as long as they don't match the quotes surrounding the string:"
   ]
  },
  {
   "cell_type": "code",
   "execution_count": 63,
   "id": "9cac7a71",
   "metadata": {},
   "outputs": [
    {
     "name": "stdout",
     "output_type": "stream",
     "text": [
      "It's alright\n",
      "He is called 'Johnny'\n",
      "He is called \"Johnny\"\n"
     ]
    }
   ],
   "source": [
    "print(\"It's alright\")\n",
    "print(\"He is called 'Johnny'\")\n",
    "print('He is called \"Johnny\"')"
   ]
  },
  {
   "cell_type": "markdown",
   "id": "561b5b41",
   "metadata": {},
   "source": [
    "## Assign String to a Variable\n",
    "\n",
    "Assigning a string to a variable is done with the variable name followed by an equal sign and the string:"
   ]
  },
  {
   "cell_type": "code",
   "execution_count": 64,
   "id": "258bd92d",
   "metadata": {},
   "outputs": [
    {
     "name": "stdout",
     "output_type": "stream",
     "text": [
      "Hello\n"
     ]
    }
   ],
   "source": [
    "a = \"Hello\"\n",
    "print(a)"
   ]
  },
  {
   "cell_type": "markdown",
   "id": "6cd319ae",
   "metadata": {},
   "source": [
    "## Multiline Strings\n",
    "\n",
    "You can assign a multiline string to a variable by using three quotes:"
   ]
  },
  {
   "cell_type": "code",
   "execution_count": 65,
   "id": "a8c17f85",
   "metadata": {},
   "outputs": [
    {
     "name": "stdout",
     "output_type": "stream",
     "text": [
      "Lorem ipsum dolor sit amet,\n",
      "consectetur adipiscing elit,\n",
      "sed do eiusmod tempor incididunt\n",
      "ut labore et dolore magna aliqua.\n"
     ]
    }
   ],
   "source": [
    "a = \"\"\"Lorem ipsum dolor sit amet,\n",
    "consectetur adipiscing elit,\n",
    "sed do eiusmod tempor incididunt\n",
    "ut labore et dolore magna aliqua.\"\"\"\n",
    "print(a)"
   ]
  },
  {
   "cell_type": "markdown",
   "id": "312870b1",
   "metadata": {},
   "source": [
    "Or three single quotes:"
   ]
  },
  {
   "cell_type": "code",
   "execution_count": 66,
   "id": "b6456b33",
   "metadata": {},
   "outputs": [
    {
     "name": "stdout",
     "output_type": "stream",
     "text": [
      "Lorem ipsum dolor sit amet,\n",
      "consectetur adipiscing elit,\n",
      "sed do eiusmod tempor incididunt\n",
      "ut labore et dolore magna aliqua.\n"
     ]
    }
   ],
   "source": [
    "a = '''Lorem ipsum dolor sit amet,\n",
    "consectetur adipiscing elit,\n",
    "sed do eiusmod tempor incididunt\n",
    "ut labore et dolore magna aliqua.'''\n",
    "print(a)"
   ]
  },
  {
   "cell_type": "markdown",
   "id": "52e406f7",
   "metadata": {},
   "source": [
    "### Strings are Arrays\n",
    "\n",
    "Like many other popular programming languages, strings in Python are arrays of unicode characters.\n",
    "\n",
    "However, Python does not have a character data type, a single character is simply a string with a length of 1.\n",
    "\n",
    "Square brackets can be used to access elements of the string."
   ]
  },
  {
   "cell_type": "code",
   "execution_count": 67,
   "id": "b4a0588a",
   "metadata": {},
   "outputs": [
    {
     "name": "stdout",
     "output_type": "stream",
     "text": [
      "e\n"
     ]
    }
   ],
   "source": [
    "a = \"Hello, World!\"\n",
    "print(a[1])"
   ]
  },
  {
   "cell_type": "markdown",
   "id": "ca5b4b68",
   "metadata": {},
   "source": [
    "### Looping Through a String\n",
    "\n",
    "Since strings are arrays, we can loop through the characters in a string, with a for loop."
   ]
  },
  {
   "cell_type": "code",
   "execution_count": 68,
   "id": "2bbed4de",
   "metadata": {},
   "outputs": [
    {
     "name": "stdout",
     "output_type": "stream",
     "text": [
      "b\n",
      "a\n",
      "n\n",
      "a\n",
      "n\n",
      "a\n"
     ]
    }
   ],
   "source": [
    "for x in \"banana\":\n",
    "    print(x) "
   ]
  },
  {
   "cell_type": "markdown",
   "id": "1435f92f",
   "metadata": {},
   "source": [
    "### String Length\n",
    "\n",
    "To get the length of a string, use the len() function."
   ]
  },
  {
   "cell_type": "code",
   "execution_count": 69,
   "id": "b584630a",
   "metadata": {},
   "outputs": [
    {
     "name": "stdout",
     "output_type": "stream",
     "text": [
      "13\n"
     ]
    }
   ],
   "source": [
    "a = \"Hello, World!\"\n",
    "print(len(a))"
   ]
  },
  {
   "cell_type": "markdown",
   "id": "7529b5fa",
   "metadata": {},
   "source": [
    "### Check String\n",
    "\n",
    "To check if a certain phrase or character is present in a string, we can use the keyword in."
   ]
  },
  {
   "cell_type": "code",
   "execution_count": 70,
   "id": "5e0b52cc",
   "metadata": {},
   "outputs": [
    {
     "name": "stdout",
     "output_type": "stream",
     "text": [
      "True\n"
     ]
    }
   ],
   "source": [
    "txt = \"The best things in life are free!\"\n",
    "print(\"free\" in txt)"
   ]
  },
  {
   "cell_type": "markdown",
   "id": "abfca88f",
   "metadata": {},
   "source": [
    "Use it in an if statement:"
   ]
  },
  {
   "cell_type": "code",
   "execution_count": 71,
   "id": "5158913e",
   "metadata": {},
   "outputs": [
    {
     "name": "stdout",
     "output_type": "stream",
     "text": [
      "Yes, 'free' is present.\n"
     ]
    }
   ],
   "source": [
    "txt = \"The best things in life are free!\"\n",
    "if \"free\" in txt:\n",
    "    print(\"Yes, 'free' is present.\")"
   ]
  },
  {
   "cell_type": "markdown",
   "id": "95445b4a",
   "metadata": {},
   "source": [
    "### Check if NOT\n",
    "\n",
    "To check if a certain phrase or character is NOT present in a string, we can use the keyword not in."
   ]
  },
  {
   "cell_type": "code",
   "execution_count": 72,
   "id": "d676d14e",
   "metadata": {},
   "outputs": [
    {
     "name": "stdout",
     "output_type": "stream",
     "text": [
      "True\n"
     ]
    }
   ],
   "source": [
    "txt = \"The best things in life are free!\"\n",
    "print(\"expensive\" not in txt)"
   ]
  },
  {
   "cell_type": "markdown",
   "id": "d6657a33",
   "metadata": {},
   "source": [
    "Use it in an `if` statement:"
   ]
  },
  {
   "cell_type": "code",
   "execution_count": 73,
   "id": "2392a175",
   "metadata": {},
   "outputs": [
    {
     "name": "stdout",
     "output_type": "stream",
     "text": [
      "No, 'expensive' is NOT present.\n"
     ]
    }
   ],
   "source": [
    "txt = \"The best things in life are free!\"\n",
    "if \"expensive\" not in txt:\n",
    "    print(\"No, 'expensive' is NOT present.\")"
   ]
  },
  {
   "cell_type": "markdown",
   "id": "58aed05f",
   "metadata": {},
   "source": [
    "# Python - Slicing Strings\n",
    "\n",
    "## Slicing\n",
    "\n",
    "You can return a range of characters by using the slice syntax.\n",
    "\n",
    "Specify the start index and the end index, separated by a colon, to return a part of the string."
   ]
  },
  {
   "cell_type": "code",
   "execution_count": 74,
   "id": "30174037",
   "metadata": {},
   "outputs": [
    {
     "name": "stdout",
     "output_type": "stream",
     "text": [
      "llo\n"
     ]
    }
   ],
   "source": [
    "b = \"Hello, World!\"\n",
    "print(b[2:5])"
   ]
  },
  {
   "cell_type": "markdown",
   "id": "9ebb9d46",
   "metadata": {},
   "source": [
    "## Slice From the Start\n",
    "\n",
    "By leaving out the start index, the range will start at the first character:"
   ]
  },
  {
   "cell_type": "code",
   "execution_count": 75,
   "id": "2cabb726",
   "metadata": {},
   "outputs": [
    {
     "name": "stdout",
     "output_type": "stream",
     "text": [
      "Hello\n"
     ]
    }
   ],
   "source": [
    "b = \"Hello, world!\"\n",
    "print(b[:5])"
   ]
  },
  {
   "cell_type": "markdown",
   "id": "49e767ed",
   "metadata": {},
   "source": [
    "## Slice To the End\n",
    "\n",
    "By leaving out the end index, the range will go to the end:"
   ]
  },
  {
   "cell_type": "code",
   "execution_count": 76,
   "id": "3451a9d4",
   "metadata": {},
   "outputs": [
    {
     "name": "stdout",
     "output_type": "stream",
     "text": [
      "llo world!\n"
     ]
    }
   ],
   "source": [
    "b = \"hello world!\"\n",
    "print(b[2:])"
   ]
  },
  {
   "cell_type": "markdown",
   "id": "e49ed8e7",
   "metadata": {},
   "source": [
    "## Negative Indexing\n",
    "\n",
    "Use negative indexes to start the slice from the end of the string:"
   ]
  },
  {
   "cell_type": "code",
   "execution_count": 77,
   "id": "4cbd211e",
   "metadata": {},
   "outputs": [
    {
     "name": "stdout",
     "output_type": "stream",
     "text": [
      "orl\n"
     ]
    }
   ],
   "source": [
    "b = \"Hello, world!\"\n",
    "print(b[-5:-2])"
   ]
  },
  {
   "cell_type": "markdown",
   "id": "b130957b",
   "metadata": {},
   "source": [
    "# Python - Modify Strings\n",
    "\n",
    "Python has a set of built-in methods that you can use on strings.\n",
    "\n",
    "## Upper Case"
   ]
  },
  {
   "cell_type": "code",
   "execution_count": 78,
   "id": "1d488b73",
   "metadata": {},
   "outputs": [
    {
     "name": "stdout",
     "output_type": "stream",
     "text": [
      "HELLO WORLD!\n"
     ]
    }
   ],
   "source": [
    "a = \"Hello world!\"\n",
    "print(a.upper())"
   ]
  },
  {
   "cell_type": "markdown",
   "id": "cf3c2359",
   "metadata": {},
   "source": [
    "## Lower Case"
   ]
  },
  {
   "cell_type": "code",
   "execution_count": 79,
   "id": "cca93023",
   "metadata": {},
   "outputs": [
    {
     "name": "stdout",
     "output_type": "stream",
     "text": [
      "hello, world!\n"
     ]
    }
   ],
   "source": [
    "a = \"Hello, world!\"\n",
    "print(a.lower())"
   ]
  },
  {
   "cell_type": "markdown",
   "id": "bf94e9a3",
   "metadata": {},
   "source": [
    "## Remove Whitespace\n",
    "\n",
    "Whitespace is the space before and/or after the actual text, and very often you want to remove this space."
   ]
  },
  {
   "cell_type": "code",
   "execution_count": 80,
   "id": "ba6ea6fa",
   "metadata": {},
   "outputs": [
    {
     "name": "stdout",
     "output_type": "stream",
     "text": [
      "Hello, World!\n"
     ]
    }
   ],
   "source": [
    "a = \" Hello, World! \"\n",
    "print(a.strip())"
   ]
  },
  {
   "cell_type": "markdown",
   "id": "7b23955e",
   "metadata": {},
   "source": [
    "## Replace String"
   ]
  },
  {
   "cell_type": "code",
   "execution_count": 81,
   "id": "cf9a5ca7",
   "metadata": {},
   "outputs": [
    {
     "name": "stdout",
     "output_type": "stream",
     "text": [
      "Jello, World!\n"
     ]
    }
   ],
   "source": [
    "a = \"Hello, World!\"\n",
    "print(a.replace(\"H\", \"J\"))"
   ]
  },
  {
   "cell_type": "markdown",
   "id": "6fc4bcb6",
   "metadata": {},
   "source": [
    "## Split String\n",
    "\n",
    "The `split()` method returns a list where the text between the specified separator becomes the list items."
   ]
  },
  {
   "cell_type": "code",
   "execution_count": 82,
   "id": "5f776afd",
   "metadata": {},
   "outputs": [
    {
     "name": "stdout",
     "output_type": "stream",
     "text": [
      "['Hello', ' World!']\n"
     ]
    }
   ],
   "source": [
    "a = \"Hello, World!\"\n",
    "print(a.split(\",\")) # returns ['Hello', ' World!']"
   ]
  },
  {
   "cell_type": "code",
   "execution_count": 83,
   "id": "abf473d8",
   "metadata": {},
   "outputs": [
    {
     "name": "stdout",
     "output_type": "stream",
     "text": [
      "Hello, world!\n"
     ]
    }
   ],
   "source": [
    "a = \"hello, world!\"\n",
    "print(a.capitalize()) # returns ['Hello', ' World!']"
   ]
  },
  {
   "cell_type": "markdown",
   "id": "3cfb6515",
   "metadata": {},
   "source": [
    "# String Concatenation\n",
    "\n",
    "To concatenate, or combine, two strings you can use the + operator."
   ]
  },
  {
   "cell_type": "code",
   "execution_count": 84,
   "id": "e49c0f72",
   "metadata": {},
   "outputs": [
    {
     "name": "stdout",
     "output_type": "stream",
     "text": [
      "HelloWorld\n"
     ]
    }
   ],
   "source": [
    "a = \"Hello\"\n",
    "b = \"World\"\n",
    "c = a + b\n",
    "print(c)"
   ]
  },
  {
   "cell_type": "code",
   "execution_count": 85,
   "id": "67287208",
   "metadata": {},
   "outputs": [
    {
     "name": "stdout",
     "output_type": "stream",
     "text": [
      "Hello World\n"
     ]
    }
   ],
   "source": [
    "# To add a space between them, add a \" \":\n",
    "\n",
    "a = \"Hello\"\n",
    "b = \"World\"\n",
    "c = a + \" \" + b\n",
    "print(c)"
   ]
  },
  {
   "cell_type": "markdown",
   "id": "6dd50385",
   "metadata": {},
   "source": [
    "# Python - Format - Strings\n",
    "\n",
    "## String Format\n",
    "\n",
    "As we learned in the Python Variables chapter, we cannot combine strings and numbers like this:"
   ]
  },
  {
   "cell_type": "code",
   "execution_count": 86,
   "id": "49d8fff2",
   "metadata": {},
   "outputs": [
    {
     "ename": "TypeError",
     "evalue": "can only concatenate str (not \"int\") to str",
     "output_type": "error",
     "traceback": [
      "\u001b[31m---------------------------------------------------------------------------\u001b[39m",
      "\u001b[31mTypeError\u001b[39m                                 Traceback (most recent call last)",
      "\u001b[36mCell\u001b[39m\u001b[36m \u001b[39m\u001b[32mIn[86]\u001b[39m\u001b[32m, line 3\u001b[39m\n\u001b[32m      1\u001b[39m age = \u001b[32m36\u001b[39m\n\u001b[32m      2\u001b[39m \u001b[38;5;66;03m#This will produce an error:\u001b[39;00m\n\u001b[32m----> \u001b[39m\u001b[32m3\u001b[39m txt = \u001b[33;43m\"\u001b[39;49m\u001b[33;43mMy name is John, I am \u001b[39;49m\u001b[33;43m\"\u001b[39;49m\u001b[43m \u001b[49m\u001b[43m+\u001b[49m\u001b[43m \u001b[49m\u001b[43mage\u001b[49m\n\u001b[32m      4\u001b[39m \u001b[38;5;28mprint\u001b[39m(txt)\n",
      "\u001b[31mTypeError\u001b[39m: can only concatenate str (not \"int\") to str"
     ]
    }
   ],
   "source": [
    "age = 36\n",
    "#This will produce an error:\n",
    "txt = \"My name is John, I am \" + age\n",
    "print(txt)"
   ]
  },
  {
   "cell_type": "markdown",
   "id": "372a92b6",
   "metadata": {},
   "source": [
    "But we can combine strings and numbers by using f-strings or the format() method!\n",
    "\n",
    "## F-Strings\n",
    "\n",
    "F-String was introduced in Python 3.6, and is now the preferred way of formatting strings.\n",
    "\n",
    "To specify a string as an f-string, simply put an `f` in front of the string literal, and add curly brackets ``{}`` as placeholders for variables and other operations."
   ]
  },
  {
   "cell_type": "code",
   "execution_count": null,
   "id": "0a748eea",
   "metadata": {},
   "outputs": [
    {
     "name": "stdout",
     "output_type": "stream",
     "text": [
      "My name is John, I am 36\n"
     ]
    }
   ],
   "source": [
    "age = 36\n",
    "txt = f\"My name is John, I am {age}\"\n",
    "print(txt)"
   ]
  },
  {
   "cell_type": "markdown",
   "id": "b0636c1d",
   "metadata": {},
   "source": [
    "## Placeholders and Modifiers\n",
    "\n",
    "A placeholder can contain variables, operations, functions, and modifiers to format the value."
   ]
  },
  {
   "cell_type": "code",
   "execution_count": null,
   "id": "694a6c55",
   "metadata": {},
   "outputs": [
    {
     "name": "stdout",
     "output_type": "stream",
     "text": [
      "The price is 59 dollars\n"
     ]
    }
   ],
   "source": [
    "price = 59\n",
    "txt = f\"The price is {price} dollars\"\n",
    "print(txt)"
   ]
  },
  {
   "cell_type": "markdown",
   "id": "87439389",
   "metadata": {},
   "source": [
    "A placeholder can include a modifier to format the value.\n",
    "\n",
    "A modifier is included by adding a colon `:` followed by a legal formatting type, like `.2f` which means fixed point number with 2 decimals:"
   ]
  },
  {
   "cell_type": "code",
   "execution_count": null,
   "id": "f1d2005c",
   "metadata": {},
   "outputs": [
    {
     "name": "stdout",
     "output_type": "stream",
     "text": [
      "The price is 59.00 dollars\n"
     ]
    }
   ],
   "source": [
    "price = 59\n",
    "txt = f\"The price is {price:.2f} dollars\"\n",
    "print(txt)"
   ]
  },
  {
   "cell_type": "markdown",
   "id": "72d31273",
   "metadata": {},
   "source": [
    "A placeholder can contain Python code, like math operations:"
   ]
  },
  {
   "cell_type": "code",
   "execution_count": null,
   "id": "2b40afce",
   "metadata": {},
   "outputs": [
    {
     "name": "stdout",
     "output_type": "stream",
     "text": [
      "The price is 1180 dollars\n"
     ]
    }
   ],
   "source": [
    "txt = f\"The price is {20 * 59} dollars\"\n",
    "print(txt)"
   ]
  },
  {
   "cell_type": "markdown",
   "id": "093e669c",
   "metadata": {},
   "source": [
    "## Escape Character\n",
    "\n",
    "To insert characters that are illegal in a string, use an escape character.\n",
    "\n",
    "An escape character is a backslash `\\` followed by the character you want to insert.\n",
    "\n",
    "An example of an illegal character is a double quote inside a string that is surrounded by double quotes:\n",
    "\n",
    "To fix this problem, use the escape character `\\\"`:"
   ]
  },
  {
   "cell_type": "code",
   "execution_count": null,
   "id": "d44bf7d6",
   "metadata": {},
   "outputs": [
    {
     "name": "stdout",
     "output_type": "stream",
     "text": [
      "We are the so-called \"Vikings\" from the north.\n"
     ]
    }
   ],
   "source": [
    "txt = \"We are the so-called \\\"Vikings\\\" from the north.\"\n",
    "print(txt) "
   ]
  },
  {
   "cell_type": "markdown",
   "id": "0d38433f",
   "metadata": {},
   "source": [
    "Escape Characters\n",
    "Other escape characters used in Python:\n",
    "\n",
    "| Code | Result |\n",
    "|---|---|\n",
    "| \\' | Single Quote |\t\n",
    "| \\\\ | Backslash | \n",
    "| \\n | New Line|\t\n",
    "| \\r | Carriage Return |\n",
    "| \\t | Tab |\t\n",
    "| \\b | Backspace |\t\n",
    "| \\f | Form Feed |\t\n",
    "| \\ooo | Octal value |\t\n",
    "| \\xhh | Hex value |"
   ]
  },
  {
   "cell_type": "code",
   "execution_count": null,
   "id": "bc97503f",
   "metadata": {},
   "outputs": [
    {
     "name": "stdout",
     "output_type": "stream",
     "text": [
      "It's alright.\n",
      "This will insert one \\ (backslash).\n",
      "Hello\n",
      "World!\n",
      "World!\n",
      "Hello\tWorld!\n",
      "HelloWorld!\n",
      "Hello\n",
      "Hello\n"
     ]
    }
   ],
   "source": [
    "# Single Quote\n",
    "txt = 'It\\'s alright.'\n",
    "print(txt) \n",
    "\n",
    "# Backslash\n",
    "txt = \"This will insert one \\\\ (backslash).\"\n",
    "print(txt) \n",
    "\n",
    "# New Line\n",
    "txt = \"Hello\\nWorld!\"\n",
    "print(txt)\n",
    "\n",
    "# Carriage Return\n",
    "txt = \"Hello\\rWorld!\"\n",
    "print(txt) \n",
    "\n",
    "# Tab\n",
    "txt = \"Hello\\tWorld!\"\n",
    "print(txt) \n",
    "\n",
    "# Backspace\n",
    "txt = \"Hello \\bWorld!\"\n",
    "print(txt) \n",
    "\t\n",
    "# Octal value\n",
    "txt = \"\\110\\145\\154\\154\\157\"\n",
    "print(txt)\n",
    "\n",
    "# Hex value\n",
    "txt = \"\\x48\\x65\\x6c\\x6c\\x6f\"\n",
    "print(txt)"
   ]
  },
  {
   "cell_type": "markdown",
   "id": "964c3d15",
   "metadata": {},
   "source": [
    "# Python - String Methods\n",
    "\n",
    "## String Methods\n",
    "\n",
    "Python has a set of built-in methods that you can use on strings."
   ]
  },
  {
   "cell_type": "markdown",
   "id": "ad0449a9",
   "metadata": {},
   "source": []
  },
  {
   "cell_type": "code",
   "execution_count": null,
   "id": "b27c5f73",
   "metadata": {},
   "outputs": [
    {
     "name": "stdout",
     "output_type": "stream",
     "text": [
      " mi nombre es John y tengo 36\n",
      "36\n"
     ]
    }
   ],
   "source": [
    "class Person:\n",
    "  def __init__(self, name, age):\n",
    "    self.name = name\n",
    "    self.age = age\n",
    "\n",
    "p1 = Person(\"John\", 36)\n",
    "\n",
    "print(f\" mi nombre es {p1.name} y tengo {p1.age}\")\n",
    "print(p1.age)"
   ]
  },
  {
   "cell_type": "markdown",
   "id": "cc60fcbf",
   "metadata": {},
   "source": [
    "# Python - String Methods\n",
    "## String Methods\n",
    "Python has a set of built-in methods that you can use on strings."
   ]
  },
  {
   "cell_type": "code",
   "execution_count": null,
   "id": "e4bde7f9",
   "metadata": {},
   "outputs": [
    {
     "name": "stdout",
     "output_type": "stream",
     "text": [
      "Hello, and welcome to my world.\n",
      "hello, and welcome to my world!\n",
      "       banana       \n",
      "2\n",
      "b'My name is St\\xc3\\xa5le'\n",
      "True\n"
     ]
    }
   ],
   "source": [
    "# capitalize() = Converts the first character to upper case\n",
    "txt = \"hello, and welcome to my world.\"\n",
    "x = txt.capitalize()\n",
    "print (x)\n",
    "\n",
    "# casefold() = Converts string into lower case\n",
    "txt = \"Hello, And Welcome To My World!\"\n",
    "x = txt.casefold()\n",
    "print(x)\n",
    "\n",
    "# center() = Returns a centered string\n",
    "txt = \"banana\"\n",
    "x = txt.center(20)\n",
    "print(x)\n",
    "\n",
    "# count() = Returns the number of times a specified value occurs in a string\n",
    "txt = \"I love apples, apple are my favorite fruit\"\n",
    "x = txt.count(\"apple\")\n",
    "print(x)\n",
    "\n",
    "# encode() = Returns an encoded version of the string\n",
    "txt = \"My name is Ståle\"\n",
    "x = txt.encode()\n",
    "print(x)\n",
    "\n",
    "# endswith() = Returns true if the string ends with the specified value\n",
    "txt = \"Hello, welcome to my world.\"\n",
    "x = txt.endswith(\".\")\n",
    "print(x)"
   ]
  },
  {
   "cell_type": "code",
   "execution_count": null,
   "id": "a5c7e1a3",
   "metadata": {},
   "outputs": [
    {
     "name": "stdout",
     "output_type": "stream",
     "text": [
      "H e l l o\n",
      "7\n",
      "For only 49.00 dollars!\n",
      "Hola, me llamo Mario, tengo 30 años y vivo en Bogotá.\n",
      "7\n",
      "True\n",
      "True\n",
      "True\n",
      "True\n",
      "True\n",
      "True\n",
      "True\n",
      "True\n",
      "True\n",
      "True\n",
      "True\n",
      "True\n",
      "John#Peter#Vicky\n",
      "banana               is my favorite fruit.\n",
      "hello my friends\n",
      "of all fruits banana      is my favorite\n",
      "Hello Pam!\n",
      "('I could eat ', 'bananas', ' all day')\n",
      "I like apples\n",
      "12\n",
      "12\n"
     ]
    }
   ],
   "source": [
    "# expandtabs() = Sets the tab size of the string\n",
    "txt = \"H\\te\\tl\\tl\\to\"\n",
    "x =  txt.expandtabs(2)\n",
    "print(x)\n",
    "\n",
    "# find() = Searches the string for a specified value and returns the position of where it was found\n",
    "txt = \"Hello, welcome to my world.\"\n",
    "x = txt.find(\"welcome\")\n",
    "print(x)\n",
    "\n",
    "# format() = Formats specified values in a string\n",
    "txt = \"For only {price:.2f} dollars!\"\n",
    "print(txt.format(price = 49))\n",
    "\n",
    "# format_map() = Formats specified values in a string\n",
    "persona = {\n",
    "    \"nombre\": \"Mario\",\n",
    "    \"edad\": 30,\n",
    "    \"ciudad\": \"Bogotá\"\n",
    "}\n",
    "\n",
    "mensaje = \"Hola, me llamo {nombre}, tengo {edad} años y vivo en {ciudad}.\".format_map(persona)\n",
    "print(mensaje)\n",
    "\n",
    "# index() = Searches the string for a specified value and returns the position of where it was found\n",
    "txt = \"Hello, welcome to my world.\"\n",
    "x = txt.index(\"welcome\")\n",
    "print(x)\n",
    "\n",
    "# isalnum() = Returns True if all characters in the string are alphanumeric\n",
    "txt = \"Company12\"\n",
    "x = txt.isalnum()\n",
    "print(x)\n",
    "\n",
    "# isalpha() = Returns True if all characters in the string are in the alphabet\n",
    "txt = \"CompanyX\"\n",
    "x = txt.isalpha()\n",
    "print(x)\n",
    "\n",
    "# isascii() = Returns True if all characters in the string are ascii characters\n",
    "txt = \"Company123\"\n",
    "x = txt.isascii()\n",
    "print(x)\n",
    "\n",
    "# isdecimal() = Returns True if all characters in the string are decimals\n",
    "txt = \"1234\"\n",
    "x = txt.isdecimal()\n",
    "print(x)\n",
    "\n",
    "# isdigit() = Returns True if all characters in the string are digits\n",
    "txt = \"50800\"\n",
    "x = txt.isdigit()\n",
    "print(x)\n",
    "\n",
    "# isidentifier() = Returns True if the string is an identifier\n",
    "txt = \"hello world!\"\n",
    "x = txt.islower()\n",
    "print(x)\n",
    "\n",
    "# islower() = Returns True if all characters in the string are lower case\n",
    "txt = \"hello world!\"\n",
    "x = txt.islower()\n",
    "print(x)\n",
    "\n",
    "# isnumeric() = Returns True if all characters in the string are numeric\n",
    "txt = \"565543\"\n",
    "x = txt.isnumeric()\n",
    "print(x)\n",
    "\n",
    "# isprintable() = Returns True if all characters in the string are printable\n",
    "txt = \"Hello! Are you #1?\"\n",
    "x = txt.isprintable()\n",
    "print(x)\n",
    "\n",
    "# isspace() = Returns True if all characters in the string are whitespaces\n",
    "txt = \"  \"\n",
    "x = txt.isspace()\n",
    "print(x)\n",
    "\n",
    "# istitle() = Returns True if the string follows the rules of a title\n",
    "txt = \"Hello, And Welcome To My World!\"\n",
    "x = txt.istitle()\n",
    "print(x)\n",
    "\n",
    "# isupper() = Returns True if all characters in the string are upper case\n",
    "txt = \"THIS IS NOW!\"\n",
    "x = txt.isupper()\n",
    "print(x)\n",
    "\n",
    "# join() = Joins the elements of an iterable to the end of the string\n",
    "myTuple = (\"John\", \"Peter\", \"Vicky\")\n",
    "x = \"#\".join(myTuple)\n",
    "print(x)\n",
    "\n",
    "# ljust() = Returns a left justified version of the string\n",
    "txt = \"banana\"\n",
    "x = txt.ljust(20)\n",
    "print(x, \"is my favorite fruit.\")\n",
    "\n",
    "# lower() = Converts a string into lower case\n",
    "txt = \"Hello my FRIENDS\"\n",
    "x = txt.lower()\n",
    "print(x)\n",
    "\n",
    "# lstrip() = Returns a left trim version of the string\n",
    "txt = \"     banana     \"\n",
    "x = txt.lstrip()\n",
    "print(\"of all fruits\", x, \"is my favorite\")\n",
    "\n",
    "# maketrans() = Returns a translation table to be used in translations\n",
    "txt = \"Hello Sam!\"\n",
    "mytable = str.maketrans(\"S\", \"P\")\n",
    "print(txt.translate(mytable))\n",
    "\n",
    "# partition() = Returns a tuple where the string is parted into three parts\n",
    "txt = \"I could eat bananas all day\"\n",
    "x = txt.partition(\"bananas\")\n",
    "print(x)\n",
    "\n",
    "# replace() = Returns a string where a specified value is replaced with a specified value\n",
    "txt = \"I like bananas\"\n",
    "x = txt.replace(\"bananas\", \"apples\")\n",
    "print(x)\n",
    "\n",
    "#  rfind() = Searches the string for a specified value and returns the last position of where it was found\n",
    "txt = \"Mi casa, su casa.\"\n",
    "x = txt.rfind(\"casa\")\n",
    "print(x)\n",
    "\n",
    "# rindex() = Searches the string for a specified value and returns the last position of where it was found\n",
    "txt = \"Mi casa, su casa.\"\n",
    "x = txt.rindex(\"casa\")\n",
    "print(x)\n",
    "\n"
   ]
  },
  {
   "cell_type": "code",
   "execution_count": null,
   "id": "4b5f51f8",
   "metadata": {},
   "outputs": [
    {
     "name": "stdout",
     "output_type": "stream",
     "text": [
      "              banana is my favorite fruit.\n",
      "('I could eat bananas all day, ', 'bananas', ' are my favorite fruit')\n",
      "['apple', 'banana', 'cherry']\n",
      "of all fruits      banana is my favorite\n",
      "['welcome', 'to', 'the', 'jungle']\n",
      "['Thank you for the music', 'Welcome to the jungle']\n",
      "True\n",
      "of all fruits banana is my favorite\n",
      "hELLO mY nAME iS peter\n",
      "Welcome To My World\n",
      "Hello Pam!\n",
      "HELLO MY FRIENDS\n",
      "0000000050\n"
     ]
    }
   ],
   "source": [
    "# rjust() = Returns a right justified version of the string\n",
    "txt = \"banana\"\n",
    "x = txt.rjust(20)\n",
    "print(x, \"is my favorite fruit.\")\n",
    "\n",
    "# rpartition() = Returns a tuple where the string is parted into three parts\n",
    "txt = \"I could eat bananas all day, bananas are my favorite fruit\"\n",
    "x = txt.rpartition(\"bananas\")\n",
    "print(x)\n",
    "\n",
    "# rsplit() = Splits the string at the specified separator, and returns a list\n",
    "txt = \"apple, banana, cherry\"\n",
    "x = txt.rsplit(\", \")\n",
    "print(x)\n",
    "\n",
    "# rstrip() = Returns a right trim version of the string\n",
    "txt = \"     banana     \"\n",
    "x = txt.rstrip()\n",
    "print(\"of all fruits\", x, \"is my favorite\")\n",
    "\n",
    "# split() = Splits the string at the specified separator, and returns a list\n",
    "txt = \"welcome to the jungle\"\n",
    "x = txt.split()\n",
    "print(x)\n",
    "\n",
    "# splitlines() = Splits the string at line breaks and returns a list\n",
    "txt = \"Thank you for the music\\nWelcome to the jungle\"\n",
    "x = txt.splitlines()\n",
    "print(x)\n",
    "\n",
    "# startswith() = Returns true if the string starts with the specified value\n",
    "txt = \"Hello, welcome to my world.\"\n",
    "x = txt.startswith(\"Hello\")\n",
    "print(x)\n",
    "\n",
    "# strip() = Returns a trimmed version of the string\n",
    "txt = \"     banana     \"\n",
    "x = txt.strip()\n",
    "print(\"of all fruits\", x, \"is my favorite\")\n",
    "\n",
    "# swapcase() = Swaps cases, lower case becomes upper case and vice versa\n",
    "txt = \"Hello My Name Is PETER\"\n",
    "x = txt.swapcase()\n",
    "print(x)\n",
    "\n",
    "# title() = Converts the first character of each word to upper case\n",
    "txt = \"Welcome to my world\"\n",
    "x = txt.title()\n",
    "print(x)\n",
    "\n",
    "# translate() = Returns a translated string\n",
    "#use a dictionary with ascii codes to replace 83 (S) with 80 (P):\n",
    "mydict = {83:  80}\n",
    "txt = \"Hello Sam!\"\n",
    "print(txt.translate(mydict))\n",
    "\n",
    "# upper() = Converts a string into upper case\n",
    "txt = \"Hello my friends\"\n",
    "x = txt.upper()\n",
    "print(x)\n",
    "\n",
    "# zfill() = Fills the string with a specified number of 0 values at the beginning\n",
    "txt = \"50\"\n",
    "x = txt.zfill(10)\n",
    "print(x)"
   ]
  },
  {
   "cell_type": "markdown",
   "id": "f20fcbfe",
   "metadata": {},
   "source": [
    "# Python Booleans\n",
    "\n",
    "Booleans represent one of two values: `True` or `False`.\n",
    "\n",
    "## Boolean Values\n",
    "\n",
    "In programming you often need to know if an expression is ``True`` or ``False``.\n",
    "\n",
    "You can evaluate any expression in Python, and get one of two answers, True or False.\n",
    "\n",
    "When you compare two values, the expression is evaluated and Python returns the Boolean answer:"
   ]
  },
  {
   "cell_type": "code",
   "execution_count": null,
   "id": "c035499b",
   "metadata": {},
   "outputs": [
    {
     "name": "stdout",
     "output_type": "stream",
     "text": [
      "True\n",
      "False\n",
      "False\n"
     ]
    }
   ],
   "source": [
    "print(10 > 9)\n",
    "print(10 == 9)\n",
    "print(10 < 9)"
   ]
  },
  {
   "cell_type": "markdown",
   "id": "2ee11bf6",
   "metadata": {},
   "source": [
    "When you run a condition in an if statement, Python returns `True` or `False`:"
   ]
  },
  {
   "cell_type": "code",
   "execution_count": null,
   "id": "d414b4d9",
   "metadata": {},
   "outputs": [
    {
     "name": "stdout",
     "output_type": "stream",
     "text": [
      "b is not greater than a\n"
     ]
    }
   ],
   "source": [
    "a = 200\n",
    "b = 33\n",
    "\n",
    "if b > a:\n",
    "  print(\"b is greater than a\")\n",
    "else:\n",
    "  print(\"b is not greater than a\")"
   ]
  },
  {
   "cell_type": "markdown",
   "id": "454ba38f",
   "metadata": {},
   "source": [
    "## Evaluate Values and Variables\n",
    "\n",
    "The `bool()` function allows you to evaluate any value, and give you `True` or `False` in return,"
   ]
  },
  {
   "cell_type": "code",
   "execution_count": null,
   "id": "b190dd17",
   "metadata": {},
   "outputs": [
    {
     "name": "stdout",
     "output_type": "stream",
     "text": [
      "True\n",
      "True\n"
     ]
    }
   ],
   "source": [
    "print(bool(\"Hello\"))\n",
    "print(bool(15))"
   ]
  },
  {
   "cell_type": "code",
   "execution_count": null,
   "id": "d48cd94d",
   "metadata": {},
   "outputs": [
    {
     "name": "stdout",
     "output_type": "stream",
     "text": [
      "True\n",
      "True\n"
     ]
    }
   ],
   "source": [
    "x = \"Hello\"\n",
    "y = 15\n",
    "\n",
    "print(bool(x))\n",
    "print(bool(y))"
   ]
  },
  {
   "cell_type": "markdown",
   "id": "d564e7fa",
   "metadata": {},
   "source": [
    "## Most Values are True\n",
    "\n",
    "Almost any value is evaluated to `True` if it has some sort of content.\n",
    "\n",
    "Any string is `True`, except empty strings.\n",
    "\n",
    "Any number is `True`, except `0`.\n",
    "\n",
    "Any list, tuple, set, and dictionary are `True`, except empty ones."
   ]
  },
  {
   "cell_type": "code",
   "execution_count": null,
   "id": "667f6bfe",
   "metadata": {},
   "outputs": [
    {
     "name": "stdout",
     "output_type": "stream",
     "text": [
      "True\n",
      "True\n",
      "True\n"
     ]
    }
   ],
   "source": [
    "print(bool(\"abc\"))\n",
    "print(bool(123))\n",
    "print(bool([\"apple\", \"cherry\", \"banana\"]))"
   ]
  },
  {
   "cell_type": "markdown",
   "id": "0dca0158",
   "metadata": {},
   "source": [
    "## Some Values are False\n",
    "\n",
    "In fact, there are not many values that evaluate to `False`, except empty values, such as `()`, `[]`, `{}`, \"\", the number `0`, and the value `None`. And of course the value `False` evaluates to `False`."
   ]
  },
  {
   "cell_type": "code",
   "execution_count": null,
   "id": "d8586964",
   "metadata": {},
   "outputs": [
    {
     "name": "stdout",
     "output_type": "stream",
     "text": [
      "False\n",
      "False\n",
      "False\n",
      "False\n",
      "False\n",
      "False\n",
      "False\n"
     ]
    }
   ],
   "source": [
    "print(bool(False))\n",
    "print(bool(None))\n",
    "print(bool(0))\n",
    "print(bool(\"\"))\n",
    "print(bool(()))\n",
    "print(bool([]))\n",
    "print(bool({}))"
   ]
  },
  {
   "cell_type": "markdown",
   "id": "7566f137",
   "metadata": {},
   "source": [
    "One more value, or object in this case, evaluates to `False`, and that is if you have an object that is made from a class with a `__len__` function that returns `0` or `False`:"
   ]
  },
  {
   "cell_type": "code",
   "execution_count": null,
   "id": "70acde78",
   "metadata": {},
   "outputs": [
    {
     "name": "stdout",
     "output_type": "stream",
     "text": [
      "False\n"
     ]
    }
   ],
   "source": [
    "class myclass():\n",
    "  def __len__(self):\n",
    "    return 0\n",
    "\n",
    "myobj = myclass()\n",
    "print(bool(myobj))"
   ]
  },
  {
   "cell_type": "markdown",
   "id": "d949c743",
   "metadata": {},
   "source": [
    "## Functions can Return a Boolean\n",
    "\n",
    "You can create functions that returns a Boolean Value:"
   ]
  },
  {
   "cell_type": "code",
   "execution_count": null,
   "id": "9edfbf7b",
   "metadata": {},
   "outputs": [
    {
     "name": "stdout",
     "output_type": "stream",
     "text": [
      "True\n"
     ]
    }
   ],
   "source": [
    "def myFunction() :\n",
    "  return True\n",
    "\n",
    "print(myFunction())"
   ]
  },
  {
   "cell_type": "markdown",
   "id": "b16bba72",
   "metadata": {},
   "source": [
    "You can execute code based on the Boolean answer of a function:"
   ]
  },
  {
   "cell_type": "code",
   "execution_count": null,
   "id": "13b60739",
   "metadata": {},
   "outputs": [
    {
     "name": "stdout",
     "output_type": "stream",
     "text": [
      "YES!\n"
     ]
    }
   ],
   "source": [
    "def myFunction() :\n",
    "  return True\n",
    "\n",
    "if myFunction():\n",
    "  print(\"YES!\")\n",
    "else:\n",
    "  print(\"NO!\")"
   ]
  },
  {
   "cell_type": "markdown",
   "id": "5982d1fe",
   "metadata": {},
   "source": [
    "Python also has many built-in functions that return a boolean value, like the `isinstance()` function, which can be used to determine if an object is of a certain data type:"
   ]
  },
  {
   "cell_type": "code",
   "execution_count": null,
   "id": "51292246",
   "metadata": {},
   "outputs": [
    {
     "name": "stdout",
     "output_type": "stream",
     "text": [
      "True\n"
     ]
    }
   ],
   "source": [
    "x = 200\n",
    "print(isinstance(x, int))"
   ]
  },
  {
   "cell_type": "markdown",
   "id": "79877b2c",
   "metadata": {},
   "source": [
    "# Python Arithmetic Operators\n",
    "\n",
    "Arithmetic operators are used with numeric values to perform common mathematical operations:"
   ]
  },
  {
   "cell_type": "markdown",
   "id": "374f8b80",
   "metadata": {},
   "source": [
    "| Operator | Name | Example |\n",
    "|---|---|---|\n",
    "| + | Addition | x + y |\n",
    "| - | Subtraction | x - y |\t\n",
    "| * | Multiplication | x * y |\n",
    "| / | Division | x / y |\t\n",
    "| %| Modulus | x % y |\t\n",
    "| ** | Exponentiation | x ** y |\n",
    "| // | Floor division | x // y |"
   ]
  },
  {
   "cell_type": "code",
   "execution_count": null,
   "id": "5562020f",
   "metadata": {},
   "outputs": [
    {
     "name": "stdout",
     "output_type": "stream",
     "text": [
      "8\n",
      "2\n",
      "15\n",
      "4.0\n",
      "2\n",
      "32\n",
      "7\n"
     ]
    }
   ],
   "source": [
    "# +\tAddition\tx + y\n",
    "x = 5\n",
    "y = 3\n",
    "print(x + y)\n",
    "\n",
    "# -\tSubtraction\tx - y\n",
    "x = 5\n",
    "y = 3\n",
    "print(x - y)\n",
    "\t\n",
    "# *\tMultiplication\tx * y\n",
    "x = 5\n",
    "y = 3\n",
    "print(x * y)\n",
    "\n",
    "# /\tDivision\tx / y\n",
    "x = 12\n",
    "y = 3\n",
    "print(x / y)\n",
    "\t\n",
    "# %\tModulus\tx % y\n",
    "x = 2\n",
    "y = 5\n",
    "print(x % y) #same as 2*2*2*2*2\n",
    "\n",
    "# **\tExponentiation\tx ** y\n",
    "x = 2\n",
    "y = 5\n",
    "print(x ** y) #same as 2*2*2*2*2\n",
    "\n",
    "# //\tFloor division\tx // y\n",
    "x = 15\n",
    "y = 2\n",
    "print(x // y)"
   ]
  },
  {
   "cell_type": "markdown",
   "id": "3a2b940a",
   "metadata": {},
   "source": [
    "# Python Assignment Operators\n",
    "\n",
    "Assignment operators are used to assign values to variables:"
   ]
  },
  {
   "cell_type": "markdown",
   "id": "471925cb",
   "metadata": {},
   "source": [
    "| Operator | Example | Same As |\n",
    "|---|---|---|\n",
    "| = | x = 5 | x = 5 | \n",
    "| += | x += 3 | x = x + 3\n",
    "| -= | x -= 3 | x = x - 3 |\n",
    "| *= | x *= 3 | x = x * 3 |\t\n",
    "| /= | x /= 3 | x = x / 3 |\n",
    "| %= | x %= 3 | x = x % 3 |\n",
    "| //= | x //= 3 | x = x // 3 |\n",
    "| **= | x **= 3 | x = x ** 3 |\n",
    "| &= | x &= 3 | x = x & 3 |\n",
    "| `pipe=` | `x pipe = 3` | `x = x pipe 3` |\n",
    "| ^= | x ^= 3 | x = x ^ 3 |\n",
    "| >>= | x >>= 3 | x = x >> 3 |\n",
    "| <<= | x <<= 3 | x = x << 3 |\n",
    "| := | print(x := 3) | x = 3 print(x) |"
   ]
  },
  {
   "cell_type": "code",
   "execution_count": null,
   "id": "ca29a55a",
   "metadata": {},
   "outputs": [
    {
     "name": "stdout",
     "output_type": "stream",
     "text": [
      "5\n",
      "8\n",
      "2\n",
      "15\n",
      "1.6666666666666667\n",
      "2\n",
      "1\n",
      "125\n",
      "1\n",
      "7\n",
      "6\n",
      "0\n",
      "40\n",
      "3\n"
     ]
    }
   ],
   "source": [
    "# =\tx = 5\tx = 5\n",
    "x = 5\n",
    "print(x)\n",
    "\n",
    "# +=\tx += 3\tx = x + 3\n",
    "x = 5\n",
    "x += 3\n",
    "print(x)\n",
    "\n",
    "# -=\tx -= 3\tx = x - 3\n",
    "x = 5\n",
    "x -= 3\n",
    "print(x)\n",
    "\n",
    "#*=\tx *= 3\tx = x * 3\n",
    "x = 5\n",
    "x *= 3\n",
    "print(x)\n",
    "\n",
    "# /=\tx /= 3\tx = x / 3\n",
    "x = 5\n",
    "x /= 3\n",
    "print(x)\n",
    "\n",
    "# %=\tx %= 3\tx = x % 3\n",
    "x = 5\n",
    "x%=3\n",
    "print(x)\n",
    "\n",
    "# //=\tx //= 3\tx = x // 3\n",
    "x = 5\n",
    "x//=3\n",
    "print(x)\n",
    "\n",
    "# **=\tx **= 3\tx = x ** 3\n",
    "x = 5\n",
    "x **= 3\n",
    "print(x)\n",
    "\n",
    "# &=\tx &= 3\tx = x & 3\n",
    "x = 5\n",
    "x &= 3\n",
    "print(x)\n",
    "\n",
    "# |=\tx |= 3\tx = x | 3\n",
    "x = 5\n",
    "x |= 3\n",
    "print(x)\n",
    "\n",
    "# ^=\tx ^= 3\tx = x ^ 3\n",
    "x = 5\n",
    "x ^= 3\n",
    "print(x)\n",
    "\n",
    "# >>=\tx >>= 3\tx = x >> 3\n",
    "x = 5\n",
    "x >>= 3\n",
    "print(x)\n",
    "\n",
    "# <<=\tx <<= 3\tx = x << 3\n",
    "x = 5\n",
    "x <<= 3\n",
    "print(x)\n",
    "\n",
    "# :=\tprint(x := 3)\tx = 3print(x)\n",
    "print(x := 3)\n"
   ]
  },
  {
   "cell_type": "markdown",
   "id": "715b2c74",
   "metadata": {},
   "source": [
    "# Python Comparison Operators\n",
    "\n",
    "Comparison operators are used to compare two values:\n",
    "\n",
    "| Operator | Name | Example |\n",
    "|---|---|---|\n",
    "| == | Equal | x == y| \n",
    "| != | Not equal | x != y |\n",
    "| > | Greater than | x > y |\n",
    "| < | Less than | x < y |\n",
    "| >= | Greater than or equal to | x >= y |\n",
    "| <= | Less than or equal to | x <= y |"
   ]
  },
  {
   "cell_type": "code",
   "execution_count": null,
   "id": "f7638a6a",
   "metadata": {},
   "outputs": [
    {
     "name": "stdout",
     "output_type": "stream",
     "text": [
      "False\n",
      "True\n",
      "True\n",
      "False\n",
      "True\n",
      "False\n"
     ]
    }
   ],
   "source": [
    "\n",
    "# ==\tEqual\tx == y\n",
    "x = 5\n",
    "y = 3\n",
    "print(x == y)\n",
    "# returns False because 5 is not equal to 3\n",
    "\n",
    "# !=\tNot equal\tx != y\n",
    "x = 5\n",
    "y = 3\n",
    "print(x != y)\n",
    "# returns True because 5 is not equal to 3\n",
    "\n",
    "# >\tGreater than\tx > y\n",
    "x = 5\n",
    "y = 3\n",
    "print(x > y)\n",
    "# returns True because 5 is greater than 3\n",
    "\n",
    "# <\tLess than\tx < y\n",
    "x = 5\n",
    "y = 3\n",
    "print(x < y)\n",
    "# returns False because 5 is not less than 3\n",
    "\n",
    "# >=\tGreater than or equal to\tx >= y\n",
    "x = 5\n",
    "y = 3\n",
    "print(x >= y)\n",
    "# returns True because five is greater, or equal, to 3\n",
    "\n",
    "# <=\tLess than or equal to\tx <= y\n",
    "x = 5\n",
    "y = 3\n",
    "print(x <= y)\n",
    "# returns False because 5 is neither less than or equal to 3"
   ]
  },
  {
   "cell_type": "markdown",
   "id": "d7d52005",
   "metadata": {},
   "source": [
    "## Python Logical Operators\n",
    "\n",
    "Logical operators are used to combine conditional statements:\n",
    "\n",
    "| Operator | Description | Example |\n",
    "|---|---|---|\n",
    "| and  | Returns True if both statements are true | x < 5 and  x < 10 |\t\n",
    "| or | Returns True if one of the statements is true | x < 5 or x < 4 |\n",
    "| not | Reverse the result, returns False if the result is true | not(x < 5 and x < 10) |"
   ]
  },
  {
   "cell_type": "code",
   "execution_count": null,
   "id": "2530d014",
   "metadata": {},
   "outputs": [
    {
     "name": "stdout",
     "output_type": "stream",
     "text": [
      "True\n",
      "True\n",
      "False\n"
     ]
    }
   ],
   "source": [
    "# and \tReturns True if both statements are true\tx < 5 and  x < 10\n",
    "x = 5\n",
    "print(x > 3 and x < 10)\n",
    "# returns True because 5 is greater than 3 AND 5 is less than 10\n",
    "\n",
    "# or\tReturns True if one of the statements is true\tx < 5 or x < 4\n",
    "x = 5\n",
    "print(x > 3 or x < 4)\n",
    "# returns True because one of the conditions are true (5 is greater than 3, but 5 is not less than 4)\n",
    "\n",
    "# not\tReverse the result, returns False if the result is true\tnot(x < 5 and x < 10)\n",
    "x = 5\n",
    "print(not(x > 3 and x < 10))\n",
    "# returns False because not is used to reverse the result"
   ]
  },
  {
   "cell_type": "markdown",
   "id": "e41f5aa3",
   "metadata": {},
   "source": [
    "## Python Identity Operators\n",
    "\n",
    "Identity operators are used to compare the objects, not if they are equal, but if they are actually the same object, with the same memory location:\n",
    "\n",
    "| Operator | Description | Example |\n",
    "|---|---|---|\n",
    "| is  | Returns True if both variables are the same object | x is y |\n",
    "| is not | Returns True if both variables are not the same object | x is not y |"
   ]
  },
  {
   "cell_type": "code",
   "execution_count": null,
   "id": "ba9a459b",
   "metadata": {},
   "outputs": [
    {
     "name": "stdout",
     "output_type": "stream",
     "text": [
      "True\n",
      "False\n",
      "True\n"
     ]
    }
   ],
   "source": [
    "# is \tReturns True if both variables are the same object\tx is y\n",
    "x = [\"apple\", \"banana\"]\n",
    "y = [\"apple\", \"banana\"]\n",
    "z = x\n",
    "print(x is z)\n",
    "# returns True because z is the same object as x\n",
    "print(x is y)\n",
    "# returns False because x is not the same object as y, even if they have the same content\n",
    "print(x == y)\n",
    "# to demonstrate the difference betweeen \"is\" and \"==\": this comparison returns True because x is equal to y\n",
    "\n",
    "# is not\tReturns True if both variables are not the same object\tx is not y"
   ]
  },
  {
   "cell_type": "markdown",
   "id": "ed79cbef",
   "metadata": {},
   "source": [
    "# Python Membership Operators\n",
    "\n",
    "Membership operators are used to test if a sequence is presented in an object:\n",
    "\n",
    "| Operator | Description | Example |\n",
    "|---|---|---|\n",
    "| in  | Returns True if a sequence with the specified value is present in the object | x in y |\n",
    "| not in | Returns True if a sequence with the specified value is not present in the object | x not in y |"
   ]
  },
  {
   "cell_type": "code",
   "execution_count": null,
   "id": "aaf42490",
   "metadata": {},
   "outputs": [
    {
     "name": "stdout",
     "output_type": "stream",
     "text": [
      "True\n",
      "True\n"
     ]
    }
   ],
   "source": [
    "# in\n",
    "x = [\"apple\", \"banana\"]\n",
    "print(\"banana\" in x)\n",
    "# returns True because a sequence with the value \"banana\" is in the list\n",
    "\n",
    "# not in\n",
    "x = [\"apple\", \"banana\"]\n",
    "print(\"pineapple\" not in x)\n",
    "# returns True because a sequence with the value \"pineapple\" is not in the list"
   ]
  },
  {
   "cell_type": "markdown",
   "id": "bdfecaad",
   "metadata": {},
   "source": [
    "## Python Bitwise Operators\n",
    "\n",
    "Bitwise operators are used to compare (binary) numbers:\n",
    "\n",
    "| Operator | Name                  | Description                                                                 | Example  |\n",
    "|----------|-----------------------|-----------------------------------------------------------------------------|----------|\n",
    "| `&`      | AND                   | Establece cada bit en `1` si ambos bits son `1`                             | `x & y`  |\n",
    "| pipe | OR                    | Establece cada bit en `1` si al menos uno de los dos bits es `1`            | `x pipe y`  |\n",
    "| `^`      | XOR                   | Establece cada bit en `1` si **solo uno** de los dos bits es `1`            | `x ^ y`  |\n",
    "| `~`      | NOT                   | Invierte todos los bits                                                     | `~x`     |\n",
    "| `<<`     | Zero fill left shift  | Desplaza a la izquierda, rellenando con ceros a la derecha                  | `x << 2` |\n",
    "| `>>`     | Signed right shift    | Desplaza a la derecha, copiando el bit de signo a la izquierda              | `x >> 2` |\n"
   ]
  },
  {
   "cell_type": "code",
   "execution_count": null,
   "id": "f032eef5",
   "metadata": {},
   "outputs": [
    {
     "name": "stdout",
     "output_type": "stream",
     "text": [
      "2\n",
      "7\n",
      "5\n",
      "-5\n",
      "12\n",
      "2\n"
     ]
    },
    {
     "data": {
      "text/plain": [
       "\"\\nThe >> operator moves each bit the specified number of times to the right. Empty holes at the left are filled with 0's.\\n\\nIf you move each bit 2 times to the right, 8 becomes 2:\\n 8 = 0000000000001000\\nbecomes\\n 2 = 0000000000000010\\n\\nDecimal numbers and their binary values:\\n 0 = 0000000000000000\\n 1 = 0000000000000001\\n 2 = 0000000000000010\\n 3 = 0000000000000011\\n 4 = 0000000000000100\\n 5 = 0000000000000101\\n 6 = 0000000000000110\\n 7 = 0000000000000111\\n 8 = 0000000000001000\\n 9 = 0000000000001001\\n10 = 0000000000001010\\n11 = 0000000000001011\\n12 = 0000000000001100\\n\""
      ]
     },
     "execution_count": 10,
     "metadata": {},
     "output_type": "execute_result"
    }
   ],
   "source": [
    "# &\n",
    "print(6 & 3)\n",
    "\"\"\"\n",
    "The & operator compares each bit and set it to 1 if both are 1, otherwise it is set to 0:\n",
    "\n",
    "6 = 0000000000000110\n",
    "3 = 0000000000000011\n",
    "--------------------\n",
    "2 = 0000000000000010\n",
    "====================\n",
    "\n",
    "Decimal numbers and their binary values:\n",
    "0 = 0000000000000000\n",
    "1 = 0000000000000001\n",
    "2 = 0000000000000010\n",
    "3 = 0000000000000011\n",
    "4 = 0000000000000100\n",
    "5 = 0000000000000101\n",
    "6 = 0000000000000110\n",
    "7 = 0000000000000111\n",
    "\"\"\"\n",
    "\n",
    "# pipe = |\n",
    "print(6 | 3)\n",
    "\"\"\"\n",
    "The | operator compares each bit and set it to 1 if one or both is 1, otherwise it is set to 0:\n",
    "\n",
    "6 = 0000000000000110\n",
    "3 = 0000000000000011\n",
    "--------------------\n",
    "7 = 0000000000000111\n",
    "====================\n",
    "\n",
    "Decimal numbers and their binary values:\n",
    "0 = 0000000000000000\n",
    "1 = 0000000000000001\n",
    "2 = 0000000000000010\n",
    "3 = 0000000000000011\n",
    "4 = 0000000000000100\n",
    "5 = 0000000000000101\n",
    "6 = 0000000000000110\n",
    "7 = 0000000000000111\n",
    "\"\"\"\n",
    "\n",
    "# ^\n",
    "print(6 ^ 3)\n",
    "\"\"\"\n",
    "The ^ operator compares each bit and set it to 1 if only one is 1, otherwise (if both are 1 or both are 0) it is set to 0:\n",
    "\n",
    "6 = 0000000000000110\n",
    "3 = 0000000000000011\n",
    "--------------------\n",
    "5 = 0000000000000101\n",
    "====================\n",
    "\n",
    "Decimal numbers and their binary values:\n",
    "0 = 0000000000000000\n",
    "1 = 0000000000000001\n",
    "2 = 0000000000000010\n",
    "3 = 0000000000000011\n",
    "4 = 0000000000000100\n",
    "5 = 0000000000000101\n",
    "6 = 0000000000000110\n",
    "7 = 0000000000000111\n",
    "\"\"\"\n",
    "\n",
    "# ~\n",
    "print(~3)\n",
    "\"\"\"\n",
    "The ~ operator inverts each bit (0 becomes 1 and 1 becomes 0).\n",
    "\n",
    "Inverted 3 becomes -4:\n",
    " 3 = 0000000000000011\n",
    "-4 = 1111111111111100\n",
    "\n",
    "Decimal numbers and their binary values:\n",
    " 4 = 0000000000000100\n",
    " 3 = 0000000000000011\n",
    " 2 = 0000000000000010\n",
    " 1 = 0000000000000001\n",
    " 0 = 0000000000000000\n",
    "-1 = 1111111111111111\n",
    "-2 = 1111111111111110\n",
    "-3 = 1111111111111101\n",
    "-4 = 1111111111111100\n",
    "\"\"\"\n",
    "\n",
    "# <<\n",
    "print(3 << 2)\n",
    "\"\"\"\n",
    "The << operator inserts the specified number of 0's (in this case 2) from the right and let the same amount of leftmost bits fall off:\n",
    "\n",
    "If you push 00 in from the left:\n",
    " 3 = 0000000000000011\n",
    "becomes\n",
    "12 = 0000000000001100\n",
    "\n",
    "Decimal numbers and their binary values:\n",
    " 0 = 0000000000000000\n",
    " 1 = 0000000000000001\n",
    " 2 = 0000000000000010\n",
    " 3 = 0000000000000011\n",
    " 4 = 0000000000000100\n",
    " 5 = 0000000000000101\n",
    " 6 = 0000000000000110\n",
    " 7 = 0000000000000111\n",
    " 8 = 0000000000001000\n",
    " 9 = 0000000000001001\n",
    "10 = 0000000000001010\n",
    "11 = 0000000000001011\n",
    "12 = 0000000000001100\n",
    "\"\"\"\n",
    "\n",
    "# >>\n",
    "print(8 >> 2)\n",
    "\"\"\"\n",
    "The >> operator moves each bit the specified number of times to the right. Empty holes at the left are filled with 0's.\n",
    "\n",
    "If you move each bit 2 times to the right, 8 becomes 2:\n",
    " 8 = 0000000000001000\n",
    "becomes\n",
    " 2 = 0000000000000010\n",
    "\n",
    "Decimal numbers and their binary values:\n",
    " 0 = 0000000000000000\n",
    " 1 = 0000000000000001\n",
    " 2 = 0000000000000010\n",
    " 3 = 0000000000000011\n",
    " 4 = 0000000000000100\n",
    " 5 = 0000000000000101\n",
    " 6 = 0000000000000110\n",
    " 7 = 0000000000000111\n",
    " 8 = 0000000000001000\n",
    " 9 = 0000000000001001\n",
    "10 = 0000000000001010\n",
    "11 = 0000000000001011\n",
    "12 = 0000000000001100\n",
    "\"\"\"\n",
    "\n"
   ]
  },
  {
   "cell_type": "markdown",
   "id": "6ce99b39",
   "metadata": {},
   "source": [
    "# Operator Precedence\n",
    "\n",
    "Operator precedence describes the order in which operations are performed."
   ]
  },
  {
   "cell_type": "code",
   "execution_count": null,
   "id": "f6a5ebb5",
   "metadata": {},
   "outputs": [
    {
     "name": "stdout",
     "output_type": "stream",
     "text": [
      "0\n"
     ]
    },
    {
     "data": {
      "text/plain": [
       "'\\nParenthesis have the highest precedence, and need to be evaluated first.\\nThe calculation above reads 9 - 9 = 0\\n'"
      ]
     },
     "execution_count": 12,
     "metadata": {},
     "output_type": "execute_result"
    }
   ],
   "source": [
    "print((6 + 3) - (6 + 3))\n",
    "\n",
    "\"\"\"\n",
    "Parenthesis have the highest precedence, and need to be evaluated first.\n",
    "The calculation above reads 9 - 9 = 0\n",
    "\"\"\""
   ]
  },
  {
   "cell_type": "code",
   "execution_count": null,
   "id": "d2298b32",
   "metadata": {},
   "outputs": [
    {
     "name": "stdout",
     "output_type": "stream",
     "text": [
      "115\n"
     ]
    },
    {
     "data": {
      "text/plain": [
       "'\\nMultiplication has higher precedence than addition, and needs to be evaluated first.\\nThe calculation above reads 100 + 15 = 115\\n'"
      ]
     },
     "execution_count": 13,
     "metadata": {},
     "output_type": "execute_result"
    }
   ],
   "source": [
    "print(100 + 5 * 3)\n",
    "\n",
    "\"\"\"\n",
    "Multiplication has higher precedence than addition, and needs to be evaluated first.\n",
    "The calculation above reads 100 + 15 = 115\n",
    "\"\"\""
   ]
  },
  {
   "cell_type": "markdown",
   "id": "8a3b8e81",
   "metadata": {},
   "source": [
    "The precedence order is described in the table below, starting with the highest precedence at the top:\n",
    "\n",
    "| Operator | Description |\n",
    "|----------|-------------|\n",
    "| `()` | Parentheses |\n",
    "| `**` | Exponentiation |\n",
    "| `+x  -x  ~x` | Unary plus, unary minus, and bitwise NOT |\n",
    "| `*  /  //  %` | Multiplication, division, floor division, and modulus |\n",
    "| `+  -` | Addition and subtraction |\n",
    "| `<<  >>` | Bitwise left and right shifts |\n",
    "| `&` | Bitwise AND |\n",
    "| `^` | Bitwise XOR |\n",
    "| `pipe` | Bitwise OR |\n",
    "| `==  !=  >  >=  <  <=  is  is not  in  not in` | Comparisons, identity, and membership operators |\n",
    "| `not` | Logical NOT |\n",
    "| `and` | Logical AND |\n",
    "| `or` | Logical OR |"
   ]
  },
  {
   "cell_type": "code",
   "execution_count": null,
   "id": "a20663e0",
   "metadata": {},
   "outputs": [
    {
     "name": "stdout",
     "output_type": "stream",
     "text": [
      "0\n",
      "73\n",
      "96\n",
      "115\n",
      "85\n",
      "2\n",
      "2\n",
      "5\n",
      "7\n",
      "True\n",
      "False\n",
      "1\n",
      "4\n"
     ]
    },
    {
     "data": {
      "text/plain": [
       "'\\nThe or operator has a lower precedence than addition, and we need to calculate the addition first.\\nThe calculation above reads: 4 or 15 or 8 = 4\\n'"
      ]
     },
     "execution_count": 14,
     "metadata": {},
     "output_type": "execute_result"
    }
   ],
   "source": [
    "# () Parentheses\n",
    "print((6 + 3) - (6 + 3))\n",
    "\"\"\"\n",
    "Parenthesis have the highest precedence, and need to be evaluated first.\n",
    "The calculation above reads 9 - 9 = 0\n",
    "\"\"\"\n",
    "\n",
    "# ** = Exponentiation\n",
    "print(100 - 3 ** 3)\n",
    "\"\"\"\n",
    "Exponentiation has higher precedence than subtraction, and needs to be evaluated first.\n",
    "The calculation above reads 100 - 27 = 73\n",
    "\"\"\"\t\n",
    "\n",
    "# +x  -x  ~x =Unary plus, unary minus, and bitwise NOT\n",
    "print(100 + ~3)\n",
    "\"\"\"\n",
    "Bitwise NOT has higher precedence than addition, and needs to be evaluated first.\n",
    "The calculation above reads 100 + -4 = 96\n",
    "\"\"\"\n",
    "\n",
    "# *  /  //  % = Multiplication, division, floor division, and modulus\n",
    "print(100 + 5 * 3)\n",
    "\"\"\"\n",
    "Multiplication has higher precedence than addition, and needs to be evaluated first.\n",
    "The calculation above reads 100 + 15 = 115\n",
    "\"\"\"\n",
    "\n",
    "# +  - = Addition and subtraction\n",
    "print(100 - 5 * 3)\n",
    "\"\"\"\n",
    "Subtraction has a lower precedence than multiplication, and we need to calculate the multiplication first.\n",
    "The calculation above reads 100 - 15 = 85\n",
    "\"\"\"\n",
    "\n",
    "# <<  >> = Bitwise left and right shifts\n",
    "print(8 >> 4 - 2)\n",
    "\"\"\"\n",
    "Bitwise right shift has a lower precedence than subtraction, and we need to calculate the subtraction first.\n",
    "The calculation above reads 8 >> 2 = 2\n",
    "\n",
    "More explanation:\n",
    "The >> operator moves each bit the specified number of times to the right. Empty holes at the left are filled with 0's.\n",
    "\n",
    "If you move each bit 2 times to the right, 8 becomes 2:\n",
    " 8 = 0000000000001000\n",
    "becomes\n",
    " 2 = 0000000000000010\n",
    "\n",
    "Decimal numbers and their binary values:\n",
    " 0 = 0000000000000000\n",
    " 1 = 0000000000000001\n",
    " 2 = 0000000000000010\n",
    " 3 = 0000000000000011\n",
    " 4 = 0000000000000100\n",
    " 5 = 0000000000000101\n",
    " 6 = 0000000000000110\n",
    " 7 = 0000000000000111\n",
    " 8 = 0000000000001000\n",
    " 9 = 0000000000001001\n",
    "10 = 0000000000001010\n",
    "11 = 0000000000001011\n",
    "12 = 0000000000001100\n",
    "\"\"\"\t\n",
    "\n",
    "# & = Bitwise AND\n",
    "print(6 & 2 + 1)\n",
    "\"\"\"\n",
    "Bitwise AND has a lower precedence than addition, and we need to calculate the addition first.\n",
    "The calculation above reads 6 & 3 = 2\n",
    "\n",
    "More explanation:\n",
    "The & operator compares each bit and set it to 1 if both are 1, otherwise it is set to 0:\n",
    "\n",
    "6 = 0000000000000110\n",
    "3 = 0000000000000011\n",
    "--------------------\n",
    "2 = 0000000000000010\n",
    "====================\n",
    "\n",
    "Decimal numbers and their binary values:\n",
    "0 = 0000000000000000\n",
    "1 = 0000000000000001\n",
    "2 = 0000000000000010\n",
    "3 = 0000000000000011\n",
    "4 = 0000000000000100\n",
    "5 = 0000000000000101\n",
    "6 = 0000000000000110\n",
    "7 = 0000000000000111\n",
    "\"\"\"\n",
    "\t\n",
    "# ^ = Bitwise XOR\n",
    "print(6 ^ 2 + 1)\n",
    "\"\"\"\n",
    "Bitwise XOR has a lower precedence than addition, and we need to calculate the addition first.\n",
    "The calculation above reads 6 ^ 3 = 5\n",
    "\n",
    "More explanation:\n",
    "The ^ operator compares each bit and set it to 1 if only one is 1, otherwise (if both are 1 or both are 0) it is set to 0:\n",
    "\n",
    "6 = 0000000000000110\n",
    "3 = 0000000000000011\n",
    "--------------------\n",
    "5 = 0000000000000101\n",
    "====================\n",
    "\n",
    "Decimal numbers and their binary values:\n",
    "0 = 0000000000000000\n",
    "1 = 0000000000000001\n",
    "2 = 0000000000000010\n",
    "3 = 0000000000000011\n",
    "4 = 0000000000000100\n",
    "5 = 0000000000000101\n",
    "6 = 0000000000000110\n",
    "7 = 0000000000000111\n",
    "\"\"\"\n",
    "\n",
    "# | =  Bitwise OR\n",
    "print(6 | 2 + 1)\n",
    "\"\"\"\n",
    "Bitwise OR has a lower precedence than addition, and we need to calculate the addition first.\n",
    "The calculation above reads 6 | 3 = 7\n",
    "\n",
    "More explanation:\n",
    "The | operator compares each bit and set it to 1 if one or both is 1, otherwise it is set to 0:\n",
    "\n",
    "6 = 0000000000000110\n",
    "3 = 0000000000000011\n",
    "--------------------\n",
    "7 = 0000000000000111\n",
    "====================\n",
    "\n",
    "Decimal numbers and their binary values:\n",
    "0 = 0000000000000000\n",
    "1 = 0000000000000001\n",
    "2 = 0000000000000010\n",
    "3 = 0000000000000011\n",
    "4 = 0000000000000100\n",
    "5 = 0000000000000101\n",
    "6 = 0000000000000110\n",
    "7 = 0000000000000111\n",
    "\"\"\"\n",
    "# ==  !=  >  >=  <  <=  is  is not  in  not in = Comparisons, identity, and membership operators\t\n",
    "print(5 == 4 + 1)\n",
    "\"\"\"\n",
    "The \"like\" comparison has a lower precedence than addition, and we need to calculate the addition first.\n",
    "The calculation above reads 5 == 5 = True\n",
    "\"\"\"\n",
    "\n",
    "# not = Logical NOT\n",
    "print(not 5 == 5)\n",
    "\"\"\"\n",
    "The logical NOT operator has a lower precedence than \"like\" comparison, and we need to calculate the comparison first.\n",
    "The calculation above reads: not True = False\n",
    "\"\"\"\n",
    "\n",
    "# and = AND\n",
    "print(1 or 2 and 3)\n",
    "\"\"\"\n",
    "The and operator has a higher precedence than or, and we need to calculate the and expression first.\n",
    "The calculation above reads: 1 or 3 = 1\n",
    "\"\"\"\n",
    "\n",
    "# or = OR\n",
    "print(4 or 5 + 10 or 8)\n",
    "\"\"\"\n",
    "The or operator has a lower precedence than addition, and we need to calculate the addition first.\n",
    "The calculation above reads: 4 or 15 or 8 = 4\n",
    "\"\"\""
   ]
  },
  {
   "cell_type": "code",
   "execution_count": null,
   "id": "f4d7feae",
   "metadata": {},
   "outputs": [
    {
     "name": "stdout",
     "output_type": "stream",
     "text": [
      "5\n"
     ]
    },
    {
     "data": {
      "text/plain": [
       "'\\nAdditions and subtractions have the same precedence, and we need to calculate from left to right.\\nThe calculation above reads:\\n5 + 4 = 9\\n9 - 7 = 2\\n2 + 3 = 5\\n'"
      ]
     },
     "execution_count": 15,
     "metadata": {},
     "output_type": "execute_result"
    }
   ],
   "source": [
    "print(5 + 4 - 7 + 3)\n",
    "\n",
    "\"\"\"\n",
    "Additions and subtractions have the same precedence, and we need to calculate from left to right.\n",
    "The calculation above reads:\n",
    "5 + 4 = 9\n",
    "9 - 7 = 2\n",
    "2 + 3 = 5\n",
    "\"\"\""
   ]
  },
  {
   "cell_type": "markdown",
   "id": "9a7f6351",
   "metadata": {},
   "source": [
    "\n",
    "# Python Lists\n",
    "\n",
    "`mylist = [\"apple\", \"banana\", \"cherry\"]`\n",
    "\n",
    "## List\n",
    "\n",
    "Lists are used to store multiple items in a single variable.\n",
    "\n",
    "Lists are one of 4 built-in data types in Python used to store collections of data, the other 3 are Tuple, Set, and Dictionary, all with different qualities and usage.\n",
    "\n",
    "Lists are created using square brackets:"
   ]
  },
  {
   "cell_type": "code",
   "execution_count": null,
   "id": "e658d100",
   "metadata": {},
   "outputs": [
    {
     "name": "stdout",
     "output_type": "stream",
     "text": [
      "['apple', 'banana', 'cherry']\n"
     ]
    }
   ],
   "source": [
    "thislist = [\"apple\", \"banana\", \"cherry\"]\n",
    "print(thislist)"
   ]
  },
  {
   "cell_type": "markdown",
   "id": "b0c25b35",
   "metadata": {},
   "source": [
    "## List \n",
    "\n",
    "List items are ordered, changeable, and allow duplicate values.\n",
    "\n",
    "List items are indexed, the first item has index `[0]`, the second item has index `[1]` etc.\n",
    "\n",
    "## Ordered\n",
    "\n",
    "When we say that lists are ordered, it means that the items have a defined order, and that order will not change.\n",
    "\n",
    "If you add new items to a list, the new items will be placed at the end of the list.\n",
    "\n",
    "Note: There are some [list methods](https://www.w3schools.com/python/python_lists_methods.asp) that will change the order, but in general: the order of the items will not change.\n",
    "\n",
    "## Changeable\n",
    "\n",
    "The list is changeable, meaning that we can change, add, and remove items in a list after it has been created.\n",
    "\n",
    "## Allow Duplicates\n",
    "\n",
    "Since lists are indexed, lists can have items with the same value:"
   ]
  },
  {
   "cell_type": "code",
   "execution_count": null,
   "id": "468a6feb",
   "metadata": {},
   "outputs": [
    {
     "name": "stdout",
     "output_type": "stream",
     "text": [
      "['apple', 'banana', 'cherry', 'apple', 'cherry']\n"
     ]
    }
   ],
   "source": [
    "thislist = [\"apple\", \"banana\", \"cherry\", \"apple\", \"cherry\"]\n",
    "\n",
    "print(thislist)"
   ]
  },
  {
   "cell_type": "markdown",
   "id": "d09c02c0",
   "metadata": {},
   "source": [
    "## List Length\n",
    "\n",
    "To determine how many items a list has, use the `len()` function:"
   ]
  },
  {
   "cell_type": "code",
   "execution_count": null,
   "id": "0082da0b",
   "metadata": {},
   "outputs": [
    {
     "name": "stdout",
     "output_type": "stream",
     "text": [
      "3\n"
     ]
    }
   ],
   "source": [
    "thislist = [\"apple\", \"banana\", \"cherry\"]\n",
    "print(len(thislist))"
   ]
  },
  {
   "cell_type": "markdown",
   "id": "0a9cc290",
   "metadata": {},
   "source": [
    "## List Items - Data Types\n",
    "\n",
    "List items can be of any data type:"
   ]
  },
  {
   "cell_type": "code",
   "execution_count": null,
   "id": "586fbf60",
   "metadata": {},
   "outputs": [
    {
     "name": "stdout",
     "output_type": "stream",
     "text": [
      "['apple', 'banana', 'cherry']\n",
      "[1, 5, 7, 9, 3]\n",
      "[True, False, False]\n"
     ]
    }
   ],
   "source": [
    "list1 = [\"apple\", \"banana\", \"cherry\"]\n",
    "list2 = [1, 5, 7, 9, 3]\n",
    "list3 = [True, False, False]\n",
    "\n",
    "print(list1)\n",
    "print(list2)\n",
    "print(list3)\n"
   ]
  },
  {
   "cell_type": "markdown",
   "id": "9f124797",
   "metadata": {},
   "source": [
    "A list can contain different data types:"
   ]
  },
  {
   "cell_type": "code",
   "execution_count": null,
   "id": "1e9a8e4d",
   "metadata": {},
   "outputs": [
    {
     "name": "stdout",
     "output_type": "stream",
     "text": [
      "['abc', 34, True, 40, 'male']\n"
     ]
    }
   ],
   "source": [
    "list1 = [\"abc\", 34, True, 40, \"male\"]\n",
    "\n",
    "print(list1)"
   ]
  },
  {
   "cell_type": "markdown",
   "id": "742a0573",
   "metadata": {},
   "source": [
    "## type()\n",
    "\n",
    "From Python's perspective, lists are defined as objects with the data type 'list':\n",
    "\n",
    "`<class 'list'>`"
   ]
  },
  {
   "cell_type": "code",
   "execution_count": null,
   "id": "248f0c49",
   "metadata": {},
   "outputs": [
    {
     "name": "stdout",
     "output_type": "stream",
     "text": [
      "<class 'list'>\n"
     ]
    }
   ],
   "source": [
    "mylist = [\"apple\", \"banana\", \"cherry\"]\n",
    "\n",
    "print(type(mylist))"
   ]
  },
  {
   "cell_type": "markdown",
   "id": "3141867b",
   "metadata": {},
   "source": [
    "## The list() Constructor\n",
    "\n",
    "It is also possible to use the `list()` constructor when creating a new list."
   ]
  },
  {
   "cell_type": "code",
   "execution_count": null,
   "id": "4aefc7ac",
   "metadata": {},
   "outputs": [
    {
     "name": "stdout",
     "output_type": "stream",
     "text": [
      "['apple', 'banana', 'cherry']\n"
     ]
    }
   ],
   "source": [
    "thislist = list((\"apple\", \"banana\", \"cherry\"))\n",
    "print(thislist)"
   ]
  },
  {
   "cell_type": "markdown",
   "id": "bf7a5ed8",
   "metadata": {},
   "source": [
    "## Python Collections (Arrays)\n",
    "\n",
    "There are four collection data types in the Python programming language:\n",
    "\n",
    "- List is a collection which is ordered and changeable. Allows duplicate members.\n",
    "- Tuple is a collection which is ordered and unchangeable. Allows duplicate members.\n",
    "- Set is a collection which is unordered, unchangeable*, and unindexed. No duplicate members.\n",
    "- Dictionary is a collection which is ordered** and changeable. No duplicate members.\n",
    "\n",
    "When choosing a collection type, it is useful to understand the properties of that type. Choosing the right type for a particular data set could mean retention of meaning, and, it could mean an increase in efficiency or security."
   ]
  },
  {
   "cell_type": "markdown",
   "id": "afe2e674",
   "metadata": {},
   "source": [
    "# Python - Access List Items\n",
    "\n",
    "## Access Items\n",
    "\n",
    "List items are indexed and you can access them by referring to the index number:"
   ]
  },
  {
   "cell_type": "code",
   "execution_count": null,
   "id": "ec934a34",
   "metadata": {},
   "outputs": [
    {
     "name": "stdout",
     "output_type": "stream",
     "text": [
      "banana\n"
     ]
    }
   ],
   "source": [
    "thislist = [\"apple\", \"banana\", \"cherry\"]\n",
    "print(thislist[1])"
   ]
  },
  {
   "cell_type": "markdown",
   "id": "403f9c67",
   "metadata": {},
   "source": [
    "## Negative Indexing\n",
    "\n",
    "Negative indexing means start from the end\n",
    "\n",
    "`-1` refers to the last item, `-2` refers to the second last item etc."
   ]
  },
  {
   "cell_type": "code",
   "execution_count": null,
   "id": "392e802d",
   "metadata": {},
   "outputs": [
    {
     "name": "stdout",
     "output_type": "stream",
     "text": [
      "cherry\n"
     ]
    }
   ],
   "source": [
    "thislist = [\"apple\", \"banana\", \"cherry\"]\n",
    "print(thislist[-1])"
   ]
  },
  {
   "cell_type": "markdown",
   "id": "91c06807",
   "metadata": {},
   "source": [
    "## Range of Indexes\n",
    "\n",
    "You can specify a range of indexes by specifying where to start and where to end the range.\n",
    "\n",
    "When specifying a range, the return value will be a new list with the specified items."
   ]
  },
  {
   "cell_type": "code",
   "execution_count": null,
   "id": "8cce05ed",
   "metadata": {},
   "outputs": [
    {
     "name": "stdout",
     "output_type": "stream",
     "text": [
      "['cherry', 'orange', 'kiwi']\n"
     ]
    }
   ],
   "source": [
    "thislist = [\"apple\", \"banana\", \"cherry\", \"orange\", \"kiwi\", \"melon\", \"mango\"]\n",
    "print(thislist[2:5])\n",
    "\n",
    "#This will return the items from position 2 to 5.\n",
    "\n",
    "#Remember that the first item is position 0,\n",
    "#and note that the item in position 5 is NOT included"
   ]
  },
  {
   "cell_type": "markdown",
   "id": "94a40d56",
   "metadata": {},
   "source": [
    "By leaving out the start value, the range will start at the first item:"
   ]
  },
  {
   "cell_type": "code",
   "execution_count": null,
   "id": "5eab4b39",
   "metadata": {},
   "outputs": [
    {
     "name": "stdout",
     "output_type": "stream",
     "text": [
      "['apple', 'banana', 'cherry', 'orange']\n"
     ]
    }
   ],
   "source": [
    "thislist = [\"apple\", \"banana\", \"cherry\", \"orange\", \"kiwi\", \"melon\", \"mango\"]\n",
    "print(thislist[:4])\n",
    "\n",
    "#This will return the items from index 0 to index 4.\n",
    "\n",
    "#Remember that index 0 is the first item, and index 4 is the fifth item\n",
    "#Remember that the item in index 4 is NOT included\n"
   ]
  },
  {
   "cell_type": "markdown",
   "id": "5a148034",
   "metadata": {},
   "source": [
    "By leaving out the end value, the range will go on to the end of the list:"
   ]
  },
  {
   "cell_type": "code",
   "execution_count": null,
   "id": "cefe1f64",
   "metadata": {},
   "outputs": [
    {
     "name": "stdout",
     "output_type": "stream",
     "text": [
      "['cherry', 'orange', 'kiwi', 'melon', 'mango']\n"
     ]
    }
   ],
   "source": [
    "thislist = [\"apple\", \"banana\", \"cherry\", \"orange\", \"kiwi\", \"melon\", \"mango\"]\n",
    "print(thislist[2:])\n",
    "\n",
    "#This will return the items from index 2 to the end.\n",
    "\n",
    "#Remember that index 0 is the first item, and index 2 is the third"
   ]
  },
  {
   "cell_type": "markdown",
   "id": "f9965e52",
   "metadata": {},
   "source": [
    "## Range of Negative Indexes\n",
    "\n",
    "Specify negative indexes if you want to start the search from the end of the list:"
   ]
  },
  {
   "cell_type": "code",
   "execution_count": null,
   "id": "761610a7",
   "metadata": {},
   "outputs": [
    {
     "name": "stdout",
     "output_type": "stream",
     "text": [
      "['orange', 'kiwi', 'melon']\n"
     ]
    }
   ],
   "source": [
    "thislist = [\"apple\", \"banana\", \"cherry\", \"orange\", \"kiwi\", \"melon\", \"mango\"]\n",
    "print(thislist[-4:-1])\n",
    "\n",
    "#Negative indexing means starting from the end of the list.\n",
    "\n",
    "#This example returns the items from index -4 (included) to index -1 (excluded)\n",
    "\n",
    "#Remember that the last item has the index -1,"
   ]
  },
  {
   "cell_type": "markdown",
   "id": "44d314aa",
   "metadata": {},
   "source": [
    "# Check if Item Exists\n",
    "To determine if a specified item is present in a list use the `in` keyword:"
   ]
  },
  {
   "cell_type": "code",
   "execution_count": null,
   "id": "cc0760ec",
   "metadata": {},
   "outputs": [
    {
     "name": "stdout",
     "output_type": "stream",
     "text": [
      "Yes, 'apple' is in the fruits list\n"
     ]
    }
   ],
   "source": [
    "thislist = [\"apple\", \"banana\", \"cherry\"]\n",
    "if \"apple\" in thislist:\n",
    "    print(\"Yes, 'apple' is in the fruits list\")"
   ]
  },
  {
   "cell_type": "markdown",
   "id": "28f48333",
   "metadata": {},
   "source": [
    "# Python - Change List Items\n",
    "\n",
    "Change Item Value\n",
    "\n",
    "To change the value of a specific item, refer to the index number:"
   ]
  },
  {
   "cell_type": "code",
   "execution_count": null,
   "id": "7985f221",
   "metadata": {},
   "outputs": [
    {
     "name": "stdout",
     "output_type": "stream",
     "text": [
      "['apple', 'blackcurrant', 'cherry']\n"
     ]
    }
   ],
   "source": [
    "thislist = [\"apple\", \"banana\", \"cherry\"]\n",
    "thislist[1] = \"blackcurrant\"\n",
    "\n",
    "print(thislist)"
   ]
  },
  {
   "cell_type": "markdown",
   "id": "169aa52a",
   "metadata": {},
   "source": [
    "## Change a Range of Item Values\n",
    "\n",
    "To change the value of items within a specific range, define a list with the new values, and refer to the range of index numbers where you want to insert the new values:"
   ]
  },
  {
   "cell_type": "code",
   "execution_count": null,
   "id": "2f6d67ef",
   "metadata": {},
   "outputs": [
    {
     "name": "stdout",
     "output_type": "stream",
     "text": [
      "['apple', 'blackcurrant', 'watermelon', 'orange', 'kiwi', 'mango']\n"
     ]
    }
   ],
   "source": [
    "thislist = [\"apple\", \"banana\", \"cherry\", \"orange\", \"kiwi\", \"mango\"]\n",
    "\n",
    "thislist[1:3] = [\"blackcurrant\", \"watermelon\"]\n",
    "\n",
    "print(thislist)"
   ]
  },
  {
   "cell_type": "markdown",
   "id": "b5bcdef1",
   "metadata": {},
   "source": [
    "If you insert more items than you replace, the new items will be inserted where you specified, and the remaining items will move accordingly:"
   ]
  },
  {
   "cell_type": "code",
   "execution_count": null,
   "id": "239bcb70",
   "metadata": {},
   "outputs": [
    {
     "name": "stdout",
     "output_type": "stream",
     "text": [
      "['apple', 'blackcurrant', 'watermelon', 'cherry']\n"
     ]
    }
   ],
   "source": [
    "thislist = [\"apple\", \"banana\", \"cherry\"]\n",
    "\n",
    "thislist[1:2] = [\"blackcurrant\", \"watermelon\"]\n",
    "\n",
    "print(thislist)"
   ]
  },
  {
   "cell_type": "markdown",
   "id": "a46ebda0",
   "metadata": {},
   "source": [
    "If you insert less items than you replace, the new items will be inserted where you specified, and the remaining items will move accordingly:"
   ]
  },
  {
   "cell_type": "code",
   "execution_count": null,
   "id": "e131278e",
   "metadata": {},
   "outputs": [
    {
     "name": "stdout",
     "output_type": "stream",
     "text": [
      "['apple', 'watermelon']\n"
     ]
    }
   ],
   "source": [
    "thislist = [\"apple\", \"banana\", \"cherry\"]\n",
    "\n",
    "thislist[1:3] = [\"watermelon\"]\n",
    "\n",
    "print(thislist)"
   ]
  },
  {
   "cell_type": "markdown",
   "id": "7a113575",
   "metadata": {},
   "source": [
    "## Insert Items\n",
    "\n",
    "To insert a new list item, without replacing any of the existing values, we can use the `insert()` method.\n",
    "\n",
    "The `insert()` method inserts an item at the specified index:"
   ]
  },
  {
   "cell_type": "code",
   "execution_count": null,
   "id": "25838d45",
   "metadata": {},
   "outputs": [
    {
     "name": "stdout",
     "output_type": "stream",
     "text": [
      "['apple', 'banana', 'watermelon', 'cherry']\n"
     ]
    }
   ],
   "source": [
    "thislist = [\"apple\", \"banana\", \"cherry\"]\n",
    "\n",
    "thislist.insert(2, \"watermelon\")\n",
    "\n",
    "print(thislist) \n"
   ]
  },
  {
   "cell_type": "markdown",
   "id": "a0e2b400",
   "metadata": {},
   "source": [
    "## Append Items\n",
    "To add an item to the end of the list, use the append() method:"
   ]
  },
  {
   "cell_type": "code",
   "execution_count": null,
   "id": "6fa2e871",
   "metadata": {},
   "outputs": [
    {
     "name": "stdout",
     "output_type": "stream",
     "text": [
      "['apple', 'banana', 'cherry', 'orange']\n"
     ]
    }
   ],
   "source": [
    "thislist = [\"apple\", \"banana\", \"cherry\"]\n",
    "\n",
    "thislist.append(\"orange\")\n",
    "\n",
    "print(thislist)"
   ]
  },
  {
   "cell_type": "markdown",
   "id": "e8577c29",
   "metadata": {},
   "source": [
    "## Insert Items\n",
    "\n",
    "To insert a list item at a specified index, use the insert() method.\n",
    "\n",
    "The insert() method inserts an item at the specified index:"
   ]
  },
  {
   "cell_type": "code",
   "execution_count": null,
   "id": "f9e2a304",
   "metadata": {},
   "outputs": [
    {
     "name": "stdout",
     "output_type": "stream",
     "text": [
      "['apple', 'orange', 'banana', 'cherry']\n"
     ]
    }
   ],
   "source": [
    "thislist = [\"apple\", \"banana\", \"cherry\"]\n",
    "thislist.insert(1, \"orange\")\n",
    "print(thislist)"
   ]
  },
  {
   "cell_type": "markdown",
   "id": "6641d850",
   "metadata": {},
   "source": [
    "## Extend List\n",
    "\n",
    "To append elements from another list to the current list, use the extend() method."
   ]
  },
  {
   "cell_type": "code",
   "execution_count": null,
   "id": "dbef7e6e",
   "metadata": {},
   "outputs": [
    {
     "name": "stdout",
     "output_type": "stream",
     "text": [
      "['apple', 'banana', 'cherry', 'mango', 'pineapple', 'papaya']\n"
     ]
    }
   ],
   "source": [
    "thislist = [\"apple\", \"banana\", \"cherry\"]\n",
    "tropical = [\"mango\", \"pineapple\", \"papaya\"]\n",
    "\n",
    "thislist.extend(tropical)\n",
    "\n",
    "print(thislist)"
   ]
  },
  {
   "cell_type": "markdown",
   "id": "048887c5",
   "metadata": {},
   "source": [
    "## Add Any Iterable\n",
    "\n",
    "The `extend()` method does not have to append lists, you can add any iterable object (tuples, sets, dictionaries etc.)."
   ]
  },
  {
   "cell_type": "code",
   "execution_count": null,
   "id": "cf13721c",
   "metadata": {},
   "outputs": [
    {
     "name": "stdout",
     "output_type": "stream",
     "text": [
      "['apple', 'banana', 'cherry', 'kiwi', 'orange']\n"
     ]
    }
   ],
   "source": [
    "thislist = [\"apple\", \"banana\", \"cherry\"]\n",
    "thistuple = (\"kiwi\", \"orange\")\n",
    "\n",
    "thislist.extend(thistuple)\n",
    "\n",
    "print(thislist) \n"
   ]
  },
  {
   "cell_type": "markdown",
   "id": "4b4b2602",
   "metadata": {},
   "source": [
    "# Python - Remove List Items\n",
    "###Remove Specified Item\n",
    "The `remove()` method removes the specified item."
   ]
  },
  {
   "cell_type": "code",
   "execution_count": null,
   "id": "43289fac",
   "metadata": {},
   "outputs": [
    {
     "name": "stdout",
     "output_type": "stream",
     "text": [
      "['apple', 'cherry']\n"
     ]
    }
   ],
   "source": [
    "thislist = [\"apple\", \"banana\", \"cherry\"]\n",
    "thislist.remove(\"banana\")\n",
    "print(thislist)\n"
   ]
  },
  {
   "cell_type": "markdown",
   "id": "570ebd76",
   "metadata": {},
   "source": [
    "If there are more than one item with the specified value, the r`remove()` method removes the first occurrence:"
   ]
  },
  {
   "cell_type": "code",
   "execution_count": null,
   "id": "b6922d07",
   "metadata": {},
   "outputs": [
    {
     "name": "stdout",
     "output_type": "stream",
     "text": [
      "['apple', 'cherry', 'banana', 'kiwi']\n"
     ]
    }
   ],
   "source": [
    "thislist = [\"apple\", \"banana\", \"cherry\", \"banana\", \"kiwi\"]\n",
    "thislist.remove(\"banana\")\n",
    "print(thislist)"
   ]
  },
  {
   "cell_type": "markdown",
   "id": "9f95af63",
   "metadata": {},
   "source": [
    "## Remove Specified Index\n",
    "The pop() method removes the specified index."
   ]
  },
  {
   "cell_type": "code",
   "execution_count": null,
   "id": "6f9eab9b",
   "metadata": {},
   "outputs": [
    {
     "name": "stdout",
     "output_type": "stream",
     "text": [
      "['apple', 'cherry']\n"
     ]
    }
   ],
   "source": [
    "thislist = [\"apple\", \"banana\", \"cherry\"]\n",
    "thislist.pop(1)\n",
    "print(thislist)"
   ]
  },
  {
   "cell_type": "markdown",
   "id": "cc52ee89",
   "metadata": {},
   "source": [
    "If you do not specify the index, the `pop()` method removes the last item."
   ]
  },
  {
   "cell_type": "code",
   "execution_count": null,
   "id": "fb01539b",
   "metadata": {},
   "outputs": [
    {
     "name": "stdout",
     "output_type": "stream",
     "text": [
      "['apple', 'banana']\n"
     ]
    }
   ],
   "source": [
    "thislist = [\"apple\", \"banana\", \"cherry\"]\n",
    "thislist.pop()\n",
    "print(thislist)"
   ]
  },
  {
   "cell_type": "markdown",
   "id": "b15f2e55",
   "metadata": {},
   "source": [
    "The `del` keyword also removes the specified index:"
   ]
  },
  {
   "cell_type": "code",
   "execution_count": null,
   "id": "023e2e70",
   "metadata": {},
   "outputs": [
    {
     "name": "stdout",
     "output_type": "stream",
     "text": [
      "['banana', 'cherry']\n"
     ]
    }
   ],
   "source": [
    "thislist = [\"apple\", \"banana\", \"cherry\"]\n",
    "del thislist[0]\n",
    "print(thislist)"
   ]
  },
  {
   "cell_type": "markdown",
   "id": "9a0f41a5",
   "metadata": {},
   "source": [
    "The `del` keyword can also delete the list completely."
   ]
  },
  {
   "cell_type": "code",
   "execution_count": null,
   "id": "db18ff52",
   "metadata": {},
   "outputs": [
    {
     "ename": "NameError",
     "evalue": "name 'thislist' is not defined",
     "output_type": "error",
     "traceback": [
      "\u001b[31m---------------------------------------------------------------------------\u001b[39m",
      "\u001b[31mNameError\u001b[39m                                 Traceback (most recent call last)",
      "\u001b[36mCell\u001b[39m\u001b[36m \u001b[39m\u001b[32mIn[9]\u001b[39m\u001b[32m, line 3\u001b[39m\n\u001b[32m      1\u001b[39m thislist = [\u001b[33m\"\u001b[39m\u001b[33mapple\u001b[39m\u001b[33m\"\u001b[39m, \u001b[33m\"\u001b[39m\u001b[33mbanana\u001b[39m\u001b[33m\"\u001b[39m, \u001b[33m\"\u001b[39m\u001b[33mcherry\u001b[39m\u001b[33m\"\u001b[39m]\n\u001b[32m      2\u001b[39m \u001b[38;5;28;01mdel\u001b[39;00m thislist\n\u001b[32m----> \u001b[39m\u001b[32m3\u001b[39m \u001b[38;5;28mprint\u001b[39m(\u001b[43mthislist\u001b[49m) \u001b[38;5;66;03m#this will cause an error because you have succsesfully deleted \"thislist\".\u001b[39;00m\n",
      "\u001b[31mNameError\u001b[39m: name 'thislist' is not defined"
     ]
    }
   ],
   "source": [
    "thislist = [\"apple\", \"banana\", \"cherry\"]\n",
    "del thislist\n",
    "print(thislist) #this will cause an error because you have succsesfully deleted \"thislist\"."
   ]
  },
  {
   "cell_type": "markdown",
   "id": "810b9c5f",
   "metadata": {},
   "source": [
    "## Clear the List\n",
    "The clear() method empties the list.\n",
    "\n",
    "The list still remains, but it has no content."
   ]
  },
  {
   "cell_type": "code",
   "execution_count": null,
   "id": "e0d5d559",
   "metadata": {},
   "outputs": [
    {
     "name": "stdout",
     "output_type": "stream",
     "text": [
      "['apple', 'banana', 'cherry']\n",
      "[]\n"
     ]
    }
   ],
   "source": [
    "thislist = [\"apple\", \"banana\", \"cherry\"]\n",
    "print(thislist)\n",
    "thislist.clear()\n",
    "print(thislist)"
   ]
  },
  {
   "cell_type": "markdown",
   "id": "c59a62a6",
   "metadata": {},
   "source": [
    "# Python - Loop Lists\n",
    "## Loop Through a List\n",
    "You can loop through the list items by using a `for` loop:"
   ]
  },
  {
   "cell_type": "code",
   "execution_count": null,
   "id": "3a29ced5",
   "metadata": {},
   "outputs": [
    {
     "name": "stdout",
     "output_type": "stream",
     "text": [
      "apple\n",
      "banana\n",
      "cherry\n"
     ]
    }
   ],
   "source": [
    "thislist = [\"apple\", \"banana\", \"cherry\"]\n",
    "for x in thislist:\n",
    "  print(x)"
   ]
  },
  {
   "cell_type": "markdown",
   "id": "de0a725f",
   "metadata": {},
   "source": [
    "Learn more about for loops in our [Python For Loops](https://www.w3schools.com/python/python_for_loops.asp) Chapter.\n",
    "\n",
    "## Loop Through the Index Numbers\n",
    "You can also loop through the list items by referring to their index number.\n",
    "\n",
    "Use the `range()` and `len()` functions to create a suitable iterable."
   ]
  },
  {
   "cell_type": "code",
   "execution_count": null,
   "id": "bb572c30",
   "metadata": {},
   "outputs": [
    {
     "name": "stdout",
     "output_type": "stream",
     "text": [
      "apple\n",
      "banana\n",
      "cherry\n"
     ]
    }
   ],
   "source": [
    "thislist = [\"apple\", \"banana\", \"cherry\"]\n",
    "for i in range(len(thislist)):\n",
    "  print(thislist[i])"
   ]
  },
  {
   "cell_type": "markdown",
   "id": "31340d5d",
   "metadata": {},
   "source": [
    "The iterable created in the example above is [0, 1, 2].\n",
    "\n",
    "## Using a While Loop\n",
    "You can loop through the list items by using a `while` loop.\n",
    "\n",
    "Use the `len()` function to determine the length of the list, then start at 0 and loop your way through the list items by referring to their indexes.\n",
    "\n",
    "Remember to increase the index by 1 after each iteration."
   ]
  },
  {
   "cell_type": "code",
   "execution_count": null,
   "id": "d08ba65a",
   "metadata": {},
   "outputs": [
    {
     "name": "stdout",
     "output_type": "stream",
     "text": [
      "apple\n",
      "banana\n",
      "cherry\n"
     ]
    }
   ],
   "source": [
    "thislist = [\"apple\", \"banana\", \"cherry\"]\n",
    "i = 0\n",
    "while i < len(thislist):\n",
    "  print(thislist[i])\n",
    "  i = i + 1"
   ]
  },
  {
   "cell_type": "markdown",
   "id": "6ffe2aa5",
   "metadata": {},
   "source": [
    "Learn more about while loops in our Python While Loops Chapter.\n",
    "\n",
    "## Looping Using List Comprehension\n",
    "\n",
    "List Comprehension offers the shortest syntax for looping through lists:"
   ]
  },
  {
   "cell_type": "code",
   "execution_count": null,
   "id": "099deff7",
   "metadata": {},
   "outputs": [
    {
     "name": "stdout",
     "output_type": "stream",
     "text": [
      "apple\n",
      "banana\n",
      "cherry\n"
     ]
    },
    {
     "data": {
      "text/plain": [
       "[None, None, None]"
      ]
     },
     "execution_count": 17,
     "metadata": {},
     "output_type": "execute_result"
    }
   ],
   "source": [
    "thislist = [\"apple\", \"banana\", \"cherry\"]\n",
    "[print(x) for x in thislist]"
   ]
  },
  {
   "cell_type": "markdown",
   "id": "e5c77ee7",
   "metadata": {},
   "source": [
    "# Python - List Comprehension\n",
    "## List Comprehension\n",
    "\n",
    "List comprehension offers a shorter syntax when you want to create a new list based on the values of an existing list.\n",
    "\n",
    "Example:\n",
    "\n",
    "Based on a list of fruits, you want a new list, containing only the fruits with the letter \"a\" in the name.\n",
    "\n",
    "Without list comprehension you will have to write a `for` statement with a conditional test inside:"
   ]
  },
  {
   "cell_type": "code",
   "execution_count": null,
   "id": "9633507a",
   "metadata": {},
   "outputs": [
    {
     "name": "stdout",
     "output_type": "stream",
     "text": [
      "['apple', 'banana', 'mango']\n"
     ]
    }
   ],
   "source": [
    "fruits = [\"apple\", \"banana\", \"cherry\", \"kiwi\", \"mango\"]\n",
    "newlist = []\n",
    "\n",
    "for x in fruits:\n",
    "  if \"a\" in x:\n",
    "    newlist.append(x)\n",
    "\n",
    "print(newlist)"
   ]
  },
  {
   "cell_type": "markdown",
   "id": "e6226863",
   "metadata": {},
   "source": [
    "With list comprehension you can do all that with only one line of code:"
   ]
  },
  {
   "cell_type": "code",
   "execution_count": null,
   "id": "94012370",
   "metadata": {},
   "outputs": [
    {
     "name": "stdout",
     "output_type": "stream",
     "text": [
      "['apple', 'banana', 'mango']\n"
     ]
    }
   ],
   "source": [
    "fruits = [\"apple\", \"banana\", \"cherry\", \"kiwi\", \"mango\"]\n",
    "newlist = [x for x in fruits if \"a\" in x]\n",
    "\n",
    "print(newlist)\n"
   ]
  },
  {
   "cell_type": "markdown",
   "id": "c12b71b2",
   "metadata": {},
   "source": [
    "## The Syntax\n",
    "\n",
    "`newlist = [expression for item in iterable if condition == True]`\n",
    "\n",
    "The return value is a new list, leaving the old list unchanged.\n",
    "\n",
    "### Condition\n",
    "\n",
    "The condition is like a filter that only accepts the items that evaluate to `True`."
   ]
  },
  {
   "cell_type": "code",
   "execution_count": null,
   "id": "989d5cff",
   "metadata": {},
   "outputs": [
    {
     "name": "stdout",
     "output_type": "stream",
     "text": [
      "['banana', 'cherry', 'kiwi', 'mango']\n"
     ]
    }
   ],
   "source": [
    "fruits = [\"apple\", \"banana\", \"cherry\", \"kiwi\", \"mango\"]\n",
    "\n",
    "newlist = [x for x in fruits if x != \"apple\"]\n",
    "\n",
    "print(newlist)"
   ]
  },
  {
   "cell_type": "markdown",
   "id": "81c2a698",
   "metadata": {},
   "source": [
    "The condition `if x != \"apple\"`  will return `True` for all elements other than \"apple\", making the new list contain all fruits except \"apple\".\n",
    "\n",
    "The condition is optional and can be omitted:"
   ]
  },
  {
   "cell_type": "code",
   "execution_count": null,
   "id": "6183209f",
   "metadata": {},
   "outputs": [
    {
     "name": "stdout",
     "output_type": "stream",
     "text": [
      "['apple', 'banana', 'cherry', 'kiwi', 'mango']\n"
     ]
    }
   ],
   "source": [
    "fruits = [\"apple\", \"banana\", \"cherry\", \"kiwi\", \"mango\"]\n",
    "\n",
    "newlist = [x for x in fruits]\n",
    "\n",
    "print(newlist)\n"
   ]
  },
  {
   "cell_type": "markdown",
   "id": "d5958c7a",
   "metadata": {},
   "source": [
    "### Iterable\n",
    "\n",
    "The iterable can be any iterable object, like a list, tuple, set etc."
   ]
  },
  {
   "cell_type": "code",
   "execution_count": null,
   "id": "661073b4",
   "metadata": {},
   "outputs": [
    {
     "name": "stdout",
     "output_type": "stream",
     "text": [
      "[0, 1, 2, 3, 4, 5, 6, 7, 8, 9]\n"
     ]
    }
   ],
   "source": [
    "newlist = [x for x in range(10)]\n",
    "\n",
    "print(newlist)"
   ]
  },
  {
   "cell_type": "markdown",
   "id": "0e8826f8",
   "metadata": {},
   "source": [
    "Same example, but with a condition:"
   ]
  },
  {
   "cell_type": "code",
   "execution_count": null,
   "id": "63fef8d7",
   "metadata": {},
   "outputs": [
    {
     "name": "stdout",
     "output_type": "stream",
     "text": [
      "[0, 1, 2, 3, 4]\n"
     ]
    }
   ],
   "source": [
    "newlist = [x for x in range(10) if x < 5]\n",
    "\n",
    "print(newlist)"
   ]
  },
  {
   "cell_type": "markdown",
   "id": "bc22c3a2",
   "metadata": {},
   "source": [
    "### Expression\n",
    "\n",
    "The *expression* is the current item in the iteration, but it is also the outcome, which you can manipulate before it ends up like a list item in the new list:"
   ]
  },
  {
   "cell_type": "code",
   "execution_count": null,
   "id": "5a91b6db",
   "metadata": {},
   "outputs": [
    {
     "name": "stdout",
     "output_type": "stream",
     "text": [
      "['APPLE', 'BANANA', 'CHERRY', 'KIWI', 'MANGO']\n"
     ]
    }
   ],
   "source": [
    "fruits = [\"apple\", \"banana\", \"cherry\", \"kiwi\", \"mango\"]\n",
    "\n",
    "newlist = [x.upper() for x in fruits]\n",
    "\n",
    "print(newlist)\n"
   ]
  },
  {
   "cell_type": "markdown",
   "id": "711cfe0f",
   "metadata": {},
   "source": [
    "You can set the outcome to whatever you like:"
   ]
  },
  {
   "cell_type": "code",
   "execution_count": null,
   "id": "b9095d55",
   "metadata": {},
   "outputs": [
    {
     "name": "stdout",
     "output_type": "stream",
     "text": [
      "['hello', 'hello', 'hello', 'hello', 'hello']\n"
     ]
    }
   ],
   "source": [
    "fruits = [\"apple\", \"banana\", \"cherry\", \"kiwi\", \"mango\"]\n",
    "\n",
    "newlist = ['hello' for x in fruits]\n",
    "\n",
    "print(newlist)\n"
   ]
  },
  {
   "cell_type": "markdown",
   "id": "8907d830",
   "metadata": {},
   "source": [
    "The *expression* can also contain conditions, not like a filter, but as a way to manipulate the outcome:"
   ]
  },
  {
   "cell_type": "code",
   "execution_count": null,
   "id": "eeaa9723",
   "metadata": {},
   "outputs": [
    {
     "name": "stdout",
     "output_type": "stream",
     "text": [
      "['apple', 'orange', 'cherry', 'kiwi', 'mango']\n"
     ]
    }
   ],
   "source": [
    "fruits = [\"apple\", \"banana\", \"cherry\", \"kiwi\", \"mango\"]\n",
    "\n",
    "newlist = [x if x != \"banana\" else \"orange\" for x in fruits]\n",
    "\n",
    "print(newlist)"
   ]
  },
  {
   "cell_type": "markdown",
   "id": "095b90c2",
   "metadata": {},
   "source": [
    "The expression in the example above says:\n",
    "\n",
    "`\"Return the item if it is not banana, if it is banana return orange\"`."
   ]
  },
  {
   "cell_type": "markdown",
   "id": "c760c45e",
   "metadata": {},
   "source": [
    "# Python - Sort Lists\n",
    "## Sort List Alphanumerically\n",
    "List objects have a `sort()` method that will sort the list alphanumerically, ascending, by default:"
   ]
  },
  {
   "cell_type": "code",
   "execution_count": null,
   "id": "c97228bb",
   "metadata": {},
   "outputs": [
    {
     "name": "stdout",
     "output_type": "stream",
     "text": [
      "['banana', 'kiwi', 'mango', 'orange', 'pineapple']\n"
     ]
    }
   ],
   "source": [
    "thislist = [\"orange\", \"mango\", \"kiwi\", \"pineapple\", \"banana\"]\n",
    "\n",
    "thislist.sort()\n",
    "\n",
    "print(thislist)"
   ]
  },
  {
   "cell_type": "code",
   "execution_count": null,
   "id": "800a3aa3",
   "metadata": {},
   "outputs": [
    {
     "name": "stdout",
     "output_type": "stream",
     "text": [
      "[23, 50, 65, 82, 100]\n"
     ]
    }
   ],
   "source": [
    "thislist = [100, 50, 65, 82, 23]\n",
    "\n",
    "thislist.sort()\n",
    "\n",
    "print(thislist)"
   ]
  },
  {
   "cell_type": "markdown",
   "id": "a3699821",
   "metadata": {},
   "source": [
    "## Sort Descending\n",
    "To sort descending, use the keyword argument `reverse = True`:"
   ]
  },
  {
   "cell_type": "code",
   "execution_count": null,
   "id": "955d2deb",
   "metadata": {},
   "outputs": [
    {
     "name": "stdout",
     "output_type": "stream",
     "text": [
      "['pineapple', 'orange', 'mango', 'kiwi', 'banana']\n"
     ]
    }
   ],
   "source": [
    "thislist = [\"orange\", \"mango\", \"kiwi\", \"pineapple\", \"banana\"]\n",
    "\n",
    "thislist.sort(reverse = True)\n",
    "\n",
    "print(thislist)"
   ]
  },
  {
   "cell_type": "code",
   "execution_count": null,
   "id": "7331007c",
   "metadata": {},
   "outputs": [
    {
     "name": "stdout",
     "output_type": "stream",
     "text": [
      "[100, 82, 65, 50, 23]\n"
     ]
    }
   ],
   "source": [
    "thislist = [100, 50, 65, 82, 23]\n",
    "\n",
    "thislist.sort(reverse = True)\n",
    "\n",
    "print(thislist)"
   ]
  },
  {
   "cell_type": "markdown",
   "id": "d04aab42",
   "metadata": {},
   "source": [
    "## Customize Sort Function\n",
    "\n",
    "You can also customize your own function by using the keyword argument `key = function`.\n",
    "\n",
    "The function will return a number that will be used to sort the list (the lowest number first):"
   ]
  },
  {
   "cell_type": "code",
   "execution_count": null,
   "id": "c604c3dc",
   "metadata": {},
   "outputs": [
    {
     "name": "stdout",
     "output_type": "stream",
     "text": [
      "[50, 65, 23, 82, 100]\n"
     ]
    }
   ],
   "source": [
    "def myfunc(n):\n",
    "  return abs(n - 50)\n",
    "\n",
    "thislist = [100, 50, 65, 82, 23]\n",
    "\n",
    "thislist.sort(key = myfunc)\n",
    "\n",
    "print(thislist)"
   ]
  },
  {
   "cell_type": "markdown",
   "id": "51a8f2a0",
   "metadata": {},
   "source": [
    "## Case Insensitive Sort\n",
    "By default the `sort()` method is case sensitive, resulting in all capital letters being sorted before lower case letters:"
   ]
  },
  {
   "cell_type": "code",
   "execution_count": null,
   "id": "9be84ad3",
   "metadata": {},
   "outputs": [
    {
     "name": "stdout",
     "output_type": "stream",
     "text": [
      "['Kiwi', 'Orange', 'banana', 'cherry']\n"
     ]
    }
   ],
   "source": [
    "thislist = [\"banana\", \"Orange\", \"Kiwi\", \"cherry\"]\n",
    "\n",
    "thislist.sort()\n",
    "\n",
    "print(thislist)"
   ]
  },
  {
   "cell_type": "markdown",
   "id": "332b8c61",
   "metadata": {},
   "source": [
    "Luckily we can use built-in functions as key functions when sorting a list.\n",
    "\n",
    "So if you want a case-insensitive sort function, use str.lower as a key function:"
   ]
  },
  {
   "cell_type": "code",
   "execution_count": null,
   "id": "d9214d79",
   "metadata": {},
   "outputs": [
    {
     "name": "stdout",
     "output_type": "stream",
     "text": [
      "['banana', 'cherry', 'Kiwi', 'Orange']\n"
     ]
    }
   ],
   "source": [
    "thislist = [\"banana\", \"Orange\", \"Kiwi\", \"cherry\"]\n",
    "\n",
    "thislist.sort(key = str.lower)\n",
    "\n",
    "print(thislist)\n"
   ]
  },
  {
   "cell_type": "markdown",
   "id": "ce997262",
   "metadata": {},
   "source": [
    "## Reverse Order\n",
    "What if you want to reverse the order of a list, regardless of the alphabet?\n",
    "\n",
    "The `reverse()` method reverses the current sorting order of the elements."
   ]
  },
  {
   "cell_type": "code",
   "execution_count": null,
   "id": "8698112e",
   "metadata": {},
   "outputs": [
    {
     "name": "stdout",
     "output_type": "stream",
     "text": [
      "['cherry', 'Kiwi', 'Orange', 'banana']\n"
     ]
    }
   ],
   "source": [
    "thislist = [\"banana\", \"Orange\", \"Kiwi\", \"cherry\"]\n",
    "\n",
    "thislist.reverse()\n",
    "\n",
    "print(thislist) "
   ]
  },
  {
   "cell_type": "markdown",
   "id": "d681b85d",
   "metadata": {},
   "source": [
    "# Python - Copy Lists\n",
    "## Copy a List\n",
    "You cannot copy a list simply by typing `list2 = list1`, because: `list2` will only be a reference to `list 1`, and changes made in `list1` will automatically also be made in `list2`.\n",
    "\n",
    "## Use the copy() method\n",
    "\n",
    "You can use the built-in List method `copy()` to copy a list."
   ]
  },
  {
   "cell_type": "code",
   "execution_count": null,
   "id": "69dd4371",
   "metadata": {},
   "outputs": [
    {
     "name": "stdout",
     "output_type": "stream",
     "text": [
      "['apple', 'banana', 'cherry']\n"
     ]
    }
   ],
   "source": [
    "thislist = [\"apple\", \"banana\", \"cherry\"]\n",
    "mylist = thislist.copy()\n",
    "print(mylist)"
   ]
  },
  {
   "cell_type": "markdown",
   "id": "a19c2403",
   "metadata": {},
   "source": [
    "## Use the list() method\n",
    "Another way to make a copy is to use the built-in method `list()`."
   ]
  },
  {
   "cell_type": "code",
   "execution_count": null,
   "id": "2b7ff3b8",
   "metadata": {},
   "outputs": [
    {
     "name": "stdout",
     "output_type": "stream",
     "text": [
      "['apple', 'banana', 'cherry']\n"
     ]
    }
   ],
   "source": [
    "thislist = [\"apple\", \"banana\", \"cherry\"]\n",
    "mylist = list(thislist)\n",
    "print(mylist)"
   ]
  },
  {
   "cell_type": "markdown",
   "id": "7e21f67c",
   "metadata": {},
   "source": [
    "## Use the slice Operator\n",
    "You can also make a copy of a list by using the `:` (slice) operator."
   ]
  },
  {
   "cell_type": "code",
   "execution_count": null,
   "id": "aef60ea6",
   "metadata": {},
   "outputs": [
    {
     "name": "stdout",
     "output_type": "stream",
     "text": [
      "['apple', 'banana', 'cherry']\n"
     ]
    }
   ],
   "source": [
    "thislist = [\"apple\", \"banana\", \"cherry\"]\n",
    "mylist = thislist[:]\n",
    "print(mylist)\n"
   ]
  },
  {
   "cell_type": "markdown",
   "id": "4af242ac",
   "metadata": {},
   "source": [
    "# Python - Join Lists\n",
    "## Join Two Lists\n",
    "There are several ways to join, or concatenate, two or more lists in Python.\n",
    "\n",
    "One of the easiest ways are by using the `+` operator."
   ]
  },
  {
   "cell_type": "code",
   "execution_count": null,
   "id": "45f07f03",
   "metadata": {},
   "outputs": [
    {
     "name": "stdout",
     "output_type": "stream",
     "text": [
      "['a', 'b', 'c', 1, 2, 3]\n"
     ]
    }
   ],
   "source": [
    "list1 = [\"a\", \"b\", \"c\"]\n",
    "list2 = [1, 2, 3]\n",
    "\n",
    "list3 = list1 + list2\n",
    "print(list3)\n"
   ]
  },
  {
   "cell_type": "markdown",
   "id": "f4002f8e",
   "metadata": {},
   "source": [
    "Another way to join two lists is by appending all the items from list2 into list1, one by one:"
   ]
  },
  {
   "cell_type": "code",
   "execution_count": null,
   "id": "1ebd8cb4",
   "metadata": {},
   "outputs": [
    {
     "name": "stdout",
     "output_type": "stream",
     "text": [
      "['a', 'b', 'c', 1, 2, 3]\n"
     ]
    }
   ],
   "source": [
    "list1 = [\"a\", \"b\" , \"c\"]\n",
    "list2 = [1, 2, 3]\n",
    "\n",
    "for x in list2:\n",
    "  list1.append(x)\n",
    "\n",
    "print(list1)"
   ]
  },
  {
   "cell_type": "markdown",
   "id": "7db0d88c",
   "metadata": {},
   "source": [
    "Or you can use the `extend()` method, where the purpose is to add elements from one list to another list:"
   ]
  },
  {
   "cell_type": "code",
   "execution_count": null,
   "id": "5dcfefc0",
   "metadata": {},
   "outputs": [
    {
     "name": "stdout",
     "output_type": "stream",
     "text": [
      "['a', 'b', 'c', 1, 2, 3]\n"
     ]
    }
   ],
   "source": [
    "list1 = [\"a\", \"b\" , \"c\"]\n",
    "list2 = [1, 2, 3]\n",
    "\n",
    "list1.extend(list2)\n",
    "print(list1)"
   ]
  },
  {
   "cell_type": "markdown",
   "id": "724fe33a",
   "metadata": {},
   "source": [
    "# Python - List Methods\n",
    "##List Methods\n",
    "Python has a set of built-in methods that you can use on lists.\n",
    "\n",
    "| Method | Description |\n",
    "|---|---|\n",
    "| append() | Adds an element at the end of the list |\n",
    "| clear() | Removes all the elements from the list |\n",
    "| copy() | Returns a copy of the list |\n",
    "| count() | Returns the number of elements with the specified value |\n",
    "| extend() | Add the elements of a list (or any iterable), to the end of the current list |\n",
    "| index() | Returns the index of the first element with the specified value |\n",
    "| insert() | Adds an element at the specified position |\n",
    "| pop() | Removes the element at the specified position |\n",
    "| remove() | Removes the item with the specified value |\n",
    "| reverse() | Reverses the order of the list |\n",
    "| sort() | Sorts the list |\n"
   ]
  },
  {
   "cell_type": "markdown",
   "id": "eb3763b6",
   "metadata": {},
   "source": [
    "# Python Tuples\n",
    "`mytuple = (\"apple\", \"banana\", \"cherry\")`\n",
    "## Tuple\n",
    "Tuples are used to store multiple items in a single variable.\n",
    "\n",
    "Tuple is one of 4 built-in data types in Python used to store collections of data, the other 3 are List, Set, and Dictionary, all with different qualities and usage.\n",
    "\n",
    "A tuple is a collection which is ordered and unchangeable.\n",
    "\n",
    "Tuples are written with round brackets."
   ]
  },
  {
   "cell_type": "code",
   "execution_count": 1,
   "id": "2f2decde",
   "metadata": {},
   "outputs": [
    {
     "name": "stdout",
     "output_type": "stream",
     "text": [
      "('apple', 'banana', 'cherry')\n"
     ]
    }
   ],
   "source": [
    "thistuple = (\"apple\", \"banana\", \"cherry\")\n",
    "print(thistuple)"
   ]
  },
  {
   "cell_type": "markdown",
   "id": "6e14926d",
   "metadata": {},
   "source": [
    "## Tuple Items\n",
    "Tuple items are ordered, unchangeable, and allow duplicate values.\n",
    "\n",
    "Tuple items are indexed, the first item has index `[0]`, the second item has index `[1]` etc.\n",
    "\n",
    "## Ordered\n",
    "When we say that tuples are ordered, it means that the items have a defined order, and that order will not change.\n",
    "\n",
    "## Unchangeable\n",
    "Tuples are unchangeable, meaning that we cannot change, add or remove items after the tuple has been created.\n",
    "\n",
    "## Allow Duplicates\n",
    "Since tuples are indexed, they can have items with the same value:"
   ]
  },
  {
   "cell_type": "code",
   "execution_count": 2,
   "id": "9e09cb90",
   "metadata": {},
   "outputs": [
    {
     "name": "stdout",
     "output_type": "stream",
     "text": [
      "('apple', 'banana', 'cherry', 'apple', 'cherry')\n"
     ]
    }
   ],
   "source": [
    "thistuple = (\"apple\", \"banana\", \"cherry\", \"apple\", \"cherry\")\n",
    "print(thistuple)"
   ]
  },
  {
   "cell_type": "markdown",
   "id": "ea8db207",
   "metadata": {},
   "source": [
    "## Tuple Length\n",
    "To determine how many items a tuple has, use the `len()` function:"
   ]
  },
  {
   "cell_type": "code",
   "execution_count": 3,
   "id": "1d926c75",
   "metadata": {},
   "outputs": [
    {
     "name": "stdout",
     "output_type": "stream",
     "text": [
      "3\n"
     ]
    }
   ],
   "source": [
    "thistuple = tuple((\"apple\", \"banana\", \"cherry\"))\n",
    "print(len(thistuple))"
   ]
  },
  {
   "cell_type": "markdown",
   "id": "6e9341f1",
   "metadata": {},
   "source": [
    "## Create Tuple With One Item\n",
    "To create a tuple with only one item, you have to add a comma after the item, otherwise Python will not recognize it as a tuple."
   ]
  },
  {
   "cell_type": "code",
   "execution_count": 4,
   "id": "ad7c1048",
   "metadata": {},
   "outputs": [
    {
     "name": "stdout",
     "output_type": "stream",
     "text": [
      "<class 'tuple'>\n",
      "<class 'str'>\n"
     ]
    }
   ],
   "source": [
    "thistuple = (\"apple\",)\n",
    "print(type(thistuple))\n",
    "\n",
    "#NOT a tuple\n",
    "thistuple = (\"apple\")\n",
    "print(type(thistuple))"
   ]
  },
  {
   "cell_type": "markdown",
   "id": "88d39a6b",
   "metadata": {},
   "source": [
    "## Tuple Items - Data Types\n",
    "Tuple items can be of any data type:"
   ]
  },
  {
   "cell_type": "code",
   "execution_count": 5,
   "id": "655a0268",
   "metadata": {},
   "outputs": [
    {
     "name": "stdout",
     "output_type": "stream",
     "text": [
      "('apple', 'banana', 'cherry')\n",
      "(1, 5, 7, 9, 3)\n",
      "(True, False, False)\n"
     ]
    }
   ],
   "source": [
    "tuple1 = (\"apple\", \"banana\", \"cherry\")\n",
    "tuple2 = (1, 5, 7, 9, 3)\n",
    "tuple3 = (True, False, False)\n",
    "\n",
    "print(tuple1)\n",
    "print(tuple2)\n",
    "print(tuple3)"
   ]
  },
  {
   "cell_type": "markdown",
   "id": "d593ef2e",
   "metadata": {},
   "source": [
    "A tuple can contain different data types:"
   ]
  },
  {
   "cell_type": "code",
   "execution_count": 6,
   "id": "e248c6f9",
   "metadata": {},
   "outputs": [
    {
     "name": "stdout",
     "output_type": "stream",
     "text": [
      "('abc', 34, True, 40, 'male')\n"
     ]
    }
   ],
   "source": [
    "tuple1 = (\"abc\", 34, True, 40, \"male\")\n",
    "\n",
    "print(tuple1)\n"
   ]
  },
  {
   "cell_type": "markdown",
   "id": "3f189213",
   "metadata": {},
   "source": [
    "## type()\n",
    "From Python's perspective, tuples are defined as objects with the data type 'tuple':\n",
    "\n",
    "`<class 'tuple'>`"
   ]
  },
  {
   "cell_type": "code",
   "execution_count": 7,
   "id": "8d071d16",
   "metadata": {},
   "outputs": [
    {
     "name": "stdout",
     "output_type": "stream",
     "text": [
      "<class 'tuple'>\n"
     ]
    }
   ],
   "source": [
    "mytuple = (\"apple\", \"banana\", \"cherry\")\n",
    "\n",
    "print(type(mytuple))"
   ]
  },
  {
   "cell_type": "markdown",
   "id": "fb708204",
   "metadata": {},
   "source": [
    "## The tuple() Constructor\n",
    "It is also possible to use the `tuple()` constructor to make a tuple."
   ]
  },
  {
   "cell_type": "code",
   "execution_count": 8,
   "id": "7d63607c",
   "metadata": {},
   "outputs": [
    {
     "name": "stdout",
     "output_type": "stream",
     "text": [
      "('apple', 'banana', 'cherry')\n"
     ]
    }
   ],
   "source": [
    "thistuple = tuple((\"apple\", \"banana\", \"cherry\"))\n",
    "print(thistuple)"
   ]
  },
  {
   "cell_type": "markdown",
   "id": "c408e336",
   "metadata": {},
   "source": [
    "## Python Collections (Arrays)\n",
    "There are four collection data types in the Python programming language:\n",
    "\n",
    "- **List** is a collection which is ordered and changeable. Allows duplicate members.\n",
    "- **Tuple** is a collection which is ordered and unchangeable. Allows duplicate members.\n",
    "- **Set** is a collection which is unordered, unchangeable*, and unindexed. No duplicate members.\n",
    "- **Dictionary** is a collection which is ordered** and changeable. No duplicate members.\n",
    "\n",
    "When choosing a collection type, it is useful to understand the properties of that type. Choosing the right type for a particular data set could mean retention of meaning, and, it could mean an increase in efficiency or security."
   ]
  },
  {
   "cell_type": "markdown",
   "id": "f5a3b6f7",
   "metadata": {},
   "source": []
  },
  {
   "cell_type": "markdown",
   "id": "2a472b16",
   "metadata": {},
   "source": [
    "## Python Tuples\n",
    "\n",
    "`mytuple = (\"apple\", \"banana\", \"cherry\")`\n",
    "\n",
    "### Tuple\n",
    "\n",
    "Tuples are used to store multiple items in a single variable.\n",
    "\n",
    "Tuple is one of 4 built-in data types in Python used to store collections of data, the other 3 are List, Set, and Dictionary, all with different qualities and usage.\n",
    "\n",
    "A tuple is a collection which is ordered and unchangeable.\n",
    "\n",
    "Tuples are written with round brackets."
   ]
  },
  {
   "cell_type": "code",
   "execution_count": 1,
   "id": "634d957d",
   "metadata": {},
   "outputs": [
    {
     "name": "stdout",
     "output_type": "stream",
     "text": [
      "('apple', 'banana', 'cherry')\n"
     ]
    }
   ],
   "source": [
    "thistuple = (\"apple\", \"banana\", \"cherry\")\n",
    "print(thistuple)"
   ]
  },
  {
   "cell_type": "markdown",
   "id": "d9779d4d",
   "metadata": {},
   "source": [
    "### Tuple Items\n",
    "\n",
    "Tuple items are ordered, unchangeable, and allow duplicate values.\n",
    "\n",
    "Tuple items are indexed, the first item has index `[0]`, the second item has index `[1]` etc.\n",
    "\n",
    "### Ordered\n",
    "\n",
    "When we say that tuples are ordered, it means that the items have a defined order, and that order will not change.\n",
    "\n",
    "### Unchangeable\n",
    "\n",
    "Tuples are unchangeable, meaning that we cannot change, add or remove items after the tuple has been created.\n",
    "\n",
    "### Allow Duplicates\n",
    "\n",
    "Since tuples are indexed, they can have items with the same value:"
   ]
  },
  {
   "cell_type": "code",
   "execution_count": 2,
   "id": "98cebc57",
   "metadata": {},
   "outputs": [
    {
     "name": "stdout",
     "output_type": "stream",
     "text": [
      "('apple', 'banana', 'cherry', 'apple', 'cherry')\n"
     ]
    }
   ],
   "source": [
    "thistuple = (\"apple\", \"banana\", \"cherry\", \"apple\", \"cherry\")\n",
    "print(thistuple)"
   ]
  },
  {
   "cell_type": "markdown",
   "id": "d374f91b",
   "metadata": {},
   "source": [
    "### Tuple Length\n",
    "\n",
    "To determine how many items a tuple has, use the `len()` function:"
   ]
  },
  {
   "cell_type": "code",
   "execution_count": 3,
   "id": "a05632c9",
   "metadata": {},
   "outputs": [
    {
     "name": "stdout",
     "output_type": "stream",
     "text": [
      "3\n"
     ]
    }
   ],
   "source": [
    "thistuple = tuple((\"apple\", \"banana\", \"cherry\"))\n",
    "print(len(thistuple))"
   ]
  },
  {
   "cell_type": "markdown",
   "id": "36f6dd2c",
   "metadata": {},
   "source": [
    "### Create Tuple With One Item\n",
    "\n",
    "To create a tuple with only one item, you have to add a comma after the item, otherwise Python will not recognize it as a tuple."
   ]
  },
  {
   "cell_type": "code",
   "execution_count": 4,
   "id": "a26f3177",
   "metadata": {},
   "outputs": [
    {
     "name": "stdout",
     "output_type": "stream",
     "text": [
      "<class 'tuple'>\n",
      "<class 'str'>\n"
     ]
    }
   ],
   "source": [
    "thistuple = (\"apple\",)\n",
    "print(type(thistuple))\n",
    "\n",
    "#NOT a tuple\n",
    "thistuple = (\"apple\")\n",
    "print(type(thistuple))"
   ]
  },
  {
   "cell_type": "markdown",
   "id": "bb37e458",
   "metadata": {},
   "source": [
    "### Tuple Items - Data Types\n",
    "\n",
    "Tuple items can be of any data type:"
   ]
  },
  {
   "cell_type": "code",
   "execution_count": 5,
   "id": "e44680b6",
   "metadata": {},
   "outputs": [
    {
     "name": "stdout",
     "output_type": "stream",
     "text": [
      "('apple', 'banana', 'cherry')\n",
      "(1, 5, 7, 9, 3)\n",
      "(True, False, False)\n"
     ]
    }
   ],
   "source": [
    "tuple1 = (\"apple\", \"banana\", \"cherry\")\n",
    "tuple2 = (1, 5, 7, 9, 3)\n",
    "tuple3 = (True, False, False)\n",
    "\n",
    "print(tuple1)\n",
    "print(tuple2)\n",
    "print(tuple3)"
   ]
  },
  {
   "cell_type": "markdown",
   "id": "8402fe0a",
   "metadata": {},
   "source": [
    "A tuple can contain different data types:"
   ]
  },
  {
   "cell_type": "code",
   "execution_count": 6,
   "id": "2b483f91",
   "metadata": {},
   "outputs": [
    {
     "name": "stdout",
     "output_type": "stream",
     "text": [
      "('abc', 34, True, 40, 'male')\n"
     ]
    }
   ],
   "source": [
    "tuple1 = (\"abc\", 34, True, 40, \"male\")\n",
    "\n",
    "print(tuple1)"
   ]
  },
  {
   "cell_type": "markdown",
   "id": "7ea4ebf6",
   "metadata": {},
   "source": [
    "### type()\n",
    "\n",
    "From Python's perspective, tuples are defined as objects with the data type 'tuple':\n",
    "\n",
    "`<class 'tuple'>`"
   ]
  },
  {
   "cell_type": "code",
   "execution_count": 7,
   "id": "9cfc1f84",
   "metadata": {},
   "outputs": [
    {
     "name": "stdout",
     "output_type": "stream",
     "text": [
      "<class 'tuple'>\n"
     ]
    }
   ],
   "source": [
    "mytuple = (\"apple\", \"banana\", \"cherry\")\n",
    "\n",
    "print(type(mytuple))\n"
   ]
  },
  {
   "cell_type": "markdown",
   "id": "8a2efb8b",
   "metadata": {},
   "source": [
    "### The tuple() Constructor\n",
    "\n",
    "It is also possible to use the tuple() constructor to make a tuple."
   ]
  },
  {
   "cell_type": "code",
   "execution_count": 8,
   "id": "387d3a7d",
   "metadata": {},
   "outputs": [
    {
     "name": "stdout",
     "output_type": "stream",
     "text": [
      "('apple', 'banana', 'cherry')\n"
     ]
    }
   ],
   "source": [
    "thistuple = tuple((\"apple\", \"banana\", \"cherry\"))\n",
    "print(thistuple)"
   ]
  },
  {
   "cell_type": "markdown",
   "id": "7a4d7d36",
   "metadata": {},
   "source": [
    "### Python Collections (Arrays)\n",
    "\n",
    "There are four collection data types in the Python programming language:\n",
    "\n",
    "- **List** is a collection which is ordered and changeable. Allows duplicate members.\n",
    "- **Tuple** is a collection which is ordered and unchangeable. Allows duplicate members.\n",
    "- **Set** is a collection which is unordered, unchangeable*, and unindexed. No duplicate members.\n",
    "- **Dictionary** is a collection which is ordered** and changeable. No duplicate members.\n",
    "\n",
    "\n",
    "When choosing a collection type, it is useful to understand the properties of that type. Choosing the right type for a particular data set could mean retention of meaning, and, it could mean an increase in efficiency or security.\n",
    "\n"
   ]
  },
  {
   "cell_type": "markdown",
   "id": "d2397cad",
   "metadata": {},
   "source": [
    "## Python - Access Tuple Items\n",
    "\n",
    "### Access Tuple Items\n",
    "\n",
    "You can access tuple items by referring to the index number, inside square brackets:\n"
   ]
  },
  {
   "cell_type": "code",
   "execution_count": 9,
   "id": "075c5ba4",
   "metadata": {},
   "outputs": [
    {
     "name": "stdout",
     "output_type": "stream",
     "text": [
      "banana\n"
     ]
    }
   ],
   "source": [
    "thistuple = (\"apple\", \"banana\", \"cherry\")\n",
    "print(thistuple[1])"
   ]
  },
  {
   "cell_type": "markdown",
   "id": "971f01b9",
   "metadata": {},
   "source": [
    "### Negative Indexing\n",
    "\n",
    "Negative indexing means start from the end.\n",
    "\n",
    "`-1` refers to the last item, `-2` refers to the second last item etc."
   ]
  },
  {
   "cell_type": "code",
   "execution_count": 10,
   "id": "e260433a",
   "metadata": {},
   "outputs": [
    {
     "name": "stdout",
     "output_type": "stream",
     "text": [
      "cherry\n"
     ]
    }
   ],
   "source": [
    "thistuple = (\"apple\", \"banana\", \"cherry\")\n",
    "print(thistuple[-1])"
   ]
  },
  {
   "cell_type": "markdown",
   "id": "fe084b1f",
   "metadata": {},
   "source": [
    "### Range of Indexes\n",
    "\n",
    "You can specify a range of indexes by specifying where to start and where to end the range.\n",
    "\n",
    "When specifying a range, the return value will be a new tuple with the specified items."
   ]
  },
  {
   "cell_type": "code",
   "execution_count": 11,
   "id": "5e6b4571",
   "metadata": {},
   "outputs": [
    {
     "name": "stdout",
     "output_type": "stream",
     "text": [
      "('cherry', 'orange', 'kiwi')\n"
     ]
    }
   ],
   "source": [
    "thistuple = (\"apple\", \"banana\", \"cherry\", \"orange\", \"kiwi\", \"melon\", \"mango\")\n",
    "print(thistuple[2:5])\n",
    "\n",
    "#This will return the items from position 2 to 5.\n",
    "\n",
    "#Remember that the first item is position 0,\n",
    "#and note that the item in position 5 is NOT included"
   ]
  },
  {
   "cell_type": "markdown",
   "id": "400865c4",
   "metadata": {},
   "source": [
    "By leaving out the start value, the range will start at the first item:"
   ]
  },
  {
   "cell_type": "code",
   "execution_count": 12,
   "id": "a25da5db",
   "metadata": {},
   "outputs": [
    {
     "name": "stdout",
     "output_type": "stream",
     "text": [
      "('apple', 'banana', 'cherry', 'orange')\n"
     ]
    }
   ],
   "source": [
    "thistuple = (\"apple\", \"banana\", \"cherry\", \"orange\", \"kiwi\", \"melon\", \"mango\")\n",
    "\n",
    "print(thistuple[:4])"
   ]
  },
  {
   "cell_type": "markdown",
   "id": "f89a7013",
   "metadata": {},
   "source": [
    "By leaving out the end value, the range will go on to the end of the tuple:"
   ]
  },
  {
   "cell_type": "code",
   "execution_count": 14,
   "id": "b7ac91fa",
   "metadata": {},
   "outputs": [
    {
     "name": "stdout",
     "output_type": "stream",
     "text": [
      "('cherry', 'orange', 'kiwi', 'melon', 'mango')\n"
     ]
    }
   ],
   "source": [
    "thistuple = (\"apple\", \"banana\", \"cherry\", \"orange\", \"kiwi\", \"melon\", \"mango\")\n",
    "\n",
    "print(thistuple[2:])"
   ]
  },
  {
   "cell_type": "markdown",
   "id": "b07c3a21",
   "metadata": {},
   "source": [
    "### Range of Negative Indexes\n",
    "Specify negative indexes if you want to start the search from the end of the tuple:"
   ]
  },
  {
   "cell_type": "code",
   "execution_count": 15,
   "id": "af689bcf",
   "metadata": {},
   "outputs": [
    {
     "name": "stdout",
     "output_type": "stream",
     "text": [
      "('orange', 'kiwi', 'melon')\n"
     ]
    }
   ],
   "source": [
    "thistuple = (\"apple\", \"banana\", \"cherry\", \"orange\", \"kiwi\", \"melon\", \"mango\")\n",
    "print(thistuple[-4:-1])\n",
    "\n",
    "#Negative indexing means starting from the end of the tuple.\n",
    "\n",
    "#This example returns the items from index -4 (included) to index -1 (excluded)\n",
    "\n",
    "#Remember that the last item has the index -1,"
   ]
  },
  {
   "cell_type": "markdown",
   "id": "0e6856f6",
   "metadata": {},
   "source": [
    "### Check if Item Exists\n",
    "\n",
    "To determine if a specified item is present in a tuple use the in keyword:"
   ]
  },
  {
   "cell_type": "code",
   "execution_count": 16,
   "id": "33c0e603",
   "metadata": {},
   "outputs": [
    {
     "name": "stdout",
     "output_type": "stream",
     "text": [
      "Yes, 'apple' is in the fruits tuple\n"
     ]
    }
   ],
   "source": [
    "thistuple = (\"apple\", \"banana\", \"cherry\")\n",
    "if \"apple\" in thistuple:\n",
    "    print(\"Yes, 'apple' is in the fruits tuple\")"
   ]
  },
  {
   "cell_type": "markdown",
   "id": "259fc774",
   "metadata": {},
   "source": [
    "## Python - Update Tuples\n",
    "Tuples are unchangeable, meaning that you cannot change, add, or remove items once the tuple is created.\n",
    "\n",
    "But there are some workarounds.\n",
    "\n",
    "### Change Tuple Values\n",
    "Once a tuple is created, you cannot change its values. Tuples are **unchangeable**, or **immutable** as it also is called.\n",
    "\n",
    "But there is a workaround. You can convert the tuple into a list, change the list, and convert the list back into a tuple."
   ]
  },
  {
   "cell_type": "code",
   "execution_count": 17,
   "id": "55f379c6",
   "metadata": {},
   "outputs": [
    {
     "name": "stdout",
     "output_type": "stream",
     "text": [
      "('apple', 'kiwi', 'cherry')\n"
     ]
    }
   ],
   "source": [
    "x = (\"apple\", \"banana\", \"cherry\")\n",
    "y = list(x)\n",
    "y[1] = \"kiwi\"\n",
    "x = tuple(y)\n",
    "\n",
    "print(x)"
   ]
  },
  {
   "cell_type": "markdown",
   "id": "a5673d51",
   "metadata": {},
   "source": [
    "### Add Items\n",
    "\n",
    "Since tuples are immutable, they do not have a built-in `append()` method, but there are other ways to add items to a tuple.\n",
    "\n",
    "1. **Convert into a list**: Just like the workaround for changing a tuple, you can convert it into a list, add your item(s), and convert it back into a tuple."
   ]
  },
  {
   "cell_type": "code",
   "execution_count": 18,
   "id": "d241f4de",
   "metadata": {},
   "outputs": [
    {
     "name": "stdout",
     "output_type": "stream",
     "text": [
      "('apple', 'banana', 'cherry', 'orange')\n"
     ]
    }
   ],
   "source": [
    "thistuple = (\"apple\", \"banana\", \"cherry\")\n",
    "y = list(thistuple)\n",
    "y.append(\"orange\")\n",
    "thistuple = tuple(y)\n",
    "\n",
    "print(thistuple)"
   ]
  },
  {
   "cell_type": "markdown",
   "id": "621d8044",
   "metadata": {},
   "source": [
    "2. **Add tuple to a tuple**. You are allowed to add tuples to tuples, so if you want to add one item, (or many), create a new tuple with the item(s), and add it to the existing tuple:"
   ]
  },
  {
   "cell_type": "code",
   "execution_count": 19,
   "id": "dae78aba",
   "metadata": {},
   "outputs": [
    {
     "name": "stdout",
     "output_type": "stream",
     "text": [
      "('apple', 'banana', 'cherry', 'orange')\n"
     ]
    }
   ],
   "source": [
    "thistuple = (\"apple\", \"banana\", \"cherry\")\n",
    "y = (\"orange\",)\n",
    "thistuple += y\n",
    "\n",
    "print(thistuple)"
   ]
  },
  {
   "cell_type": "markdown",
   "id": "3c80e312",
   "metadata": {},
   "source": [
    "### Remove Items\n",
    "\n",
    "Tuples are **unchangeable**, so you cannot remove items from it, but you can use the same workaround as we used for changing and adding tuple items:"
   ]
  },
  {
   "cell_type": "code",
   "execution_count": 20,
   "id": "c77c5e8a",
   "metadata": {},
   "outputs": [
    {
     "name": "stdout",
     "output_type": "stream",
     "text": [
      "('banana', 'cherry')\n"
     ]
    }
   ],
   "source": [
    "thistuple = (\"apple\", \"banana\", \"cherry\")\n",
    "y = list(thistuple)\n",
    "y.remove(\"apple\")\n",
    "thistuple = tuple(y)\n",
    "\n",
    "print(thistuple)"
   ]
  },
  {
   "cell_type": "markdown",
   "id": "0eb8ae63",
   "metadata": {},
   "source": [
    "Or you can delete the tuple completely:"
   ]
  },
  {
   "cell_type": "code",
   "execution_count": 27,
   "id": "cdb0aba2",
   "metadata": {},
   "outputs": [
    {
     "ename": "NameError",
     "evalue": "name 'thistuple' is not defined",
     "output_type": "error",
     "traceback": [
      "\u001b[31m---------------------------------------------------------------------------\u001b[39m",
      "\u001b[31mNameError\u001b[39m                                 Traceback (most recent call last)",
      "\u001b[36mCell\u001b[39m\u001b[36m \u001b[39m\u001b[32mIn[27]\u001b[39m\u001b[32m, line 3\u001b[39m\n\u001b[32m      1\u001b[39m thistuple = (\u001b[33m\"\u001b[39m\u001b[33mapple\u001b[39m\u001b[33m\"\u001b[39m, \u001b[33m\"\u001b[39m\u001b[33mbanana\u001b[39m\u001b[33m\"\u001b[39m, \u001b[33m\"\u001b[39m\u001b[33mcherry\u001b[39m\u001b[33m\"\u001b[39m)\n\u001b[32m      2\u001b[39m \u001b[38;5;28;01mdel\u001b[39;00m thistuple\n\u001b[32m----> \u001b[39m\u001b[32m3\u001b[39m \u001b[38;5;28mprint\u001b[39m(\u001b[43mthistuple\u001b[49m) \u001b[38;5;66;03m#this will raise an error because the tuple no longer exists\u001b[39;00m\n",
      "\u001b[31mNameError\u001b[39m: name 'thistuple' is not defined"
     ]
    }
   ],
   "source": [
    "thistuple = (\"apple\", \"banana\", \"cherry\")\n",
    "del thistuple\n",
    "print(thistuple) #this will raise an error because the tuple no longer exists"
   ]
  },
  {
   "cell_type": "markdown",
   "id": "2edb785d",
   "metadata": {},
   "source": [
    "## Python - Unpack Tuples\n",
    "\n",
    "### Unpacking a Tuple\n",
    "\n",
    "When we create a tuple, we normally assign values to it. This is called \"packing\" a tuple:"
   ]
  },
  {
   "cell_type": "code",
   "execution_count": 28,
   "id": "e4139917",
   "metadata": {},
   "outputs": [
    {
     "name": "stdout",
     "output_type": "stream",
     "text": [
      "('apple', 'banana', 'cherry')\n"
     ]
    }
   ],
   "source": [
    "fruits = (\"apple\", \"banana\", \"cherry\")\n",
    "\n",
    "print(fruits)"
   ]
  },
  {
   "cell_type": "markdown",
   "id": "f7172084",
   "metadata": {},
   "source": [
    "But, in Python, we are also allowed to extract the values back into variables. This is called \"unpacking\":"
   ]
  },
  {
   "cell_type": "code",
   "execution_count": 29,
   "id": "bf58b7c8",
   "metadata": {},
   "outputs": [
    {
     "name": "stdout",
     "output_type": "stream",
     "text": [
      "apple\n",
      "banana\n",
      "cherry\n"
     ]
    }
   ],
   "source": [
    "fruits = (\"apple\", \"banana\", \"cherry\")\n",
    "\n",
    "(green, yellow, red) = fruits\n",
    "\n",
    "print(green)\n",
    "print(yellow)\n",
    "print(red)\n"
   ]
  },
  {
   "cell_type": "markdown",
   "id": "d56ad35f",
   "metadata": {},
   "source": [
    "## Using Asterisk`*`\n",
    "If the number of variables is less than the number of values, you can add an `*` to the variable name and the values will be assigned to the variable as a list:"
   ]
  },
  {
   "cell_type": "code",
   "execution_count": 30,
   "id": "af344a13",
   "metadata": {},
   "outputs": [
    {
     "name": "stdout",
     "output_type": "stream",
     "text": [
      "apple\n",
      "banana\n",
      "['cherry', 'strawberry', 'raspberry']\n"
     ]
    }
   ],
   "source": [
    "fruits = (\"apple\", \"banana\", \"cherry\", \"strawberry\", \"raspberry\")\n",
    "\n",
    "(green, yellow, *red) = fruits\n",
    "\n",
    "print(green)\n",
    "print(yellow)\n",
    "print(red)"
   ]
  },
  {
   "cell_type": "markdown",
   "id": "3df3ddfa",
   "metadata": {},
   "source": [
    "If the asterisk is added to another variable name than the last, Python will assign values to the variable until the number of values left matches the number of variables left."
   ]
  },
  {
   "cell_type": "code",
   "execution_count": 31,
   "id": "9a3fd9d1",
   "metadata": {},
   "outputs": [
    {
     "name": "stdout",
     "output_type": "stream",
     "text": [
      "apple\n",
      "['mango', 'papaya', 'pineapple']\n",
      "cherry\n"
     ]
    }
   ],
   "source": [
    "fruits = (\"apple\", \"mango\", \"papaya\", \"pineapple\", \"cherry\")\n",
    "\n",
    "(green, *tropic, red) = fruits\n",
    "\n",
    "print(green)\n",
    "print(tropic)\n",
    "print(red)"
   ]
  },
  {
   "cell_type": "markdown",
   "id": "6d4d518c",
   "metadata": {},
   "source": [
    "## Python - Loop Tuples\n",
    "\n",
    "### Loop Through a Tuple\n",
    "\n",
    "You can loop through the tuple items by using a `for` loop."
   ]
  },
  {
   "cell_type": "code",
   "execution_count": 1,
   "id": "7ad24514",
   "metadata": {},
   "outputs": [
    {
     "name": "stdout",
     "output_type": "stream",
     "text": [
      "apple\n",
      "banana\n",
      "cherry\n"
     ]
    }
   ],
   "source": [
    "thistuple = (\"apple\", \"banana\", \"cherry\")\n",
    "for x in thistuple:\n",
    "    print(x)\n"
   ]
  },
  {
   "cell_type": "markdown",
   "id": "f39a871c",
   "metadata": {},
   "source": [
    "Learn more about `for` loops in our Python For Loops Chapter.\n",
    "\n",
    "### Loop Through the Index Numbers\n",
    "\n",
    "You can also loop through the tuple items by referring to their index number.\n",
    "\n",
    "Use the `range()` and `len()` functions to create a suitable iterable."
   ]
  },
  {
   "cell_type": "code",
   "execution_count": 3,
   "id": "f9ee24b8",
   "metadata": {},
   "outputs": [
    {
     "name": "stdout",
     "output_type": "stream",
     "text": [
      "apple\n",
      "banana\n",
      "cherry\n"
     ]
    }
   ],
   "source": [
    "thistuple = (\"apple\", \"banana\", \"cherry\")\n",
    "for i in range(len(thistuple)):\n",
    "    print(thistuple[i])\n"
   ]
  },
  {
   "cell_type": "markdown",
   "id": "d7ac4eda",
   "metadata": {},
   "source": [
    "### Using a While Loop\n",
    "\n",
    "You can loop through the tuple items by using a `while` loop.\n",
    "\n",
    "Use the `len()` function to determine the length of the tuple, then start at 0 and loop your way through the tuple items by referring to their indexes.\n",
    "\n",
    "Remember to increase the index by 1 after each iteration."
   ]
  },
  {
   "cell_type": "code",
   "execution_count": 4,
   "id": "bcf313f8",
   "metadata": {},
   "outputs": [
    {
     "name": "stdout",
     "output_type": "stream",
     "text": [
      "apple\n",
      "banana\n",
      "cherry\n"
     ]
    }
   ],
   "source": [
    "thistuple = (\"apple\", \"banana\", \"cherry\")\n",
    "i = 0\n",
    "while i < len(thistuple):\n",
    "    print(thistuple[i])\n",
    "    i = i + 1"
   ]
  },
  {
   "cell_type": "markdown",
   "id": "69e7f1a2",
   "metadata": {},
   "source": [
    "Learn more about while loops in our Python While Loops Chapter.\n",
    "\n"
   ]
  },
  {
   "cell_type": "markdown",
   "id": "4d481194",
   "metadata": {},
   "source": [
    "## Python - Join Tuples\n",
    "\n",
    "### Join Two Tuples\n",
    "\n",
    "To join two or more tuples you can use the + operator:"
   ]
  },
  {
   "cell_type": "code",
   "execution_count": 5,
   "id": "e06f02d6",
   "metadata": {},
   "outputs": [
    {
     "name": "stdout",
     "output_type": "stream",
     "text": [
      "('a', 'b', 'c', 1, 2, 3)\n"
     ]
    }
   ],
   "source": [
    "tuple1 = (\"a\", \"b\" , \"c\")\n",
    "tuple2 = (1, 2, 3)\n",
    "\n",
    "tuple3 = tuple1 + tuple2\n",
    "print(tuple3)"
   ]
  },
  {
   "cell_type": "markdown",
   "id": "58e55870",
   "metadata": {},
   "source": [
    "### Multiply Tuples\n",
    "\n",
    "If you want to multiply the content of a tuple a given number of times, you can use the `*` operator:"
   ]
  },
  {
   "cell_type": "code",
   "execution_count": 8,
   "id": "f3342acf",
   "metadata": {},
   "outputs": [
    {
     "name": "stdout",
     "output_type": "stream",
     "text": [
      "('apple', 'banana', 'cherry', 'apple', 'banana', 'cherry')\n"
     ]
    }
   ],
   "source": [
    "fruits = (\"apple\", \"banana\", \"cherry\")\n",
    "mytuple = fruits * 2\n",
    "\n",
    "print(mytuple)"
   ]
  },
  {
   "cell_type": "markdown",
   "id": "568ed7f8",
   "metadata": {},
   "source": [
    "## Python - Tuple Methods\n",
    "\n",
    "### Tuple Methods\n",
    "\n",
    "Python has two built-in methods that you can use on tuples.\n",
    "\n",
    "| Method | Description |\n",
    "|---|---|\n",
    "| count() | Returns the number of times a specified value occurs in a tuple |\n",
    "| index() | Searches the tuple for a specified value and returns the position of where it was found |"
   ]
  },
  {
   "cell_type": "code",
   "execution_count": null,
   "id": "dbcc4d43",
   "metadata": {},
   "outputs": [],
   "source": [
    "# Python Tuple count() Method\n",
    "\n",
    "thistuple = (1, 3, 7, 8, 7, 5, 4, 6, 8, 5)\n",
    "\n",
    "x = thistuple.count(5)\n",
    "\n",
    "print(x)\n"
   ]
  },
  {
   "cell_type": "markdown",
   "id": "397e8064",
   "metadata": {},
   "source": [
    "### Definition and Usage\n",
    "\n",
    "The `count()` method returns the number of times a specified value appears in the tuple.\n",
    "\n",
    "#### Syntax\n",
    "\n",
    "`tuple.count(value)`\n",
    "#### Parameter Values\n",
    "| Parameter | Description |\n",
    "|---|---|\n",
    "| value | Required. The item to search for |"
   ]
  },
  {
   "cell_type": "markdown",
   "id": "36df086e",
   "metadata": {},
   "source": [
    "#### Python Tuple index() Method"
   ]
  },
  {
   "cell_type": "code",
   "execution_count": 9,
   "id": "0e6bd8ec",
   "metadata": {},
   "outputs": [
    {
     "name": "stdout",
     "output_type": "stream",
     "text": [
      "3\n"
     ]
    }
   ],
   "source": [
    "thistuple = (1, 3, 7, 8, 7, 5, 4, 6, 8, 5)\n",
    "\n",
    "x = thistuple.index(8)\n",
    "\n",
    "print(x)\n"
   ]
  },
  {
   "cell_type": "markdown",
   "id": "e56851dc",
   "metadata": {},
   "source": [
    "#### Definition and Usage\n",
    "\n",
    "The `index()` method finds the first occurrence of the specified value.\n",
    "\n",
    "The `index()` method raises an exception if the value is not found.\n",
    "\n",
    "#### Syntax\n",
    "\n",
    "`tuple.index(value)`\n",
    "\n",
    "#### Parameter Values\n",
    "| Parameter | Description |\n",
    "|---|---|\n",
    "| value | Required. The item to search for |"
   ]
  },
  {
   "cell_type": "markdown",
   "id": "fcb2cd22",
   "metadata": {},
   "source": [
    "## Python Sets\n",
    "\n",
    "`myset = {\"apple\", \"banana\", \"cherry\"}`\n",
    "\n",
    "### Set\n",
    "\n",
    "Sets are used to store multiple items in a single variable.\n",
    "\n",
    "Set is one of 4 built-in data types in Python used to store collections of data, the other 3 are List, Tuple, and Dictionary, all with different qualities and usage.\n",
    "\n",
    "A set is a collection which is unordered, unchangeable*, and unindexed.\n",
    "\n",
    "* Note: Set items are unchangeable, but you can remove items and add new items.\n",
    "\n",
    "Sets are written with curly brackets."
   ]
  },
  {
   "cell_type": "code",
   "execution_count": 10,
   "id": "a4d5f811",
   "metadata": {},
   "outputs": [
    {
     "name": "stdout",
     "output_type": "stream",
     "text": [
      "{'cherry', 'apple', 'banana'}\n"
     ]
    }
   ],
   "source": [
    "thisset = {\"apple\", \"banana\", \"cherry\"}\n",
    "print(thisset)\n",
    "\n",
    "# Note: the set list is unordered, meaning: the items will appear in a random order.\n",
    "\n",
    "# Refresh this page to see the change in the result."
   ]
  },
  {
   "cell_type": "markdown",
   "id": "7ef9fa95",
   "metadata": {},
   "source": [
    "### Set Items\n",
    "\n",
    "Set items are unordered, unchangeable, and do not allow duplicate values.\n",
    "\n",
    "### Unordered\n",
    "\n",
    "Unordered means that the items in a set do not have a defined order.\n",
    "\n",
    "Set items can appear in a different order every time you use them, and cannot be referred to by index or key.\n",
    "\n",
    "### Unchangeable\n",
    "\n",
    "Set items are unchangeable, meaning that we cannot change the items after the set has been created.\n",
    "\n",
    "### Duplicates Not Allowed\n",
    "\n",
    "Sets cannot have two items with the same value."
   ]
  },
  {
   "cell_type": "code",
   "execution_count": 11,
   "id": "ae6debb4",
   "metadata": {},
   "outputs": [
    {
     "name": "stdout",
     "output_type": "stream",
     "text": [
      "{'cherry', 'apple', 'banana'}\n"
     ]
    }
   ],
   "source": [
    "thisset = {\"apple\", \"banana\", \"cherry\", \"apple\"}\n",
    "\n",
    "print(thisset)\n"
   ]
  },
  {
   "cell_type": "code",
   "execution_count": 13,
   "id": "ce13d013",
   "metadata": {},
   "outputs": [
    {
     "name": "stdout",
     "output_type": "stream",
     "text": [
      "{'cherry', True, 2, 'banana', 'apple'}\n"
     ]
    }
   ],
   "source": [
    "thisset = {\"apple\", \"banana\", \"cherry\", True, 1, 2}\n",
    "\n",
    "print(thisset)"
   ]
  },
  {
   "cell_type": "code",
   "execution_count": 14,
   "id": "47bd31f7",
   "metadata": {},
   "outputs": [
    {
     "name": "stdout",
     "output_type": "stream",
     "text": [
      "{'cherry', False, True, 'banana', 'apple'}\n"
     ]
    }
   ],
   "source": [
    "thisset = {\"apple\", \"banana\", \"cherry\", False, True, 0}\n",
    "\n",
    "print(thisset)"
   ]
  },
  {
   "cell_type": "markdown",
   "id": "fb4f74b1",
   "metadata": {},
   "source": [
    "### Get the Length of a Set\n",
    "\n",
    "To determine how many items a set has, use the `len()` function."
   ]
  },
  {
   "cell_type": "code",
   "execution_count": 15,
   "id": "913aa012",
   "metadata": {},
   "outputs": [
    {
     "name": "stdout",
     "output_type": "stream",
     "text": [
      "3\n"
     ]
    }
   ],
   "source": [
    "thisset = {\"apple\", \"banana\", \"cherry\"}\n",
    "\n",
    "print(len(thisset))"
   ]
  },
  {
   "cell_type": "markdown",
   "id": "aa4cb05d",
   "metadata": {},
   "source": [
    "### Set Items - Data Types\n",
    "\n",
    "Set items can be of any data type:"
   ]
  },
  {
   "cell_type": "code",
   "execution_count": 16,
   "id": "61b26dc4",
   "metadata": {},
   "outputs": [
    {
     "name": "stdout",
     "output_type": "stream",
     "text": [
      "{'cherry', 'apple', 'banana'}\n",
      "{1, 3, 5, 7, 9}\n",
      "{False, True}\n"
     ]
    }
   ],
   "source": [
    "set1 = {\"apple\", \"banana\", \"cherry\"}\n",
    "set2 = {1, 5, 7, 9, 3}\n",
    "set3 = {True, False, False}\n",
    "\n",
    "print(set1)\n",
    "print(set2)\n",
    "print(set3)"
   ]
  },
  {
   "cell_type": "markdown",
   "id": "2c45e394",
   "metadata": {},
   "source": [
    "A set can contain different data types:"
   ]
  },
  {
   "cell_type": "code",
   "execution_count": 17,
   "id": "e4e107be",
   "metadata": {},
   "outputs": [
    {
     "name": "stdout",
     "output_type": "stream",
     "text": [
      "{'abc', True, 34, 'male', 40}\n"
     ]
    }
   ],
   "source": [
    "set1 = {\"abc\", 34, True, 40, \"male\"}\n",
    "\n",
    "print(set1)"
   ]
  },
  {
   "cell_type": "markdown",
   "id": "f2ff7d4f",
   "metadata": {},
   "source": [
    "### type()\n",
    "\n",
    "From Python's perspective, sets are defined as objects with the data type 'set':\n",
    "\n",
    "`<class 'set'>`"
   ]
  },
  {
   "cell_type": "code",
   "execution_count": 18,
   "id": "bc5eae61",
   "metadata": {},
   "outputs": [
    {
     "name": "stdout",
     "output_type": "stream",
     "text": [
      "<class 'set'>\n"
     ]
    }
   ],
   "source": [
    "myset = {\"apple\", \"banana\", \"cherry\"}\n",
    "\n",
    "print(type(myset))"
   ]
  },
  {
   "cell_type": "markdown",
   "id": "6e9a6246",
   "metadata": {},
   "source": [
    "### The set() Constructor\n",
    "\n",
    "It is also possible to use the `set()` constructor to make a set."
   ]
  },
  {
   "cell_type": "code",
   "execution_count": 19,
   "id": "36345f43",
   "metadata": {},
   "outputs": [
    {
     "name": "stdout",
     "output_type": "stream",
     "text": [
      "{'cherry', 'apple', 'banana'}\n"
     ]
    }
   ],
   "source": [
    "thisset = set((\"apple\", \"banana\", \"cherry\"))\n",
    "print(thisset)\n",
    "# Note: the set list is unordered, so the result will display the items in a random order."
   ]
  },
  {
   "cell_type": "markdown",
   "id": "46ed27af",
   "metadata": {},
   "source": [
    "### Python Collections (Arrays)\n",
    "\n",
    "There are four collection data types in the Python programming language:\n",
    "\n",
    "- **List** is a collection which is ordered and changeable. Allows duplicate members.\n",
    "- **Tuple** is a collection which is ordered and unchangeable. Allows duplicate members.\n",
    "- **Set** is a collection which is unordered, unchangeable*, and unindexed. No duplicate members.\n",
    "- **Dictionary** is a collection which is ordered** and changeable. No duplicate members.\n",
    "\n",
    "*Set items are unchangeable, but you can remove items and add new items.\n",
    "\n",
    "**As of Python version 3.7, dictionaries are ordered. In Python 3.6 and earlier, dictionaries are unordered.\n",
    "\n",
    "When choosing a collection type, it is useful to understand the properties of that type. Choosing the right type for a particular data set could mean retention of meaning, and, it could mean an increase in efficiency or security."
   ]
  },
  {
   "cell_type": "markdown",
   "id": "8605054c",
   "metadata": {},
   "source": [
    "## Python - Access Set Items\n",
    "\n",
    "### Access Items \n",
    "\n",
    "You cannot access items in a set by referring to an index or a key.\n",
    "\n",
    "But you can loop through the set items using a `for` loop, or ask if a specified value is present `in` a set, by using the in keyword."
   ]
  },
  {
   "cell_type": "code",
   "execution_count": 20,
   "id": "b889eee6",
   "metadata": {},
   "outputs": [
    {
     "name": "stdout",
     "output_type": "stream",
     "text": [
      "cherry\n",
      "apple\n",
      "banana\n"
     ]
    }
   ],
   "source": [
    "thisset = {\"apple\", \"banana\", \"cherry\"}\n",
    "\n",
    "for x in thisset:\n",
    "    print(x)"
   ]
  },
  {
   "cell_type": "code",
   "execution_count": 21,
   "id": "21fe4a17",
   "metadata": {},
   "outputs": [
    {
     "name": "stdout",
     "output_type": "stream",
     "text": [
      "True\n"
     ]
    }
   ],
   "source": [
    "thisset = {\"apple\", \"banana\", \"cherry\"}\n",
    "\n",
    "print(\"banana\" in thisset)"
   ]
  },
  {
   "cell_type": "code",
   "execution_count": 22,
   "id": "ff8ce451",
   "metadata": {},
   "outputs": [
    {
     "name": "stdout",
     "output_type": "stream",
     "text": [
      "False\n"
     ]
    }
   ],
   "source": [
    "thisset = {\"apple\", \"banana\", \"cherry\"}\n",
    "\n",
    "print(\"banana\" not in thisset)"
   ]
  },
  {
   "cell_type": "markdown",
   "id": "a29845d5",
   "metadata": {},
   "source": [
    "## Python - Add Set Items\n",
    "\n",
    "To add one item to a set use the `add()` method."
   ]
  },
  {
   "cell_type": "code",
   "execution_count": 23,
   "id": "4abd948a",
   "metadata": {},
   "outputs": [
    {
     "name": "stdout",
     "output_type": "stream",
     "text": [
      "{'cherry', 'orange', 'apple', 'banana'}\n"
     ]
    }
   ],
   "source": [
    "thisset = {\"apple\", \"banana\", \"cherry\"}\n",
    "\n",
    "thisset.add(\"orange\")\n",
    "\n",
    "print(thisset)\n"
   ]
  },
  {
   "cell_type": "markdown",
   "id": "0531d1b5",
   "metadata": {},
   "source": [
    "### Add Sets\n",
    "\n",
    "To add items from another set into the current set, use the update() method."
   ]
  },
  {
   "cell_type": "code",
   "execution_count": 24,
   "id": "22e78513",
   "metadata": {},
   "outputs": [
    {
     "name": "stdout",
     "output_type": "stream",
     "text": [
      "{'cherry', 'pineapple', 'mango', 'banana', 'apple', 'papaya'}\n"
     ]
    }
   ],
   "source": [
    "thisset = {\"apple\", \"banana\", \"cherry\"}\n",
    "tropical = {\"pineapple\", \"mango\", \"papaya\"}\n",
    "\n",
    "thisset.update(tropical)\n",
    "\n",
    "print(thisset)\n"
   ]
  },
  {
   "cell_type": "markdown",
   "id": "94e37031",
   "metadata": {},
   "source": [
    "### Add Any Iterable\n",
    "\n",
    "The object in the `update()` method does not have to be a set, it can be any iterable object (tuples, lists, dictionaries etc.)."
   ]
  },
  {
   "cell_type": "code",
   "execution_count": 25,
   "id": "6dac8745",
   "metadata": {},
   "outputs": [
    {
     "name": "stdout",
     "output_type": "stream",
     "text": [
      "{'cherry', 'orange', 'kiwi', 'banana', 'apple'}\n"
     ]
    }
   ],
   "source": [
    "thisset = {\"apple\", \"banana\", \"cherry\"}\n",
    "mylist = [\"kiwi\", \"orange\"]\n",
    "\n",
    "thisset.update(mylist)\n",
    "\n",
    "print(thisset)"
   ]
  },
  {
   "cell_type": "code",
   "execution_count": null,
   "id": "024c5e80",
   "metadata": {},
   "outputs": [],
   "source": []
  },
  {
   "cell_type": "code",
   "execution_count": null,
   "id": "4b07c77e",
   "metadata": {},
   "outputs": [],
   "source": []
  },
  {
   "cell_type": "code",
   "execution_count": null,
   "id": "bfab8ba7",
   "metadata": {},
   "outputs": [],
   "source": []
  },
  {
   "cell_type": "code",
   "execution_count": null,
   "id": "38ad6e76",
   "metadata": {},
   "outputs": [],
   "source": []
  },
  {
   "cell_type": "code",
   "execution_count": null,
   "id": "88796838",
   "metadata": {},
   "outputs": [],
   "source": []
  },
  {
   "cell_type": "code",
   "execution_count": null,
   "id": "cbf852ed",
   "metadata": {},
   "outputs": [],
   "source": []
  },
  {
   "cell_type": "code",
   "execution_count": null,
   "id": "286385dd",
   "metadata": {},
   "outputs": [],
   "source": []
  },
  {
   "cell_type": "code",
   "execution_count": null,
   "id": "01696b54",
   "metadata": {},
   "outputs": [],
   "source": []
  },
  {
   "cell_type": "code",
   "execution_count": null,
   "id": "0c49ffc8",
   "metadata": {},
   "outputs": [],
   "source": []
  },
  {
   "cell_type": "code",
   "execution_count": null,
   "id": "9d0e97b1",
   "metadata": {},
   "outputs": [],
   "source": []
  },
  {
   "cell_type": "code",
   "execution_count": null,
   "id": "91576547",
   "metadata": {},
   "outputs": [],
   "source": []
  },
  {
   "cell_type": "code",
   "execution_count": null,
   "id": "3ec4f676",
   "metadata": {},
   "outputs": [],
   "source": []
  },
  {
   "cell_type": "code",
   "execution_count": null,
   "id": "2e91771d",
   "metadata": {},
   "outputs": [],
   "source": []
  },
  {
   "cell_type": "code",
   "execution_count": null,
   "id": "9ace16fb",
   "metadata": {},
   "outputs": [],
   "source": []
  },
  {
   "cell_type": "code",
   "execution_count": null,
   "id": "51596765",
   "metadata": {},
   "outputs": [],
   "source": []
  },
  {
   "cell_type": "code",
   "execution_count": null,
   "id": "8562fc9d",
   "metadata": {},
   "outputs": [],
   "source": []
  },
  {
   "cell_type": "code",
   "execution_count": null,
   "id": "a22ef301",
   "metadata": {},
   "outputs": [],
   "source": []
  },
  {
   "cell_type": "code",
   "execution_count": null,
   "id": "8567155f",
   "metadata": {},
   "outputs": [],
   "source": []
  },
  {
   "cell_type": "code",
   "execution_count": null,
   "id": "d8d4cfba",
   "metadata": {},
   "outputs": [],
   "source": []
  },
  {
   "cell_type": "code",
   "execution_count": null,
   "id": "686dc681",
   "metadata": {},
   "outputs": [],
   "source": []
  },
  {
   "cell_type": "code",
   "execution_count": null,
   "id": "fd198789",
   "metadata": {},
   "outputs": [],
   "source": []
  },
  {
   "cell_type": "code",
   "execution_count": null,
   "id": "99c7c00e",
   "metadata": {},
   "outputs": [],
   "source": []
  },
  {
   "cell_type": "code",
   "execution_count": null,
   "id": "cc48ab06",
   "metadata": {},
   "outputs": [],
   "source": []
  },
  {
   "cell_type": "code",
   "execution_count": null,
   "id": "bf9413ed",
   "metadata": {},
   "outputs": [],
   "source": []
  },
  {
   "cell_type": "code",
   "execution_count": null,
   "id": "4a2e42f9",
   "metadata": {},
   "outputs": [],
   "source": []
  },
  {
   "cell_type": "code",
   "execution_count": null,
   "id": "eef4249b",
   "metadata": {},
   "outputs": [],
   "source": []
  },
  {
   "cell_type": "code",
   "execution_count": null,
   "id": "390e63b9",
   "metadata": {},
   "outputs": [],
   "source": []
  },
  {
   "cell_type": "code",
   "execution_count": null,
   "id": "6db5e0d2",
   "metadata": {},
   "outputs": [],
   "source": []
  },
  {
   "cell_type": "code",
   "execution_count": null,
   "id": "4b3405f6",
   "metadata": {},
   "outputs": [],
   "source": []
  },
  {
   "cell_type": "code",
   "execution_count": null,
   "id": "c12a4ba8",
   "metadata": {},
   "outputs": [],
   "source": []
  },
  {
   "cell_type": "code",
   "execution_count": null,
   "id": "287b611f",
   "metadata": {},
   "outputs": [],
   "source": []
  },
  {
   "cell_type": "code",
   "execution_count": null,
   "id": "fed7e190",
   "metadata": {},
   "outputs": [],
   "source": []
  },
  {
   "cell_type": "code",
   "execution_count": null,
   "id": "cd071cb8",
   "metadata": {},
   "outputs": [],
   "source": []
  },
  {
   "cell_type": "code",
   "execution_count": null,
   "id": "a2844c7a",
   "metadata": {},
   "outputs": [],
   "source": []
  },
  {
   "cell_type": "code",
   "execution_count": null,
   "id": "870ed7a2",
   "metadata": {},
   "outputs": [],
   "source": []
  },
  {
   "cell_type": "code",
   "execution_count": null,
   "id": "fc6c8651",
   "metadata": {},
   "outputs": [],
   "source": []
  },
  {
   "cell_type": "code",
   "execution_count": null,
   "id": "89e50ef7",
   "metadata": {},
   "outputs": [],
   "source": []
  },
  {
   "cell_type": "code",
   "execution_count": null,
   "id": "891a96dd",
   "metadata": {},
   "outputs": [],
   "source": []
  },
  {
   "cell_type": "code",
   "execution_count": null,
   "id": "8bb9f8aa",
   "metadata": {},
   "outputs": [],
   "source": []
  },
  {
   "cell_type": "code",
   "execution_count": null,
   "id": "3754ab23",
   "metadata": {},
   "outputs": [],
   "source": []
  },
  {
   "cell_type": "code",
   "execution_count": null,
   "id": "d56a5211",
   "metadata": {},
   "outputs": [],
   "source": []
  },
  {
   "cell_type": "code",
   "execution_count": null,
   "id": "7d0b4fa1",
   "metadata": {},
   "outputs": [],
   "source": []
  },
  {
   "cell_type": "code",
   "execution_count": null,
   "id": "8f43ac72",
   "metadata": {},
   "outputs": [],
   "source": []
  },
  {
   "cell_type": "code",
   "execution_count": null,
   "id": "301f6c3e",
   "metadata": {},
   "outputs": [],
   "source": []
  },
  {
   "cell_type": "code",
   "execution_count": 25,
   "id": "9d0d1692",
   "metadata": {},
   "outputs": [
    {
     "name": "stdout",
     "output_type": "stream",
     "text": [
      "Hi, I'm John Conor and I'm 36 years old.\n"
     ]
    }
   ],
   "source": [
    "class Person:\n",
    "    def __init__(self, name, age):\n",
    "        self.name = name\n",
    "        self.age = age\n",
    "    \n",
    "    def greet(self):\n",
    "        print(f\"Hi, I'm {self.name} and I'm {self.age} years old.\")\n",
    "\n",
    "p1 = Person(\"John Conor\", 36)\n",
    "p1.greet()\n",
    "\n"
   ]
  }
 ],
 "metadata": {
  "kernelspec": {
   "display_name": "Python 3",
   "language": "python",
   "name": "python3"
  },
  "language_info": {
   "codemirror_mode": {
    "name": "ipython",
    "version": 3
   },
   "file_extension": ".py",
   "mimetype": "text/x-python",
   "name": "python",
   "nbconvert_exporter": "python",
   "pygments_lexer": "ipython3",
   "version": "3.13.2"
  }
 },
 "nbformat": 4,
 "nbformat_minor": 5
}
