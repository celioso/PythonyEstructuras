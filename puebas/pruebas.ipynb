{
 "cells": [
  {
   "cell_type": "markdown",
   "id": "13ccb46b",
   "metadata": {},
   "source": [
    "# Pruebas de LeetCode"
   ]
  },
  {
   "cell_type": "markdown",
   "id": "58fb70b1",
   "metadata": {},
   "source": [
    "## 1. Two Sum de LeetCode.\n",
    "\n",
    "Given an array of integers `nums` and an integer `target`, return indices of the two numbers such that they add up to `target`.\n",
    "\n",
    "You may assume that each input would have **exactly one solution**, and you may not use the same element twice.\n",
    "\n",
    "You can return the answer in any order.\n",
    "\n",
    "**Example 1:**\n",
    "\n",
    "**Input**: nums = [2,7,11,15], target = 9\n",
    "**Output**: [0,1]\n",
    "**Explanation**: Because nums[0] + nums[1] == 9, we return [0, 1].\n",
    "\n",
    "**Example 2**:\n",
    "\n",
    "**Input**: nums = [3,2,4], target = 6\n",
    "**Output**: [1,2]\n",
    "\n",
    "Example 3:\n",
    "\n",
    "**Input**: nums = [3,3], target = 6\n",
    "**Output**: [0,1]"
   ]
  },
  {
   "cell_type": "code",
   "execution_count": 18,
   "id": "e350f15b",
   "metadata": {},
   "outputs": [
    {
     "name": "stdout",
     "output_type": "stream",
     "text": [
      "[0, 1]\n",
      "None\n",
      "None\n"
     ]
    }
   ],
   "source": [
    "from typing import List\n",
    "\n",
    "nums = [2, 7, 11, 15]\n",
    "#nums = [3,2,4]\n",
    "#nums = [3,3]\n",
    "\n",
    "class Solution:\n",
    "    def twoSum(self, nums: List[int], target: int) -> List[int]:\n",
    "        \"\"\"seen = {}\n",
    "\n",
    "        for i, num in enumerate(nums):\n",
    "            complement = target - num\n",
    "            if complement in seen:\n",
    "                return [seen[complement], i]\n",
    "            seen[num] = i\"\"\"\n",
    "        for i in range(len(nums)):\n",
    "            for j in range(i + 1, len(nums)):\n",
    "                if nums[i] + nums[j] == target:\n",
    "                    return [i, j]\n",
    "\n",
    "sol = Solution()\n",
    "print(sol.twoSum(nums, 9))\n",
    "print(sol.twoSum(nums, 6)) \n",
    "print(sol.twoSum(nums, 6)) "
   ]
  },
  {
   "cell_type": "markdown",
   "id": "5a07d8e2",
   "metadata": {},
   "source": [
    "## 2. Add Two Numbers\n",
    " \n",
    "You are given two **non-empty** linked lists representing two non-negative integers. The digits are stored in **reverse order**, and each of their nodes contains a single digit. Add the two numbers and return the sum as a linked list.\n",
    "\n",
    "You may assume the two numbers do not contain any leading zero, except the number 0 itself.\n",
    "\n",
    "![add two number 1](../images/addtwonumber1.jpg)\n",
    "\n",
    "**Example 1:**\n",
    "\n",
    "\n",
    "Input: l1 = [2,4,3], l2 = [5,6,4]\n",
    "Output: [7,0,8]\n",
    "Explanation: 342 + 465 = 807.\n",
    "Example 2:\n",
    "\n",
    "Input: l1 = [0], l2 = [0]\n",
    "Output: [0]\n",
    "Example 3:\n",
    "\n",
    "Input: l1 = [9,9,9,9,9,9,9], l2 = [9,9,9,9]\n",
    "Output: [8,9,9,9,0,0,0,1]"
   ]
  },
  {
   "cell_type": "code",
   "execution_count": 19,
   "id": "d33d3e69",
   "metadata": {},
   "outputs": [
    {
     "ename": "NameError",
     "evalue": "name 'Optional' is not defined",
     "output_type": "error",
     "traceback": [
      "\u001b[31m---------------------------------------------------------------------------\u001b[39m",
      "\u001b[31mNameError\u001b[39m                                 Traceback (most recent call last)",
      "\u001b[36mCell\u001b[39m\u001b[36m \u001b[39m\u001b[32mIn[19]\u001b[39m\u001b[32m, line 6\u001b[39m\n\u001b[32m      1\u001b[39m \u001b[38;5;66;03m# Definition for singly-linked list.\u001b[39;00m\n\u001b[32m      2\u001b[39m \u001b[38;5;66;03m# class ListNode:\u001b[39;00m\n\u001b[32m      3\u001b[39m \u001b[38;5;66;03m#     def __init__(self, val=0, next=None):\u001b[39;00m\n\u001b[32m      4\u001b[39m \u001b[38;5;66;03m#         self.val = val\u001b[39;00m\n\u001b[32m      5\u001b[39m \u001b[38;5;66;03m#         self.next = next\u001b[39;00m\n\u001b[32m----> \u001b[39m\u001b[32m6\u001b[39m \u001b[38;5;28;43;01mclass\u001b[39;49;00m\u001b[38;5;250;43m \u001b[39;49m\u001b[34;43;01mSolution\u001b[39;49;00m\u001b[43m:\u001b[49m\n\u001b[32m      7\u001b[39m \u001b[43m    \u001b[49m\u001b[38;5;28;43;01mdef\u001b[39;49;00m\u001b[38;5;250;43m \u001b[39;49m\u001b[34;43maddTwoNumbers\u001b[39;49m\u001b[43m(\u001b[49m\u001b[38;5;28;43mself\u001b[39;49m\u001b[43m,\u001b[49m\u001b[43m \u001b[49m\u001b[43ml1\u001b[49m\u001b[43m:\u001b[49m\u001b[43m \u001b[49m\u001b[43mOptional\u001b[49m\u001b[43m[\u001b[49m\u001b[43mListNode\u001b[49m\u001b[43m]\u001b[49m\u001b[43m,\u001b[49m\u001b[43m \u001b[49m\u001b[43ml2\u001b[49m\u001b[43m:\u001b[49m\u001b[43m \u001b[49m\u001b[43mOptional\u001b[49m\u001b[43m[\u001b[49m\u001b[43mListNode\u001b[49m\u001b[43m]\u001b[49m\u001b[43m)\u001b[49m\u001b[43m \u001b[49m\u001b[43m-\u001b[49m\u001b[43m>\u001b[49m\u001b[43m \u001b[49m\u001b[43mOptional\u001b[49m\u001b[43m[\u001b[49m\u001b[43mListNode\u001b[49m\u001b[43m]\u001b[49m\u001b[43m:\u001b[49m\n\u001b[32m      8\u001b[39m \u001b[43m        \u001b[49m\u001b[43mdummy\u001b[49m\u001b[43m \u001b[49m\u001b[43m=\u001b[49m\u001b[43m \u001b[49m\u001b[43mListNode\u001b[49m\u001b[43m(\u001b[49m\u001b[43m)\u001b[49m\n",
      "\u001b[36mCell\u001b[39m\u001b[36m \u001b[39m\u001b[32mIn[19]\u001b[39m\u001b[32m, line 7\u001b[39m, in \u001b[36mSolution\u001b[39m\u001b[34m()\u001b[39m\n\u001b[32m      6\u001b[39m \u001b[38;5;28;01mclass\u001b[39;00m\u001b[38;5;250m \u001b[39m\u001b[34;01mSolution\u001b[39;00m:\n\u001b[32m----> \u001b[39m\u001b[32m7\u001b[39m     \u001b[38;5;28;01mdef\u001b[39;00m\u001b[38;5;250m \u001b[39m\u001b[34maddTwoNumbers\u001b[39m(\u001b[38;5;28mself\u001b[39m, l1: \u001b[43mOptional\u001b[49m[ListNode], l2: Optional[ListNode]) -> Optional[ListNode]:\n\u001b[32m      8\u001b[39m         dummy = ListNode()\n\u001b[32m      9\u001b[39m         current = dummy\n",
      "\u001b[31mNameError\u001b[39m: name 'Optional' is not defined"
     ]
    }
   ],
   "source": [
    "# Definition for singly-linked list.\n",
    "# class ListNode:\n",
    "#     def __init__(self, val=0, next=None):\n",
    "#         self.val = val\n",
    "#         self.next = next\n",
    "class Solution:\n",
    "    def addTwoNumbers(self, l1: Optional[ListNode], l2: Optional[ListNode]) -> Optional[ListNode]:\n",
    "        dummy = ListNode()\n",
    "        current = dummy\n",
    "        carry = 0\n",
    "\n",
    "        while l1 or l2 or carry:\n",
    "            val1 = l1.val if l1 else 0\n",
    "            val2 = l2.val if l2 else 0\n",
    "\n",
    "            total = val1 + val2 + carry\n",
    "\n",
    "            carry = total// 10\n",
    "            current.next = ListNode(total % 10)\n",
    "            current = current.next\n",
    "\n",
    "            if l1:\n",
    "                l1 = l1.next\n",
    "            if l2:\n",
    "                l2 = l2.next\n",
    "        return dummy.next\n",
    "      "
   ]
  },
  {
   "cell_type": "markdown",
   "id": "2ed3a2fa",
   "metadata": {},
   "source": [
    "## 3. Longest Substring Without Repeating Characters\n",
    "\n",
    "Given a string s, find the length of the longest substring without duplicate characters.\n",
    "\n",
    "Example 1:\n",
    "\n",
    "Input: s = \"abcabcbb\"\n",
    "Output: 3\n",
    "Explanation: The answer is \"abc\", with the length of 3. Note that \"bca\" and \"cab\" are also correct answers.\n",
    "Example 2:\n",
    "\n",
    "Input: s = \"bbbbb\"\n",
    "Output: 1\n",
    "Explanation: The answer is \"b\", with the length of 1.\n",
    "Example 3:\n",
    "\n",
    "Input: s = \"pwwkew\"\n",
    "Output: 3\n",
    "Explanation: The answer is \"wke\", with the length of 3.\n",
    "Notice that the answer must be a substring, \"pwke\" is a subsequence and not a substring."
   ]
  }
 ],
 "metadata": {
  "kernelspec": {
   "display_name": "Python 3",
   "language": "python",
   "name": "python3"
  },
  "language_info": {
   "codemirror_mode": {
    "name": "ipython",
    "version": 3
   },
   "file_extension": ".py",
   "mimetype": "text/x-python",
   "name": "python",
   "nbconvert_exporter": "python",
   "pygments_lexer": "ipython3",
   "version": "3.13.2"
  }
 },
 "nbformat": 4,
 "nbformat_minor": 5
}
