{
 "cells": [
  {
   "cell_type": "markdown",
   "id": "13ccb46b",
   "metadata": {},
   "source": [
    "# Pruebas de LeetCode"
   ]
  },
  {
   "cell_type": "markdown",
   "id": "58fb70b1",
   "metadata": {},
   "source": [
    "## 1. Two Sum de LeetCode.\n",
    "\n",
    "Given an array of integers `nums` and an integer `target`, return indices of the two numbers such that they add up to `target`.\n",
    "\n",
    "You may assume that each input would have **exactly one solution**, and you may not use the same element twice.\n",
    "\n",
    "You can return the answer in any order.\n",
    "\n",
    "**Example 1:**\n",
    "\n",
    "**Input**: nums = [2,7,11,15], target = 9\n",
    "**Output**: [0,1]\n",
    "**Explanation**: Because nums[0] + nums[1] == 9, we return [0, 1].\n",
    "\n",
    "**Example 2**:\n",
    "\n",
    "**Input**: nums = [3,2,4], target = 6\n",
    "**Output**: [1,2]\n",
    "\n",
    "Example 3:\n",
    "\n",
    "**Input**: nums = [3,3], target = 6\n",
    "**Output**: [0,1]"
   ]
  },
  {
   "cell_type": "code",
   "execution_count": 18,
   "id": "e350f15b",
   "metadata": {},
   "outputs": [
    {
     "name": "stdout",
     "output_type": "stream",
     "text": [
      "[0, 1]\n",
      "None\n",
      "None\n"
     ]
    }
   ],
   "source": [
    "from typing import List\n",
    "\n",
    "nums = [2, 7, 11, 15]\n",
    "#nums = [3,2,4]\n",
    "#nums = [3,3]\n",
    "\n",
    "class Solution:\n",
    "    def twoSum(self, nums: List[int], target: int) -> List[int]:\n",
    "        \"\"\"seen = {}\n",
    "\n",
    "        for i, num in enumerate(nums):\n",
    "            complement = target - num\n",
    "            if complement in seen:\n",
    "                return [seen[complement], i]\n",
    "            seen[num] = i\"\"\"\n",
    "        for i in range(len(nums)):\n",
    "            for j in range(i + 1, len(nums)):\n",
    "                if nums[i] + nums[j] == target:\n",
    "                    return [i, j]\n",
    "\n",
    "sol = Solution()\n",
    "print(sol.twoSum(nums, 9))\n",
    "print(sol.twoSum(nums, 6)) \n",
    "print(sol.twoSum(nums, 6)) "
   ]
  },
  {
   "cell_type": "markdown",
   "id": "5a07d8e2",
   "metadata": {},
   "source": [
    "## 2. Add Two Numbers\n",
    " \n",
    "You are given two **non-empty** linked lists representing two non-negative integers. The digits are stored in **reverse order**, and each of their nodes contains a single digit. Add the two numbers and return the sum as a linked list.\n",
    "\n",
    "You may assume the two numbers do not contain any leading zero, except the number 0 itself.\n",
    "\n",
    "![add two number 1](../images/addtwonumber1.jpg)\n",
    "\n",
    "**Example 1:**\n",
    "\n",
    "\n",
    "Input: l1 = [2,4,3], l2 = [5,6,4]\n",
    "Output: [7,0,8]\n",
    "Explanation: 342 + 465 = 807.\n",
    "Example 2:\n",
    "\n",
    "Input: l1 = [0], l2 = [0]\n",
    "Output: [0]\n",
    "Example 3:\n",
    "\n",
    "Input: l1 = [9,9,9,9,9,9,9], l2 = [9,9,9,9]\n",
    "Output: [8,9,9,9,0,0,0,1]"
   ]
  },
  {
   "cell_type": "code",
   "execution_count": 19,
   "id": "d33d3e69",
   "metadata": {},
   "outputs": [
    {
     "ename": "NameError",
     "evalue": "name 'Optional' is not defined",
     "output_type": "error",
     "traceback": [
      "\u001b[31m---------------------------------------------------------------------------\u001b[39m",
      "\u001b[31mNameError\u001b[39m                                 Traceback (most recent call last)",
      "\u001b[36mCell\u001b[39m\u001b[36m \u001b[39m\u001b[32mIn[19]\u001b[39m\u001b[32m, line 6\u001b[39m\n\u001b[32m      1\u001b[39m \u001b[38;5;66;03m# Definition for singly-linked list.\u001b[39;00m\n\u001b[32m      2\u001b[39m \u001b[38;5;66;03m# class ListNode:\u001b[39;00m\n\u001b[32m      3\u001b[39m \u001b[38;5;66;03m#     def __init__(self, val=0, next=None):\u001b[39;00m\n\u001b[32m      4\u001b[39m \u001b[38;5;66;03m#         self.val = val\u001b[39;00m\n\u001b[32m      5\u001b[39m \u001b[38;5;66;03m#         self.next = next\u001b[39;00m\n\u001b[32m----> \u001b[39m\u001b[32m6\u001b[39m \u001b[38;5;28;43;01mclass\u001b[39;49;00m\u001b[38;5;250;43m \u001b[39;49m\u001b[34;43;01mSolution\u001b[39;49;00m\u001b[43m:\u001b[49m\n\u001b[32m      7\u001b[39m \u001b[43m    \u001b[49m\u001b[38;5;28;43;01mdef\u001b[39;49;00m\u001b[38;5;250;43m \u001b[39;49m\u001b[34;43maddTwoNumbers\u001b[39;49m\u001b[43m(\u001b[49m\u001b[38;5;28;43mself\u001b[39;49m\u001b[43m,\u001b[49m\u001b[43m \u001b[49m\u001b[43ml1\u001b[49m\u001b[43m:\u001b[49m\u001b[43m \u001b[49m\u001b[43mOptional\u001b[49m\u001b[43m[\u001b[49m\u001b[43mListNode\u001b[49m\u001b[43m]\u001b[49m\u001b[43m,\u001b[49m\u001b[43m \u001b[49m\u001b[43ml2\u001b[49m\u001b[43m:\u001b[49m\u001b[43m \u001b[49m\u001b[43mOptional\u001b[49m\u001b[43m[\u001b[49m\u001b[43mListNode\u001b[49m\u001b[43m]\u001b[49m\u001b[43m)\u001b[49m\u001b[43m \u001b[49m\u001b[43m-\u001b[49m\u001b[43m>\u001b[49m\u001b[43m \u001b[49m\u001b[43mOptional\u001b[49m\u001b[43m[\u001b[49m\u001b[43mListNode\u001b[49m\u001b[43m]\u001b[49m\u001b[43m:\u001b[49m\n\u001b[32m      8\u001b[39m \u001b[43m        \u001b[49m\u001b[43mdummy\u001b[49m\u001b[43m \u001b[49m\u001b[43m=\u001b[49m\u001b[43m \u001b[49m\u001b[43mListNode\u001b[49m\u001b[43m(\u001b[49m\u001b[43m)\u001b[49m\n",
      "\u001b[36mCell\u001b[39m\u001b[36m \u001b[39m\u001b[32mIn[19]\u001b[39m\u001b[32m, line 7\u001b[39m, in \u001b[36mSolution\u001b[39m\u001b[34m()\u001b[39m\n\u001b[32m      6\u001b[39m \u001b[38;5;28;01mclass\u001b[39;00m\u001b[38;5;250m \u001b[39m\u001b[34;01mSolution\u001b[39;00m:\n\u001b[32m----> \u001b[39m\u001b[32m7\u001b[39m     \u001b[38;5;28;01mdef\u001b[39;00m\u001b[38;5;250m \u001b[39m\u001b[34maddTwoNumbers\u001b[39m(\u001b[38;5;28mself\u001b[39m, l1: \u001b[43mOptional\u001b[49m[ListNode], l2: Optional[ListNode]) -> Optional[ListNode]:\n\u001b[32m      8\u001b[39m         dummy = ListNode()\n\u001b[32m      9\u001b[39m         current = dummy\n",
      "\u001b[31mNameError\u001b[39m: name 'Optional' is not defined"
     ]
    }
   ],
   "source": [
    "# Definition for singly-linked list.\n",
    "# class ListNode:\n",
    "#     def __init__(self, val=0, next=None):\n",
    "#         self.val = val\n",
    "#         self.next = next\n",
    "class Solution:\n",
    "    def addTwoNumbers(self, l1: Optional[ListNode], l2: Optional[ListNode]) -> Optional[ListNode]:\n",
    "        dummy = ListNode()\n",
    "        current = dummy\n",
    "        carry = 0\n",
    "\n",
    "        while l1 or l2 or carry:\n",
    "            val1 = l1.val if l1 else 0\n",
    "            val2 = l2.val if l2 else 0\n",
    "\n",
    "            total = val1 + val2 + carry\n",
    "\n",
    "            carry = total// 10\n",
    "            current.next = ListNode(total % 10)\n",
    "            current = current.next\n",
    "\n",
    "            if l1:\n",
    "                l1 = l1.next\n",
    "            if l2:\n",
    "                l2 = l2.next\n",
    "        return dummy.next\n",
    "      "
   ]
  },
  {
   "cell_type": "markdown",
   "id": "2ed3a2fa",
   "metadata": {},
   "source": [
    "## 3. Longest Substring Without Repeating Characters\n",
    "\n",
    "Given a string s, find the length of the longest substring without duplicate characters.\n",
    "\n",
    "Example 1:\n",
    "\n",
    "Input: s = \"abcabcbb\"\n",
    "Output: 3\n",
    "Explanation: The answer is \"abc\", with the length of 3. Note that \"bca\" and \"cab\" are also correct answers.\n",
    "Example 2:\n",
    "\n",
    "Input: s = \"bbbbb\"\n",
    "Output: 1\n",
    "Explanation: The answer is \"b\", with the length of 1.\n",
    "Example 3:\n",
    "\n",
    "Input: s = \"pwwkew\"\n",
    "Output: 3\n",
    "Explanation: The answer is \"wke\", with the length of 3.\n",
    "Notice that the answer must be a substring, \"pwke\" is a subsequence and not a substring."
   ]
  },
  {
   "cell_type": "code",
   "execution_count": 1,
   "id": "93e0c5e2",
   "metadata": {},
   "outputs": [],
   "source": [
    "class Solution:\n",
    "    def lengthOfLongestSubstring(self, s: str) -> int:\n",
    "        char_set = set()\n",
    "        left = 0\n",
    "        max_length = 0\n",
    "\n",
    "        for right in range(len(s)):\n",
    "            while s[right] in char_set:\n",
    "                char_set.remove(s[left])\n",
    "                left += 1\n",
    "\n",
    "            char_set.add(s[right])\n",
    "\n",
    "            max_length = max(max_length, right - left + 1)\n",
    "\n",
    "        return max_length"
   ]
  },
  {
   "cell_type": "markdown",
   "id": "118a06b8",
   "metadata": {},
   "source": [
    "## 4. Median of Two Sorted Arrays\n",
    " \n",
    "Given two sorted arrays nums1 and nums2 of size m and n respectively, return the median of the two sorted arrays.\n",
    "\n",
    "The overall run time complexity should be O(log (m+n)).\n",
    "\n",
    "**Example 1**:\n",
    "\n",
    "Input: nums1 = [1,3], nums2 = [2]\n",
    "Output: 2.00000\n",
    "Explanation: merged array = [1,2,3] and median is 2.\n",
    "\n",
    "**Example 2**:\n",
    "\n",
    "Input: nums1 = [1,2], nums2 = [3,4]\n",
    "Output: 2.50000\n",
    "Explanation: merged array = [1,2,3,4] and median is (2 + 3) / 2 = 2.5.\n",
    " "
   ]
  },
  {
   "cell_type": "markdown",
   "id": "75f0f869",
   "metadata": {},
   "source": [
    "### Solución Simple (O(m + n))"
   ]
  },
  {
   "cell_type": "code",
   "execution_count": 2,
   "id": "efd64ff6",
   "metadata": {},
   "outputs": [],
   "source": [
    "from typing import List\n",
    "\n",
    "class Solution:\n",
    "    def findMedianSortedArrays(self, nums1: List[int], nums2: List[int]) -> float:\n",
    "        merged = sorted(nums1 + nums2)\n",
    "        n = len(merged)\n",
    "        mid = n // 2\n",
    "\n",
    "        if n % 2 == 0:\n",
    "            return (merged[mid - 1] + merged[mid]) / 2\n",
    "        else:\n",
    "            return merged[mid]\n",
    "\n",
    "            return merged[mid]"
   ]
  },
  {
   "cell_type": "code",
   "execution_count": null,
   "id": "8d1150ed",
   "metadata": {},
   "outputs": [
    {
     "name": "stdout",
     "output_type": "stream",
     "text": [
      "2\n",
      "2.5\n",
      "0.0\n",
      "1\n"
     ]
    }
   ],
   "source": [
    "sol = Solution()\n",
    "print(sol.findMedianSortedArrays([1, 3], [2]))\n",
    "print(sol.findMedianSortedArrays([1, 2], [3, 4]))\n",
    "print(sol.findMedianSortedArrays([0, 0], [0, 0]))\n",
    "print(sol.findMedianSortedArrays([], [1])) "
   ]
  },
  {
   "cell_type": "markdown",
   "id": "e6d286c4",
   "metadata": {},
   "source": [
    "### Solución Óptima (O(log(min(m, n))))"
   ]
  },
  {
   "cell_type": "code",
   "execution_count": null,
   "id": "a504a19f",
   "metadata": {},
   "outputs": [
    {
     "name": "stdout",
     "output_type": "stream",
     "text": [
      "2\n",
      "2.5\n",
      "0.0\n",
      "1\n"
     ]
    }
   ],
   "source": [
    "from typing import List\n",
    "class Solution:\n",
    "    def findMedianSortedArrays(self, nums1: List[int], nums2: List[int]) -> float:\n",
    "        # Aseguramos que nums1 sea el más corto\n",
    "        if len(nums1) > len(nums2):\n",
    "            nums1, nums2 = nums2, nums1\n",
    "        \n",
    "        m, n = len(nums1), len(nums2)\n",
    "        left, right = 0, m\n",
    "        \n",
    "        while left <= right:\n",
    "            i = (left + right) // 2\n",
    "            j = (m + n + 1) // 2 - i\n",
    "            \n",
    "            left1 = float('-inf') if i == 0 else nums1[i - 1]\n",
    "            right1 = float('inf') if i == m else nums1[i]\n",
    "            left2 = float('-inf') if j == 0 else nums2[j - 1]\n",
    "            right2 = float('inf') if j == n else nums2[j]\n",
    "            \n",
    "            if left1 <= right2 and left2 <= right1:\n",
    "                if (m + n) % 2 == 0:\n",
    "                    return (max(left1, left2) + min(right1, right2)) / 2\n",
    "                else:\n",
    "                    return max(left1, left2)\n",
    "            elif left1 > right2:\n",
    "                right = i - 1\n",
    "            else:\n",
    "                left = i + 1\n",
    "\n",
    "sol = Solution()\n",
    "print(sol.findMedianSortedArrays([1, 3], [2]))\n",
    "print(sol.findMedianSortedArrays([1, 2], [3, 4]))\n",
    "print(sol.findMedianSortedArrays([0, 0], [0, 0]))\n",
    "print(sol.findMedianSortedArrays([], [1])) "
   ]
  },
  {
   "cell_type": "markdown",
   "id": "cd2d7c0e",
   "metadata": {},
   "source": [
    "## 5. Longest Palindromic Substring\n",
    "\n",
    "Given a string s, return the longest palindromic substring in s.\n",
    "\n",
    "**Example 1**:\n",
    "\n",
    "Input: s = \"babad\"\n",
    "Output: \"bab\"\n",
    "Explanation: \"aba\" is also a valid answers\n",
    "\n",
    "**Example 2**:\n",
    "\n",
    "Input: s = \"cbbd\"\n",
    "Output: \"bb\"\n",
    "\n",
    "### (Expand Around Center – O(n²))"
   ]
  },
  {
   "cell_type": "code",
   "execution_count": 5,
   "id": "f42d187d",
   "metadata": {},
   "outputs": [
    {
     "name": "stdout",
     "output_type": "stream",
     "text": [
      "bab\n",
      "bb\n",
      "a\n",
      "a\n"
     ]
    }
   ],
   "source": [
    "class Solution:\n",
    "    def longestPalindrome(self, s: str) -> str:\n",
    "        res = \"\"\n",
    "        resLen = 0\n",
    "\n",
    "        for i in range(len(s)):\n",
    "            # Caso 1: palíndromo impar (centro único)\n",
    "            l, r = i, i\n",
    "            while l >= 0 and r < len(s) and s[l] == s[r]:\n",
    "                if (r - l + 1) > resLen:\n",
    "                    res = s[l:r+1]\n",
    "                    resLen = r - l + 1\n",
    "                l -= 1\n",
    "                r += 1\n",
    "\n",
    "            # Caso 2: palíndromo par (centro doble)\n",
    "            l, r = i, i + 1\n",
    "            while l >= 0 and r < len(s) and s[l] == s[r]:\n",
    "                if (r - l + 1) > resLen:\n",
    "                    res = s[l:r+1]\n",
    "                    resLen = r - l + 1\n",
    "                l -= 1\n",
    "                r += 1\n",
    "\n",
    "        return res\n",
    "\n",
    "sol = Solution()\n",
    "print(sol.longestPalindrome(\"babad\"))  # \"bab\" o \"aba\"\n",
    "print(sol.longestPalindrome(\"cbbd\"))   # \"bb\"\n",
    "print(sol.longestPalindrome(\"a\"))      # \"a\"\n",
    "print(sol.longestPalindrome(\"ac\"))     # \"a\" o \"c\"\n"
   ]
  }
 ],
 "metadata": {
  "kernelspec": {
   "display_name": "Python 3",
   "language": "python",
   "name": "python3"
  },
  "language_info": {
   "codemirror_mode": {
    "name": "ipython",
    "version": 3
   },
   "file_extension": ".py",
   "mimetype": "text/x-python",
   "name": "python",
   "nbconvert_exporter": "python",
   "pygments_lexer": "ipython3",
   "version": "3.13.2"
  }
 },
 "nbformat": 4,
 "nbformat_minor": 5
}
