{
 "cells": [
  {
   "cell_type": "code",
   "execution_count": 61,
   "id": "cf09cb01",
   "metadata": {},
   "outputs": [],
   "source": [
    "#y = input('nombre: ')\n",
    "\n",
    "#print(f\"mi nombre es {y}\")"
   ]
  },
  {
   "cell_type": "markdown",
   "id": "7d06c27f",
   "metadata": {},
   "source": [
    "## Variables"
   ]
  },
  {
   "cell_type": "code",
   "execution_count": 62,
   "id": "df094155",
   "metadata": {},
   "outputs": [
    {
     "name": "stdout",
     "output_type": "stream",
     "text": [
      "5\n",
      "John\n"
     ]
    }
   ],
   "source": [
    "x = 5\n",
    "y = \"John\"\n",
    "print(x)\n",
    "print(y)"
   ]
  },
  {
   "cell_type": "code",
   "execution_count": 63,
   "id": "bb2a7dd3",
   "metadata": {},
   "outputs": [
    {
     "name": "stdout",
     "output_type": "stream",
     "text": [
      "Sally\n"
     ]
    }
   ],
   "source": [
    "x = 4       # x is of type int\n",
    "x = \"Sally\" # x is now of type str\n",
    "print(x)"
   ]
  },
  {
   "cell_type": "code",
   "execution_count": 64,
   "id": "3d1a5c96",
   "metadata": {},
   "outputs": [
    {
     "name": "stdout",
     "output_type": "stream",
     "text": [
      "3\n",
      "3\n",
      "3.0\n"
     ]
    }
   ],
   "source": [
    "x = str(3)      # x will be '3'\n",
    "y = int(3)      # y will be 3\n",
    "z = float(3)    # z will be 3.0\n",
    "\n",
    "print(x)\n",
    "print(y)\n",
    "print(z)"
   ]
  },
  {
   "cell_type": "markdown",
   "id": "ab50c1cf",
   "metadata": {},
   "source": [
    "### Get the Type"
   ]
  },
  {
   "cell_type": "code",
   "execution_count": 65,
   "id": "da5d8c99",
   "metadata": {},
   "outputs": [
    {
     "name": "stdout",
     "output_type": "stream",
     "text": [
      "<class 'int'>\n",
      "<class 'str'>\n"
     ]
    }
   ],
   "source": [
    "x = 5\n",
    "y = \"John\"\n",
    "\n",
    "print(type(x))\n",
    "print(type(y))"
   ]
  },
  {
   "cell_type": "markdown",
   "id": "f3ac2339",
   "metadata": {},
   "source": [
    "## Variable Names"
   ]
  },
  {
   "cell_type": "code",
   "execution_count": 66,
   "id": "8f87cb6f",
   "metadata": {},
   "outputs": [
    {
     "name": "stdout",
     "output_type": "stream",
     "text": [
      "John\n",
      "John\n",
      "John\n",
      "John\n",
      "John\n",
      "John\n"
     ]
    }
   ],
   "source": [
    "myvar = \"John\"\n",
    "my_var = \"John\"\n",
    "_my_var = \"John\"\n",
    "myVar = \"John\"\n",
    "MYVAR = \"John\"\n",
    "myvar2 = \"John\"\n",
    "\n",
    "\n",
    "print(myvar)\n",
    "print(my_var)\n",
    "print(_my_var)\n",
    "print(myVar)\n",
    "print(MYVAR)\n",
    "print(myvar2)\n"
   ]
  },
  {
   "cell_type": "code",
   "execution_count": 67,
   "id": "488f9f77",
   "metadata": {},
   "outputs": [
    {
     "name": "stdout",
     "output_type": "stream",
     "text": [
      "John\n"
     ]
    }
   ],
   "source": [
    "# Camel Case\n",
    "# Each word, except the first, starts with a capital letter:\n",
    "\n",
    "myVariableName = \"John\"\n",
    "print(myVariableName)"
   ]
  },
  {
   "cell_type": "code",
   "execution_count": 68,
   "id": "eb3d6266",
   "metadata": {},
   "outputs": [
    {
     "name": "stdout",
     "output_type": "stream",
     "text": [
      "John\n"
     ]
    }
   ],
   "source": [
    "# Pascal Case\n",
    "# Each word starts with a capital letter:\n",
    "\n",
    "MyVariableName = \"John\"\n",
    "print(MyVariableName)"
   ]
  },
  {
   "cell_type": "code",
   "execution_count": 69,
   "id": "9578fd06",
   "metadata": {},
   "outputs": [
    {
     "name": "stdout",
     "output_type": "stream",
     "text": [
      "John\n"
     ]
    }
   ],
   "source": [
    "# Snake Case\n",
    "# Each word is separated by an underscore character:\n",
    "\n",
    "my_variable_name = \"John\"\n",
    "print(my_variable_name)"
   ]
  },
  {
   "cell_type": "markdown",
   "id": "80ffe3ac",
   "metadata": {},
   "source": [
    "## Python Variables - Assign Multiple Values"
   ]
  },
  {
   "cell_type": "markdown",
   "id": "4f810496",
   "metadata": {},
   "source": [
    "### Many Values to Multiple Variables"
   ]
  },
  {
   "cell_type": "code",
   "execution_count": 70,
   "id": "7e6a08e2",
   "metadata": {},
   "outputs": [
    {
     "name": "stdout",
     "output_type": "stream",
     "text": [
      "Orange\n",
      "Banana\n",
      "Cherry\n"
     ]
    }
   ],
   "source": [
    "x, y, z = \"Orange\", \"Banana\", \"Cherry\"\n",
    "\n",
    "print(x)\n",
    "print(y)\n",
    "print(z)"
   ]
  },
  {
   "cell_type": "markdown",
   "id": "66dc0794",
   "metadata": {},
   "source": [
    "### One Value to Multiple Variables"
   ]
  },
  {
   "cell_type": "code",
   "execution_count": 71,
   "id": "c0e30ec4",
   "metadata": {},
   "outputs": [
    {
     "name": "stdout",
     "output_type": "stream",
     "text": [
      "Orange\n",
      "Orange\n",
      "Orange\n"
     ]
    }
   ],
   "source": [
    "x = y = z = \"Orange\"\n",
    "\n",
    "print(x)\n",
    "print(y)\n",
    "print(z)"
   ]
  },
  {
   "cell_type": "markdown",
   "id": "77b1c8d0",
   "metadata": {},
   "source": [
    "### Unpack a Collection"
   ]
  },
  {
   "cell_type": "code",
   "execution_count": 72,
   "id": "7dcd7b07",
   "metadata": {},
   "outputs": [
    {
     "name": "stdout",
     "output_type": "stream",
     "text": [
      "apple\n",
      "banana\n",
      "cherry\n"
     ]
    }
   ],
   "source": [
    "fruits = [\"apple\", \"banana\", \"cherry\"]\n",
    "x, y, z = fruits\n",
    "print(x)\n",
    "print(y)\n",
    "print(z)"
   ]
  },
  {
   "cell_type": "markdown",
   "id": "e21fe7b8",
   "metadata": {},
   "source": [
    "## Python - Output Variables"
   ]
  },
  {
   "cell_type": "code",
   "execution_count": 73,
   "id": "74871ace",
   "metadata": {},
   "outputs": [
    {
     "name": "stdout",
     "output_type": "stream",
     "text": [
      "Python is awesome\n"
     ]
    }
   ],
   "source": [
    "x = \"Python is awesome\"\n",
    "print(x)"
   ]
  },
  {
   "cell_type": "code",
   "execution_count": 74,
   "id": "3109ac26",
   "metadata": {},
   "outputs": [
    {
     "name": "stdout",
     "output_type": "stream",
     "text": [
      "Python is awesome\n"
     ]
    }
   ],
   "source": [
    "x = \"Python\"\n",
    "y = \"is\"\n",
    "z = \"awesome\"\n",
    "\n",
    "print(x,y,z)"
   ]
  },
  {
   "cell_type": "code",
   "execution_count": 75,
   "id": "f53bfa60",
   "metadata": {},
   "outputs": [
    {
     "name": "stdout",
     "output_type": "stream",
     "text": [
      "Pythonisawesome\n"
     ]
    }
   ],
   "source": [
    "x = \"Python\"\n",
    "y = \"is\"\n",
    "z = \"awesome\"\n",
    "\n",
    "print(x+y+z)"
   ]
  },
  {
   "cell_type": "code",
   "execution_count": 76,
   "id": "ee7f745b",
   "metadata": {},
   "outputs": [
    {
     "name": "stdout",
     "output_type": "stream",
     "text": [
      "15\n"
     ]
    }
   ],
   "source": [
    "x = 5\n",
    "y = 10\n",
    "print(x + y)"
   ]
  },
  {
   "cell_type": "code",
   "execution_count": 77,
   "id": "40b78136",
   "metadata": {},
   "outputs": [
    {
     "name": "stdout",
     "output_type": "stream",
     "text": [
      "5 John\n"
     ]
    }
   ],
   "source": [
    "x = 5\n",
    "y = \"John\"\n",
    "print(x, y)"
   ]
  },
  {
   "cell_type": "markdown",
   "id": "033cdf75",
   "metadata": {},
   "source": [
    "## Python - Global Variables"
   ]
  },
  {
   "cell_type": "markdown",
   "id": "eda6c42b",
   "metadata": {},
   "source": [
    "### Global Variables"
   ]
  },
  {
   "cell_type": "code",
   "execution_count": 78,
   "id": "1062d16a",
   "metadata": {},
   "outputs": [
    {
     "name": "stdout",
     "output_type": "stream",
     "text": [
      "Python is awesome\n"
     ]
    }
   ],
   "source": [
    "x = \"awesome\"\n",
    "\n",
    "def myfunc():\n",
    "    print(\"Python is \"+ x)\n",
    "\n",
    "myfunc()"
   ]
  },
  {
   "cell_type": "code",
   "execution_count": 79,
   "id": "6efb3790",
   "metadata": {},
   "outputs": [
    {
     "name": "stdout",
     "output_type": "stream",
     "text": [
      "Python is fantastic\n",
      "Python is awesome\n"
     ]
    }
   ],
   "source": [
    "x = \"awesome\"\n",
    "\n",
    "def myfunc():\n",
    "    x = \"fantastic\"\n",
    "    print(\"Python is \"+ x)\n",
    "\n",
    "myfunc()\n",
    "\n",
    "print(\"Python is \"+ x)"
   ]
  },
  {
   "cell_type": "markdown",
   "id": "8088486c",
   "metadata": {},
   "source": [
    "### The global Keyword"
   ]
  },
  {
   "cell_type": "code",
   "execution_count": 80,
   "id": "e2a722a5",
   "metadata": {},
   "outputs": [
    {
     "name": "stdout",
     "output_type": "stream",
     "text": [
      "Python is fantastic\n"
     ]
    }
   ],
   "source": [
    "def myfunc():\n",
    "    global x\n",
    "    x = \"fantastic\"\n",
    "\n",
    "myfunc()\n",
    "\n",
    "print(\"Python is \" + x)"
   ]
  },
  {
   "cell_type": "code",
   "execution_count": 81,
   "id": "13c270bc",
   "metadata": {},
   "outputs": [
    {
     "name": "stdout",
     "output_type": "stream",
     "text": [
      "Python is fantastic\n"
     ]
    }
   ],
   "source": [
    "x = \"awesomr\"\n",
    "\n",
    "def myfunc():\n",
    "    global x\n",
    "    x = \"fantastic\"\n",
    "\n",
    "myfunc()\n",
    "\n",
    "print(\"Python is \"+x)"
   ]
  },
  {
   "cell_type": "code",
   "execution_count": 82,
   "id": "21be6fc1",
   "metadata": {},
   "outputs": [
    {
     "name": "stdout",
     "output_type": "stream",
     "text": [
      "Five is greater than two!\n"
     ]
    }
   ],
   "source": [
    "if 5>2:\n",
    "    print(\"Five is greater than two!\")"
   ]
  },
  {
   "cell_type": "markdown",
   "id": "5c139fe7",
   "metadata": {},
   "source": [
    "## Python Data Types"
   ]
  },
  {
   "cell_type": "markdown",
   "id": "d28c4f9c",
   "metadata": {},
   "source": [
    "### Built-in Data Types\n",
    "\n",
    "In programming, data type is an important concept.\n",
    "\n",
    "Variables can store data of different types, and different types can do different things.\n",
    "\n",
    "Python has the following data types built-in by default, in these categories:\n",
    "\n",
    "Text Type:\t`str`\n",
    "\n",
    "Numeric Types:\t`int`, `float`, `complex`\n",
    "\n",
    "Sequence Types:\t`list`, `tuple`, `range`\n",
    "\n",
    "Mapping Type:\t`dict`\n",
    "\n",
    "Set Types:\t`set`, `frozenset`\n",
    "\n",
    "Boolean Type:\t`bool`\n",
    "\n",
    "Binary Types:\t`bytes`, `bytearray`, `memoryview`\n",
    "\n",
    "None Type:\t`NoneType`"
   ]
  },
  {
   "cell_type": "markdown",
   "id": "8d2a7f2b",
   "metadata": {},
   "source": [
    "### Getting the Data Type\n",
    "\n",
    "You can get the data type of any object by using the `type()` function:"
   ]
  },
  {
   "cell_type": "code",
   "execution_count": 83,
   "id": "457d6a23",
   "metadata": {},
   "outputs": [
    {
     "name": "stdout",
     "output_type": "stream",
     "text": [
      "<class 'int'>\n"
     ]
    }
   ],
   "source": [
    "x = 5\n",
    "print(type(x))"
   ]
  },
  {
   "cell_type": "markdown",
   "id": "c672ac4b",
   "metadata": {},
   "source": [
    "### Setting the Data Type\n",
    "\n",
    "In Python, the data type is set when you assign a value to a variable:"
   ]
  },
  {
   "cell_type": "markdown",
   "id": "2cf6ced3",
   "metadata": {},
   "source": [
    "|Example\tData Type | Try it|\n",
    "|---|---|\n",
    "| x = \"Hello World\" | str |\n",
    "|x = 20 | int |\n",
    "|x = 20.5 | float |\n",
    "|x = 1j | complex |\n",
    "|x = [\"apple\", \"banana\", \"cherry\"] | list |\n",
    "|x = (\"apple\", \"banana\", \"cherry\") | tuple |\n",
    "|x = range(6) | range |\n",
    "|x = {\"name\" : \"John\", \"age\" : 36} | dict |\n",
    "|x = {\"apple\", \"banana\", \"cherry\"} | set |\n",
    "|x = frozenset({\"apple\", \"banana\", \"cherry\"}) | frozenset |\n",
    "|x = True | bool |\n",
    "|x = b\"Hello\" |bytes |\n",
    "|x = bytearray(5) | bytearray |\n",
    "|x = memoryview(bytes(5)) | memoryview |\n",
    "|x = None | NoneType |"
   ]
  },
  {
   "cell_type": "code",
   "execution_count": 84,
   "id": "e4f3c438",
   "metadata": {},
   "outputs": [
    {
     "name": "stdout",
     "output_type": "stream",
     "text": [
      "Hello World\n",
      "<class 'str'>\n",
      "20\n",
      "<class 'int'>\n",
      "20\n",
      "<class 'int'>\n",
      "1j\n",
      "<class 'complex'>\n",
      "['apple', 'banana', 'cherry']\n",
      "<class 'list'>\n",
      "('apple', 'banana', 'cherry')\n",
      "<class 'tuple'>\n",
      "range(0, 6)\n",
      "<class 'range'>\n",
      "{'name': 'John', 'age': 36}\n",
      "<class 'dict'>\n",
      "{'cherry', 'banana', 'apple'}\n",
      "<class 'set'>\n",
      "frozenset({'cherry', 'banana', 'apple'})\n",
      "<class 'frozenset'>\n",
      "True\n",
      "<class 'bool'>\n",
      "b'Hello'\n",
      "<class 'bytes'>\n",
      "bytearray(b'\\x00\\x00\\x00\\x00\\x00')\n",
      "<class 'bytearray'>\n",
      "<memory at 0x0000028C5F8B7700>\n",
      "<class 'memoryview'>\n",
      "None\n",
      "<class 'NoneType'>\n"
     ]
    }
   ],
   "source": [
    "# str\t\n",
    "x = \"Hello World\"\n",
    "\n",
    "print(x)\n",
    "print(type(x))  \n",
    "\n",
    "# int\t\n",
    "x = 20\n",
    "\n",
    "print(x)\n",
    "print(type(x)) \t\n",
    "\n",
    "# float\n",
    "x = 20\n",
    "\n",
    "print(x)\n",
    "print(type(x))\n",
    "\n",
    "# complex\n",
    "x = 1j\n",
    "\n",
    "print(x)\n",
    "print(type(x))\n",
    "\n",
    "# list\n",
    "x = [\"apple\", \"banana\", \"cherry\"]\n",
    "\n",
    "print(x)\n",
    "print(type(x))\n",
    "\n",
    "# tuple\n",
    "x = (\"apple\", \"banana\", \"cherry\")\n",
    "\n",
    "print(x)\n",
    "print(type(x))\n",
    "\n",
    "# range\n",
    "x = range(6)\n",
    "\n",
    "print(x)\n",
    "print(type(x))\n",
    "\n",
    "# dict\n",
    "x = {\"name\" : \"John\", \"age\" : 36}\n",
    "\n",
    "print(x)\n",
    "print(type(x))\n",
    "\n",
    "# set \n",
    "x = {\"apple\", \"banana\", \"cherry\"}\n",
    "\n",
    "print(x)\n",
    "print(type(x)) \n",
    "\n",
    "# frozenset\t\n",
    "x = frozenset({\"apple\", \"banana\", \"cherry\"})\n",
    "\n",
    "print(x)\n",
    "print(type(x))\n",
    "\n",
    "# bool\n",
    "x = True\n",
    "\n",
    "print(x)\n",
    "print(type(x)) \n",
    "\n",
    "# bytes\n",
    "x = b\"Hello\"\n",
    "\n",
    "print(x)\n",
    "print(type(x)) \n",
    "\n",
    "# bytearray\n",
    "\n",
    "x = bytearray(5)\n",
    "\n",
    "print(x)\n",
    "print(type(x))\n",
    "\n",
    "# memoryview\n",
    "x = memoryview(bytes(5))\n",
    "\n",
    "print(x)\n",
    "print(type(x))\n",
    "\n",
    "# NoneType\n",
    "x = None\n",
    "\n",
    "print(x)\n",
    "print(type(x)) "
   ]
  },
  {
   "cell_type": "markdown",
   "id": "7d4ac7dd",
   "metadata": {},
   "source": [
    "### Setting the Specific Data Type\n",
    "If you want to specify the data type, you can use the following constructor functions:"
   ]
  },
  {
   "cell_type": "markdown",
   "id": "3f63493a",
   "metadata": {},
   "source": [
    "| Example | Data Type |\n",
    "|---|---|\n",
    "| x = str(\"Hello World\") | str |\n",
    "| x = int(20) | int |\n",
    "| x = float(20.5) | float |\n",
    "| x = complex(1j) | complex |\n",
    "| x = list((\"apple\", \"banana\", \"cherry\")) | list |\n",
    "| x = tuple((\"apple\", \"banana\", \"cherry\")) | tuple |\n",
    "| x = range(6) | range |\n",
    "| x = dict(name=\"John\", age=36) | dict |\n",
    "| x = set((\"apple\", \"banana\", \"cherry\")) | set |\n",
    "| x = frozenset((\"apple\", \"banana\", \"cherry\")) | frozenset |\n",
    "| x = bool(5) | bool |\n",
    "| x = bytes(5) | bytes |\n",
    "| x = bytearray(5) | bytearray |\n",
    "| x = memoryview(bytes(5)) | memoryview |"
   ]
  },
  {
   "cell_type": "code",
   "execution_count": 85,
   "id": "8fb3e09c",
   "metadata": {},
   "outputs": [
    {
     "name": "stdout",
     "output_type": "stream",
     "text": [
      "Hello World\n",
      "<class 'str'>\n",
      "20\n",
      "<class 'int'>\n",
      "20.5\n",
      "<class 'float'>\n",
      "1j\n",
      "<class 'complex'>\n",
      "['apple', 'banana', 'cherry']\n",
      "<class 'list'>\n",
      "('apple', 'banana', 'cherry')\n",
      "<class 'tuple'>\n",
      "range(0, 6)\n",
      "<class 'range'>\n",
      "{'name': 'John', 'age': 36}\n",
      "<class 'dict'>\n",
      "{'cherry', 'banana', 'apple'}\n",
      "<class 'set'>\n",
      "frozenset({'cherry', 'banana', 'apple'})\n",
      "<class 'frozenset'>\n",
      "True\n",
      "<class 'bool'>\n",
      "b'\\x00\\x00\\x00\\x00\\x00'\n",
      "<class 'bytes'>\n",
      "bytearray(b'\\x00\\x00\\x00\\x00\\x00')\n",
      "<class 'bytearray'>\n",
      "<memory at 0x0000028C5F8B7700>\n",
      "<class 'memoryview'>\n"
     ]
    }
   ],
   "source": [
    "# str\t\n",
    "x = str(\"Hello World\")\n",
    "\n",
    "print(x)\n",
    "print(type(x))  \n",
    "\n",
    "# int\t\n",
    "x = int(20)\n",
    "\n",
    "print(x)\n",
    "print(type(x))\n",
    "\n",
    "# float\n",
    "x = float(20.5)\n",
    "\n",
    "print(x)\n",
    "print(type(x)) \n",
    "\n",
    "# complex\n",
    "x = complex(1j)\n",
    "\n",
    "print(x)\n",
    "print(type(x)) \n",
    "\n",
    "# list\n",
    "x = list((\"apple\", \"banana\", \"cherry\"))\n",
    "\n",
    "print(x)\n",
    "print(type(x)) \n",
    "\n",
    "# tuple\n",
    "x = tuple((\"apple\", \"banana\", \"cherry\"))\n",
    "\n",
    "print(x)\n",
    "print(type(x))\n",
    "\n",
    "# range\n",
    "x = range(6)\n",
    "\n",
    "print(x)\n",
    "print(type(x))\n",
    "\n",
    "# dict\n",
    "x = dict(name=\"John\", age=36)\n",
    "\n",
    "print(x)\n",
    "print(type(x)) \n",
    "\n",
    "# set \n",
    "x = set((\"apple\", \"banana\", \"cherry\"))\n",
    "\n",
    "print(x)\n",
    "print(type(x)) \n",
    "\n",
    "\n",
    "# frozenset\t\n",
    "x = frozenset((\"apple\", \"banana\", \"cherry\"))\n",
    "\n",
    "print(x)\n",
    "print(type(x)) \n",
    "\n",
    "# bool\n",
    "x = bool(5)\n",
    "\n",
    "print(x)\n",
    "print(type(x)) \n",
    "\n",
    "# bytes\n",
    "x = bytes(5)\n",
    "\n",
    "print(x)\n",
    "print(type(x))  \n",
    "\n",
    "# bytearray\n",
    "x = bytearray(5)\n",
    "\n",
    "print(x)\n",
    "print(type(x)) \n",
    "\n",
    "# memoryview\n",
    "x = memoryview(bytes(5))\n",
    "\n",
    "print(x)\n",
    "print(type(x))"
   ]
  },
  {
   "cell_type": "markdown",
   "id": "676529c6",
   "metadata": {},
   "source": [
    "## Python Numbers\n",
    "\n",
    "There are three numeric types in Python:\n",
    "\n",
    "- int\n",
    "- float\n",
    "- complex\n",
    "\n",
    "Variables of numeric types are created when you assign a value to them:"
   ]
  },
  {
   "cell_type": "code",
   "execution_count": 86,
   "id": "dad9ce8d",
   "metadata": {},
   "outputs": [
    {
     "name": "stdout",
     "output_type": "stream",
     "text": [
      "<class 'int'>\n",
      "<class 'float'>\n",
      "<class 'complex'>\n"
     ]
    }
   ],
   "source": [
    "x = 1\n",
    "y = 2.8\n",
    "z = 1j\n",
    "\n",
    "print(type(x))\n",
    "print(type(y))\n",
    "print(type(z))"
   ]
  },
  {
   "cell_type": "markdown",
   "id": "08d03f7c",
   "metadata": {},
   "source": [
    "To verify the type of any object in Python, use the type() function:\n",
    "\n",
    "## Int\n",
    "\n",
    "Int, or integer, is a whole number, positive or negative, without decimals, of unlimited length."
   ]
  },
  {
   "cell_type": "code",
   "execution_count": 87,
   "id": "d644c62e",
   "metadata": {},
   "outputs": [
    {
     "name": "stdout",
     "output_type": "stream",
     "text": [
      "<class 'int'>\n",
      "<class 'int'>\n",
      "<class 'int'>\n"
     ]
    }
   ],
   "source": [
    "x = 1\n",
    "y = 35656222554887711\n",
    "z = -3255522\n",
    "\n",
    "print(type(x))\n",
    "print(type(y))\n",
    "print(type(z))"
   ]
  },
  {
   "cell_type": "markdown",
   "id": "24d7641f",
   "metadata": {},
   "source": [
    "## Float\n",
    "\n",
    "Float, or \"floating point number\" is a number, positive or negative, containing one or more decimals."
   ]
  },
  {
   "cell_type": "code",
   "execution_count": 88,
   "id": "12b38cb9",
   "metadata": {},
   "outputs": [
    {
     "name": "stdout",
     "output_type": "stream",
     "text": [
      "<class 'float'>\n",
      "<class 'float'>\n",
      "<class 'float'>\n"
     ]
    }
   ],
   "source": [
    "x = 1.10\n",
    "y = 1.0\n",
    "z = -35.59\n",
    "\n",
    "print(type(x))\n",
    "print(type(y))\n",
    "print(type(z))"
   ]
  },
  {
   "cell_type": "markdown",
   "id": "a26cdd1c",
   "metadata": {},
   "source": [
    "Float can also be scientific numbers with an \"e\" to indicate the power of 10."
   ]
  },
  {
   "cell_type": "code",
   "execution_count": 89,
   "id": "a45d6fb6",
   "metadata": {},
   "outputs": [
    {
     "name": "stdout",
     "output_type": "stream",
     "text": [
      "<class 'float'>\n",
      "<class 'float'>\n",
      "<class 'float'>\n"
     ]
    }
   ],
   "source": [
    "x = 35e3\n",
    "y = 12E4\n",
    "z = -87.7e100\n",
    "\n",
    "print(type(x))\n",
    "print(type(y))\n",
    "print(type(z))"
   ]
  },
  {
   "cell_type": "markdown",
   "id": "51198c56",
   "metadata": {},
   "source": [
    "## Complex\n",
    "\n",
    "Complex numbers are written with a \"j\" as the imaginary part:"
   ]
  },
  {
   "cell_type": "code",
   "execution_count": 90,
   "id": "b65c6b51",
   "metadata": {},
   "outputs": [
    {
     "name": "stdout",
     "output_type": "stream",
     "text": [
      "<class 'complex'>\n",
      "<class 'complex'>\n",
      "<class 'complex'>\n"
     ]
    }
   ],
   "source": [
    "x = 3+5j\n",
    "y = 5j\n",
    "z = -5j\n",
    "\n",
    "print(type(x))\n",
    "print(type(y))\n",
    "print(type(z))\n"
   ]
  },
  {
   "cell_type": "markdown",
   "id": "5a355752",
   "metadata": {},
   "source": [
    "## Type Conversion\n",
    "\n",
    "You can convert from one type to another with the int(), float(), and complex() methods:"
   ]
  },
  {
   "cell_type": "code",
   "execution_count": 91,
   "id": "17c61376",
   "metadata": {},
   "outputs": [
    {
     "name": "stdout",
     "output_type": "stream",
     "text": [
      "1.0\n",
      "2\n",
      "(1+0j)\n",
      "<class 'float'>\n",
      "<class 'int'>\n",
      "<class 'complex'>\n"
     ]
    }
   ],
   "source": [
    "#convert from int to float:\n",
    "x = float(1)\n",
    "\n",
    "#convert from float to int:\n",
    "y = int(2.8)\n",
    "\n",
    "#convert from int to complex:\n",
    "z = complex(1)\n",
    "\n",
    "print(x)\n",
    "print(y)\n",
    "print(z)\n",
    "\n",
    "print(type(x))\n",
    "print(type(y))\n",
    "print(type(z))"
   ]
  },
  {
   "cell_type": "markdown",
   "id": "a3d7700c",
   "metadata": {},
   "source": [
    "## Random Number\n",
    "\n",
    "Python does not have a `random()` function to make a random number, but Python has a built-in module called `random` that can be used to make random numbers:"
   ]
  },
  {
   "cell_type": "code",
   "execution_count": 92,
   "id": "211d8f6d",
   "metadata": {},
   "outputs": [
    {
     "name": "stdout",
     "output_type": "stream",
     "text": [
      "10\n"
     ]
    }
   ],
   "source": [
    "import random\n",
    "\n",
    "print(random.randrange(1, 16))"
   ]
  },
  {
   "cell_type": "markdown",
   "id": "f8bcb489",
   "metadata": {},
   "source": [
    "## Python Casting\n",
    "### Specify a Variable Type\n",
    "\n",
    "There may be times when you want to specify a type on to a variable. This can be done with casting. Python is an object-orientated language, and as such it uses classes to define data types, including its primitive types.\n",
    "\n",
    "Casting in python is therefore done using constructor functions:\n",
    "\n",
    "- `int()` - constructs an integer number from an integer literal, a float literal (by removing all decimals), or a string literal (providing the string represents a whole number)\n",
    "- `float()` - constructs a float number from an integer literal, a float literal or a string literal (providing the string represents a float or an integer)\n",
    "- `str()` - constructs a string from a wide variety of data types, including strings, integer literals and float literals"
   ]
  },
  {
   "cell_type": "code",
   "execution_count": 93,
   "id": "9d4aa3b8",
   "metadata": {},
   "outputs": [
    {
     "name": "stdout",
     "output_type": "stream",
     "text": [
      "1\n",
      "2\n",
      "3\n"
     ]
    }
   ],
   "source": [
    "x = int(1)\n",
    "y = int(2.8)\n",
    "z = int(\"3\")\n",
    "print(x)\n",
    "print(y)\n",
    "print(z)"
   ]
  },
  {
   "cell_type": "code",
   "execution_count": 94,
   "id": "e7d176ba",
   "metadata": {},
   "outputs": [
    {
     "name": "stdout",
     "output_type": "stream",
     "text": [
      "1.0\n",
      "2.8\n",
      "3.0\n",
      "4.2\n"
     ]
    }
   ],
   "source": [
    "x = float(1)\n",
    "y = float(2.8)\n",
    "z = float(\"3\")\n",
    "w = float(\"4.2\")\n",
    "print(x)\n",
    "print(y)\n",
    "print(z)\n",
    "print(w)\n"
   ]
  },
  {
   "cell_type": "code",
   "execution_count": 95,
   "id": "481970b5",
   "metadata": {},
   "outputs": [
    {
     "name": "stdout",
     "output_type": "stream",
     "text": [
      "s1\n",
      "2\n",
      "3.0\n"
     ]
    }
   ],
   "source": [
    "x = str(\"s1\")\n",
    "y = str(2)\n",
    "z = str(3.0)\n",
    "print(x)\n",
    "print(y)\n",
    "print(z)\n"
   ]
  },
  {
   "cell_type": "markdown",
   "id": "7ed4c4a3",
   "metadata": {},
   "source": [
    "## Python Strings\n",
    "### Strings\n",
    "\n",
    "Strings in python are surrounded by either single quotation marks, or double quotation marks.\n",
    "\n",
    "`'hello'` is the same as `\"hello\"`.\n",
    "\n",
    "You can display a string literal with the `print()` function:"
   ]
  },
  {
   "cell_type": "code",
   "execution_count": 96,
   "id": "39156c12",
   "metadata": {},
   "outputs": [
    {
     "name": "stdout",
     "output_type": "stream",
     "text": [
      "Hello\n",
      "Hello\n"
     ]
    }
   ],
   "source": [
    "print(\"Hello\")\n",
    "print('Hello')"
   ]
  },
  {
   "cell_type": "markdown",
   "id": "bb96f967",
   "metadata": {},
   "source": [
    "## Quotes Inside Quotes\n",
    "\n",
    "You can use quotes inside a string, as long as they don't match the quotes surrounding the string:"
   ]
  },
  {
   "cell_type": "code",
   "execution_count": 97,
   "id": "9cac7a71",
   "metadata": {},
   "outputs": [
    {
     "name": "stdout",
     "output_type": "stream",
     "text": [
      "It's alright\n",
      "He is called 'Johnny'\n",
      "He is called \"Johnny\"\n"
     ]
    }
   ],
   "source": [
    "print(\"It's alright\")\n",
    "print(\"He is called 'Johnny'\")\n",
    "print('He is called \"Johnny\"')"
   ]
  },
  {
   "cell_type": "markdown",
   "id": "561b5b41",
   "metadata": {},
   "source": [
    "## Assign String to a Variable\n",
    "\n",
    "Assigning a string to a variable is done with the variable name followed by an equal sign and the string:"
   ]
  },
  {
   "cell_type": "code",
   "execution_count": 98,
   "id": "258bd92d",
   "metadata": {},
   "outputs": [
    {
     "name": "stdout",
     "output_type": "stream",
     "text": [
      "Hello\n"
     ]
    }
   ],
   "source": [
    "a = \"Hello\"\n",
    "print(a)"
   ]
  },
  {
   "cell_type": "markdown",
   "id": "6cd319ae",
   "metadata": {},
   "source": [
    "## Multiline Strings\n",
    "\n",
    "You can assign a multiline string to a variable by using three quotes:"
   ]
  },
  {
   "cell_type": "code",
   "execution_count": 99,
   "id": "a8c17f85",
   "metadata": {},
   "outputs": [
    {
     "name": "stdout",
     "output_type": "stream",
     "text": [
      "Lorem ipsum dolor sit amet,\n",
      "consectetur adipiscing elit,\n",
      "sed do eiusmod tempor incididunt\n",
      "ut labore et dolore magna aliqua.\n"
     ]
    }
   ],
   "source": [
    "a = \"\"\"Lorem ipsum dolor sit amet,\n",
    "consectetur adipiscing elit,\n",
    "sed do eiusmod tempor incididunt\n",
    "ut labore et dolore magna aliqua.\"\"\"\n",
    "print(a)"
   ]
  },
  {
   "cell_type": "markdown",
   "id": "312870b1",
   "metadata": {},
   "source": [
    "Or three single quotes:"
   ]
  },
  {
   "cell_type": "code",
   "execution_count": 100,
   "id": "b6456b33",
   "metadata": {},
   "outputs": [
    {
     "name": "stdout",
     "output_type": "stream",
     "text": [
      "Lorem ipsum dolor sit amet,\n",
      "consectetur adipiscing elit,\n",
      "sed do eiusmod tempor incididunt\n",
      "ut labore et dolore magna aliqua.\n"
     ]
    }
   ],
   "source": [
    "a = '''Lorem ipsum dolor sit amet,\n",
    "consectetur adipiscing elit,\n",
    "sed do eiusmod tempor incididunt\n",
    "ut labore et dolore magna aliqua.'''\n",
    "print(a)"
   ]
  },
  {
   "cell_type": "markdown",
   "id": "52e406f7",
   "metadata": {},
   "source": [
    "### Strings are Arrays\n",
    "\n",
    "Like many other popular programming languages, strings in Python are arrays of unicode characters.\n",
    "\n",
    "However, Python does not have a character data type, a single character is simply a string with a length of 1.\n",
    "\n",
    "Square brackets can be used to access elements of the string."
   ]
  },
  {
   "cell_type": "code",
   "execution_count": 101,
   "id": "b4a0588a",
   "metadata": {},
   "outputs": [
    {
     "name": "stdout",
     "output_type": "stream",
     "text": [
      "e\n"
     ]
    }
   ],
   "source": [
    "a = \"Hello, World!\"\n",
    "print(a[1])"
   ]
  },
  {
   "cell_type": "markdown",
   "id": "ca5b4b68",
   "metadata": {},
   "source": [
    "### Looping Through a String\n",
    "\n",
    "Since strings are arrays, we can loop through the characters in a string, with a for loop."
   ]
  },
  {
   "cell_type": "code",
   "execution_count": 102,
   "id": "2bbed4de",
   "metadata": {},
   "outputs": [
    {
     "name": "stdout",
     "output_type": "stream",
     "text": [
      "b\n",
      "a\n",
      "n\n",
      "a\n",
      "n\n",
      "a\n"
     ]
    }
   ],
   "source": [
    "for x in \"banana\":\n",
    "    print(x) "
   ]
  },
  {
   "cell_type": "markdown",
   "id": "1435f92f",
   "metadata": {},
   "source": [
    "### String Length\n",
    "\n",
    "To get the length of a string, use the len() function."
   ]
  },
  {
   "cell_type": "code",
   "execution_count": 103,
   "id": "b584630a",
   "metadata": {},
   "outputs": [
    {
     "name": "stdout",
     "output_type": "stream",
     "text": [
      "13\n"
     ]
    }
   ],
   "source": [
    "a = \"Hello, World!\"\n",
    "print(len(a))"
   ]
  },
  {
   "cell_type": "markdown",
   "id": "7529b5fa",
   "metadata": {},
   "source": [
    "### Check String\n",
    "\n",
    "To check if a certain phrase or character is present in a string, we can use the keyword in."
   ]
  },
  {
   "cell_type": "code",
   "execution_count": 104,
   "id": "5e0b52cc",
   "metadata": {},
   "outputs": [
    {
     "name": "stdout",
     "output_type": "stream",
     "text": [
      "True\n"
     ]
    }
   ],
   "source": [
    "txt = \"The best things in life are free!\"\n",
    "print(\"free\" in txt)"
   ]
  },
  {
   "cell_type": "markdown",
   "id": "abfca88f",
   "metadata": {},
   "source": [
    "Use it in an if statement:"
   ]
  },
  {
   "cell_type": "code",
   "execution_count": 105,
   "id": "5158913e",
   "metadata": {},
   "outputs": [
    {
     "name": "stdout",
     "output_type": "stream",
     "text": [
      "Yes, 'free' is present.\n"
     ]
    }
   ],
   "source": [
    "txt = \"The best things in life are free!\"\n",
    "if \"free\" in txt:\n",
    "    print(\"Yes, 'free' is present.\")"
   ]
  },
  {
   "cell_type": "markdown",
   "id": "95445b4a",
   "metadata": {},
   "source": [
    "### Check if NOT\n",
    "\n",
    "To check if a certain phrase or character is NOT present in a string, we can use the keyword not in."
   ]
  },
  {
   "cell_type": "code",
   "execution_count": 106,
   "id": "d676d14e",
   "metadata": {},
   "outputs": [
    {
     "name": "stdout",
     "output_type": "stream",
     "text": [
      "True\n"
     ]
    }
   ],
   "source": [
    "txt = \"The best things in life are free!\"\n",
    "print(\"expensive\" not in txt)"
   ]
  },
  {
   "cell_type": "markdown",
   "id": "d6657a33",
   "metadata": {},
   "source": [
    "Use it in an `if` statement:"
   ]
  },
  {
   "cell_type": "code",
   "execution_count": 107,
   "id": "2392a175",
   "metadata": {},
   "outputs": [
    {
     "name": "stdout",
     "output_type": "stream",
     "text": [
      "No, 'expensive' is NOT present.\n"
     ]
    }
   ],
   "source": [
    "txt = \"The best things in life are free!\"\n",
    "if \"expensive\" not in txt:\n",
    "    print(\"No, 'expensive' is NOT present.\")"
   ]
  },
  {
   "cell_type": "markdown",
   "id": "58aed05f",
   "metadata": {},
   "source": [
    "# Python - Slicing Strings\n",
    "\n",
    "## Slicing\n",
    "\n",
    "You can return a range of characters by using the slice syntax.\n",
    "\n",
    "Specify the start index and the end index, separated by a colon, to return a part of the string."
   ]
  },
  {
   "cell_type": "code",
   "execution_count": 108,
   "id": "30174037",
   "metadata": {},
   "outputs": [
    {
     "name": "stdout",
     "output_type": "stream",
     "text": [
      "llo\n"
     ]
    }
   ],
   "source": [
    "b = \"Hello, World!\"\n",
    "print(b[2:5])"
   ]
  },
  {
   "cell_type": "markdown",
   "id": "9ebb9d46",
   "metadata": {},
   "source": [
    "## Slice From the Start\n",
    "\n",
    "By leaving out the start index, the range will start at the first character:"
   ]
  },
  {
   "cell_type": "code",
   "execution_count": 109,
   "id": "2cabb726",
   "metadata": {},
   "outputs": [
    {
     "name": "stdout",
     "output_type": "stream",
     "text": [
      "Hello\n"
     ]
    }
   ],
   "source": [
    "b = \"Hello, world!\"\n",
    "print(b[:5])"
   ]
  },
  {
   "cell_type": "markdown",
   "id": "49e767ed",
   "metadata": {},
   "source": [
    "## Slice To the End\n",
    "\n",
    "By leaving out the end index, the range will go to the end:"
   ]
  },
  {
   "cell_type": "code",
   "execution_count": 110,
   "id": "3451a9d4",
   "metadata": {},
   "outputs": [
    {
     "name": "stdout",
     "output_type": "stream",
     "text": [
      "llo world!\n"
     ]
    }
   ],
   "source": [
    "b = \"hello world!\"\n",
    "print(b[2:])"
   ]
  },
  {
   "cell_type": "markdown",
   "id": "e49ed8e7",
   "metadata": {},
   "source": [
    "## Negative Indexing\n",
    "\n",
    "Use negative indexes to start the slice from the end of the string:"
   ]
  },
  {
   "cell_type": "code",
   "execution_count": 111,
   "id": "4cbd211e",
   "metadata": {},
   "outputs": [
    {
     "name": "stdout",
     "output_type": "stream",
     "text": [
      "orl\n"
     ]
    }
   ],
   "source": [
    "b = \"Hello, world!\"\n",
    "print(b[-5:-2])"
   ]
  },
  {
   "cell_type": "markdown",
   "id": "b130957b",
   "metadata": {},
   "source": [
    "# Python - Modify Strings\n",
    "\n",
    "Python has a set of built-in methods that you can use on strings.\n",
    "\n",
    "## Upper Case"
   ]
  },
  {
   "cell_type": "code",
   "execution_count": 112,
   "id": "1d488b73",
   "metadata": {},
   "outputs": [
    {
     "name": "stdout",
     "output_type": "stream",
     "text": [
      "HELLO WORLD!\n"
     ]
    }
   ],
   "source": [
    "a = \"Hello world!\"\n",
    "print(a.upper())"
   ]
  },
  {
   "cell_type": "markdown",
   "id": "cf3c2359",
   "metadata": {},
   "source": [
    "## Lower Case"
   ]
  },
  {
   "cell_type": "code",
   "execution_count": 113,
   "id": "cca93023",
   "metadata": {},
   "outputs": [
    {
     "name": "stdout",
     "output_type": "stream",
     "text": [
      "hello, world!\n"
     ]
    }
   ],
   "source": [
    "a = \"Hello, world!\"\n",
    "print(a.lower())"
   ]
  },
  {
   "cell_type": "markdown",
   "id": "bf94e9a3",
   "metadata": {},
   "source": [
    "## Remove Whitespace\n",
    "\n",
    "Whitespace is the space before and/or after the actual text, and very often you want to remove this space."
   ]
  },
  {
   "cell_type": "code",
   "execution_count": 114,
   "id": "ba6ea6fa",
   "metadata": {},
   "outputs": [
    {
     "name": "stdout",
     "output_type": "stream",
     "text": [
      "Hello, World!\n"
     ]
    }
   ],
   "source": [
    "a = \" Hello, World! \"\n",
    "print(a.strip())"
   ]
  },
  {
   "cell_type": "markdown",
   "id": "7b23955e",
   "metadata": {},
   "source": [
    "## Replace String"
   ]
  },
  {
   "cell_type": "code",
   "execution_count": 115,
   "id": "cf9a5ca7",
   "metadata": {},
   "outputs": [
    {
     "name": "stdout",
     "output_type": "stream",
     "text": [
      "Jello, World!\n"
     ]
    }
   ],
   "source": [
    "a = \"Hello, World!\"\n",
    "print(a.replace(\"H\", \"J\"))"
   ]
  },
  {
   "cell_type": "markdown",
   "id": "6fc4bcb6",
   "metadata": {},
   "source": [
    "## Split String\n",
    "\n",
    "The `split()` method returns a list where the text between the specified separator becomes the list items."
   ]
  },
  {
   "cell_type": "code",
   "execution_count": 116,
   "id": "5f776afd",
   "metadata": {},
   "outputs": [
    {
     "name": "stdout",
     "output_type": "stream",
     "text": [
      "['Hello', ' World!']\n"
     ]
    }
   ],
   "source": [
    "a = \"Hello, World!\"\n",
    "print(a.split(\",\")) # returns ['Hello', ' World!']"
   ]
  },
  {
   "cell_type": "code",
   "execution_count": 117,
   "id": "abf473d8",
   "metadata": {},
   "outputs": [
    {
     "name": "stdout",
     "output_type": "stream",
     "text": [
      "Hello, world!\n"
     ]
    }
   ],
   "source": [
    "a = \"hello, world!\"\n",
    "print(a.capitalize()) # returns ['Hello', ' World!']"
   ]
  },
  {
   "cell_type": "markdown",
   "id": "3cfb6515",
   "metadata": {},
   "source": [
    "# String Concatenation\n",
    "\n",
    "To concatenate, or combine, two strings you can use the + operator."
   ]
  },
  {
   "cell_type": "code",
   "execution_count": 118,
   "id": "e49c0f72",
   "metadata": {},
   "outputs": [
    {
     "name": "stdout",
     "output_type": "stream",
     "text": [
      "HelloWorld\n"
     ]
    }
   ],
   "source": [
    "a = \"Hello\"\n",
    "b = \"World\"\n",
    "c = a + b\n",
    "print(c)"
   ]
  },
  {
   "cell_type": "code",
   "execution_count": 119,
   "id": "67287208",
   "metadata": {},
   "outputs": [
    {
     "name": "stdout",
     "output_type": "stream",
     "text": [
      "Hello World\n"
     ]
    }
   ],
   "source": [
    "# To add a space between them, add a \" \":\n",
    "\n",
    "a = \"Hello\"\n",
    "b = \"World\"\n",
    "c = a + \" \" + b\n",
    "print(c)"
   ]
  },
  {
   "cell_type": "markdown",
   "id": "6dd50385",
   "metadata": {},
   "source": [
    "# Python - Format - Strings\n",
    "\n",
    "## String Format\n",
    "\n",
    "As we learned in the Python Variables chapter, we cannot combine strings and numbers like this:"
   ]
  },
  {
   "cell_type": "code",
   "execution_count": 120,
   "id": "49d8fff2",
   "metadata": {},
   "outputs": [
    {
     "ename": "TypeError",
     "evalue": "can only concatenate str (not \"int\") to str",
     "output_type": "error",
     "traceback": [
      "\u001b[31m---------------------------------------------------------------------------\u001b[39m",
      "\u001b[31mTypeError\u001b[39m                                 Traceback (most recent call last)",
      "\u001b[36mCell\u001b[39m\u001b[36m \u001b[39m\u001b[32mIn[120]\u001b[39m\u001b[32m, line 3\u001b[39m\n\u001b[32m      1\u001b[39m age = \u001b[32m36\u001b[39m\n\u001b[32m      2\u001b[39m \u001b[38;5;66;03m#This will produce an error:\u001b[39;00m\n\u001b[32m----> \u001b[39m\u001b[32m3\u001b[39m txt = \u001b[33;43m\"\u001b[39;49m\u001b[33;43mMy name is John, I am \u001b[39;49m\u001b[33;43m\"\u001b[39;49m\u001b[43m \u001b[49m\u001b[43m+\u001b[49m\u001b[43m \u001b[49m\u001b[43mage\u001b[49m\n\u001b[32m      4\u001b[39m \u001b[38;5;28mprint\u001b[39m(txt)\n",
      "\u001b[31mTypeError\u001b[39m: can only concatenate str (not \"int\") to str"
     ]
    }
   ],
   "source": [
    "age = 36\n",
    "#This will produce an error:\n",
    "txt = \"My name is John, I am \" + age\n",
    "print(txt)"
   ]
  },
  {
   "cell_type": "markdown",
   "id": "372a92b6",
   "metadata": {},
   "source": [
    "But we can combine strings and numbers by using f-strings or the format() method!\n",
    "\n",
    "## F-Strings\n",
    "\n",
    "F-String was introduced in Python 3.6, and is now the preferred way of formatting strings.\n",
    "\n",
    "To specify a string as an f-string, simply put an `f` in front of the string literal, and add curly brackets ``{}`` as placeholders for variables and other operations."
   ]
  },
  {
   "cell_type": "code",
   "execution_count": null,
   "id": "0a748eea",
   "metadata": {},
   "outputs": [
    {
     "name": "stdout",
     "output_type": "stream",
     "text": [
      "My name is John, I am 36\n"
     ]
    }
   ],
   "source": [
    "age = 36\n",
    "txt = f\"My name is John, I am {age}\"\n",
    "print(txt)"
   ]
  },
  {
   "cell_type": "markdown",
   "id": "b0636c1d",
   "metadata": {},
   "source": [
    "## Placeholders and Modifiers\n",
    "\n",
    "A placeholder can contain variables, operations, functions, and modifiers to format the value."
   ]
  },
  {
   "cell_type": "code",
   "execution_count": null,
   "id": "694a6c55",
   "metadata": {},
   "outputs": [
    {
     "name": "stdout",
     "output_type": "stream",
     "text": [
      "The price is 59 dollars\n"
     ]
    }
   ],
   "source": [
    "price = 59\n",
    "txt = f\"The price is {price} dollars\"\n",
    "print(txt)"
   ]
  },
  {
   "cell_type": "markdown",
   "id": "87439389",
   "metadata": {},
   "source": [
    "A placeholder can include a modifier to format the value.\n",
    "\n",
    "A modifier is included by adding a colon `:` followed by a legal formatting type, like `.2f` which means fixed point number with 2 decimals:"
   ]
  },
  {
   "cell_type": "code",
   "execution_count": null,
   "id": "f1d2005c",
   "metadata": {},
   "outputs": [
    {
     "name": "stdout",
     "output_type": "stream",
     "text": [
      "The price is 59.00 dollars\n"
     ]
    }
   ],
   "source": [
    "price = 59\n",
    "txt = f\"The price is {price:.2f} dollars\"\n",
    "print(txt)"
   ]
  },
  {
   "cell_type": "markdown",
   "id": "72d31273",
   "metadata": {},
   "source": [
    "A placeholder can contain Python code, like math operations:"
   ]
  },
  {
   "cell_type": "code",
   "execution_count": null,
   "id": "2b40afce",
   "metadata": {},
   "outputs": [
    {
     "name": "stdout",
     "output_type": "stream",
     "text": [
      "The price is 1180 dollars\n"
     ]
    }
   ],
   "source": [
    "txt = f\"The price is {20 * 59} dollars\"\n",
    "print(txt)"
   ]
  },
  {
   "cell_type": "markdown",
   "id": "093e669c",
   "metadata": {},
   "source": [
    "## Escape Character\n",
    "\n",
    "To insert characters that are illegal in a string, use an escape character.\n",
    "\n",
    "An escape character is a backslash `\\` followed by the character you want to insert.\n",
    "\n",
    "An example of an illegal character is a double quote inside a string that is surrounded by double quotes:\n",
    "\n",
    "To fix this problem, use the escape character `\\\"`:"
   ]
  },
  {
   "cell_type": "code",
   "execution_count": null,
   "id": "d44bf7d6",
   "metadata": {},
   "outputs": [
    {
     "name": "stdout",
     "output_type": "stream",
     "text": [
      "We are the so-called \"Vikings\" from the north.\n"
     ]
    }
   ],
   "source": [
    "txt = \"We are the so-called \\\"Vikings\\\" from the north.\"\n",
    "print(txt) "
   ]
  },
  {
   "cell_type": "markdown",
   "id": "0d38433f",
   "metadata": {},
   "source": [
    "Escape Characters\n",
    "Other escape characters used in Python:\n",
    "\n",
    "| Code | Result |\n",
    "|---|---|\n",
    "| \\' | Single Quote |\t\n",
    "| \\\\ | Backslash | \n",
    "| \\n | New Line|\t\n",
    "| \\r | Carriage Return |\n",
    "| \\t | Tab |\t\n",
    "| \\b | Backspace |\t\n",
    "| \\f | Form Feed |\t\n",
    "| \\ooo | Octal value |\t\n",
    "| \\xhh | Hex value |"
   ]
  },
  {
   "cell_type": "code",
   "execution_count": null,
   "id": "bc97503f",
   "metadata": {},
   "outputs": [
    {
     "name": "stdout",
     "output_type": "stream",
     "text": [
      "It's alright.\n",
      "This will insert one \\ (backslash).\n",
      "Hello\n",
      "World!\n",
      "World!\n",
      "Hello\tWorld!\n",
      "HelloWorld!\n",
      "Hello\n",
      "Hello\n"
     ]
    }
   ],
   "source": [
    "# Single Quote\n",
    "txt = 'It\\'s alright.'\n",
    "print(txt) \n",
    "\n",
    "# Backslash\n",
    "txt = \"This will insert one \\\\ (backslash).\"\n",
    "print(txt) \n",
    "\n",
    "# New Line\n",
    "txt = \"Hello\\nWorld!\"\n",
    "print(txt)\n",
    "\n",
    "# Carriage Return\n",
    "txt = \"Hello\\rWorld!\"\n",
    "print(txt) \n",
    "\n",
    "# Tab\n",
    "txt = \"Hello\\tWorld!\"\n",
    "print(txt) \n",
    "\n",
    "# Backspace\n",
    "txt = \"Hello \\bWorld!\"\n",
    "print(txt) \n",
    "\t\n",
    "# Octal value\n",
    "txt = \"\\110\\145\\154\\154\\157\"\n",
    "print(txt)\n",
    "\n",
    "# Hex value\n",
    "txt = \"\\x48\\x65\\x6c\\x6c\\x6f\"\n",
    "print(txt)"
   ]
  },
  {
   "cell_type": "markdown",
   "id": "964c3d15",
   "metadata": {},
   "source": [
    "# Python - String Methods\n",
    "\n",
    "## String Methods\n",
    "\n",
    "Python has a set of built-in methods that you can use on strings."
   ]
  },
  {
   "cell_type": "markdown",
   "id": "ad0449a9",
   "metadata": {},
   "source": []
  },
  {
   "cell_type": "code",
   "execution_count": null,
   "id": "b27c5f73",
   "metadata": {},
   "outputs": [
    {
     "name": "stdout",
     "output_type": "stream",
     "text": [
      " mi nombre es John y tengo 36\n",
      "36\n"
     ]
    }
   ],
   "source": [
    "class Person:\n",
    "  def __init__(self, name, age):\n",
    "    self.name = name\n",
    "    self.age = age\n",
    "\n",
    "p1 = Person(\"John\", 36)\n",
    "\n",
    "print(f\" mi nombre es {p1.name} y tengo {p1.age}\")\n",
    "print(p1.age)"
   ]
  },
  {
   "cell_type": "markdown",
   "id": "cc60fcbf",
   "metadata": {},
   "source": [
    "# Python - String Methods\n",
    "## String Methods\n",
    "Python has a set of built-in methods that you can use on strings."
   ]
  },
  {
   "cell_type": "code",
   "execution_count": null,
   "id": "e4bde7f9",
   "metadata": {},
   "outputs": [
    {
     "name": "stdout",
     "output_type": "stream",
     "text": [
      "Hello, and welcome to my world.\n",
      "hello, and welcome to my world!\n",
      "       banana       \n",
      "2\n",
      "b'My name is St\\xc3\\xa5le'\n",
      "True\n"
     ]
    }
   ],
   "source": [
    "# capitalize() = Converts the first character to upper case\n",
    "txt = \"hello, and welcome to my world.\"\n",
    "x = txt.capitalize()\n",
    "print (x)\n",
    "\n",
    "# casefold() = Converts string into lower case\n",
    "txt = \"Hello, And Welcome To My World!\"\n",
    "x = txt.casefold()\n",
    "print(x)\n",
    "\n",
    "# center() = Returns a centered string\n",
    "txt = \"banana\"\n",
    "x = txt.center(20)\n",
    "print(x)\n",
    "\n",
    "# count() = Returns the number of times a specified value occurs in a string\n",
    "txt = \"I love apples, apple are my favorite fruit\"\n",
    "x = txt.count(\"apple\")\n",
    "print(x)\n",
    "\n",
    "# encode() = Returns an encoded version of the string\n",
    "txt = \"My name is Ståle\"\n",
    "x = txt.encode()\n",
    "print(x)\n",
    "\n",
    "# endswith() = Returns true if the string ends with the specified value\n",
    "txt = \"Hello, welcome to my world.\"\n",
    "x = txt.endswith(\".\")\n",
    "print(x)"
   ]
  },
  {
   "cell_type": "code",
   "execution_count": null,
   "id": "a5c7e1a3",
   "metadata": {},
   "outputs": [
    {
     "name": "stdout",
     "output_type": "stream",
     "text": [
      "H e l l o\n",
      "7\n",
      "For only 49.00 dollars!\n",
      "Hola, me llamo Mario, tengo 30 años y vivo en Bogotá.\n",
      "7\n",
      "True\n",
      "True\n",
      "True\n",
      "True\n",
      "True\n",
      "True\n",
      "True\n",
      "True\n",
      "True\n",
      "True\n",
      "True\n",
      "True\n",
      "John#Peter#Vicky\n",
      "banana               is my favorite fruit.\n",
      "hello my friends\n",
      "of all fruits banana      is my favorite\n",
      "Hello Pam!\n",
      "('I could eat ', 'bananas', ' all day')\n",
      "I like apples\n",
      "12\n",
      "12\n"
     ]
    }
   ],
   "source": [
    "# expandtabs() = Sets the tab size of the string\n",
    "txt = \"H\\te\\tl\\tl\\to\"\n",
    "x =  txt.expandtabs(2)\n",
    "print(x)\n",
    "\n",
    "# find() = Searches the string for a specified value and returns the position of where it was found\n",
    "txt = \"Hello, welcome to my world.\"\n",
    "x = txt.find(\"welcome\")\n",
    "print(x)\n",
    "\n",
    "# format() = Formats specified values in a string\n",
    "txt = \"For only {price:.2f} dollars!\"\n",
    "print(txt.format(price = 49))\n",
    "\n",
    "# format_map() = Formats specified values in a string\n",
    "persona = {\n",
    "    \"nombre\": \"Mario\",\n",
    "    \"edad\": 30,\n",
    "    \"ciudad\": \"Bogotá\"\n",
    "}\n",
    "\n",
    "mensaje = \"Hola, me llamo {nombre}, tengo {edad} años y vivo en {ciudad}.\".format_map(persona)\n",
    "print(mensaje)\n",
    "\n",
    "# index() = Searches the string for a specified value and returns the position of where it was found\n",
    "txt = \"Hello, welcome to my world.\"\n",
    "x = txt.index(\"welcome\")\n",
    "print(x)\n",
    "\n",
    "# isalnum() = Returns True if all characters in the string are alphanumeric\n",
    "txt = \"Company12\"\n",
    "x = txt.isalnum()\n",
    "print(x)\n",
    "\n",
    "# isalpha() = Returns True if all characters in the string are in the alphabet\n",
    "txt = \"CompanyX\"\n",
    "x = txt.isalpha()\n",
    "print(x)\n",
    "\n",
    "# isascii() = Returns True if all characters in the string are ascii characters\n",
    "txt = \"Company123\"\n",
    "x = txt.isascii()\n",
    "print(x)\n",
    "\n",
    "# isdecimal() = Returns True if all characters in the string are decimals\n",
    "txt = \"1234\"\n",
    "x = txt.isdecimal()\n",
    "print(x)\n",
    "\n",
    "# isdigit() = Returns True if all characters in the string are digits\n",
    "txt = \"50800\"\n",
    "x = txt.isdigit()\n",
    "print(x)\n",
    "\n",
    "# isidentifier() = Returns True if the string is an identifier\n",
    "txt = \"hello world!\"\n",
    "x = txt.islower()\n",
    "print(x)\n",
    "\n",
    "# islower() = Returns True if all characters in the string are lower case\n",
    "txt = \"hello world!\"\n",
    "x = txt.islower()\n",
    "print(x)\n",
    "\n",
    "# isnumeric() = Returns True if all characters in the string are numeric\n",
    "txt = \"565543\"\n",
    "x = txt.isnumeric()\n",
    "print(x)\n",
    "\n",
    "# isprintable() = Returns True if all characters in the string are printable\n",
    "txt = \"Hello! Are you #1?\"\n",
    "x = txt.isprintable()\n",
    "print(x)\n",
    "\n",
    "# isspace() = Returns True if all characters in the string are whitespaces\n",
    "txt = \"  \"\n",
    "x = txt.isspace()\n",
    "print(x)\n",
    "\n",
    "# istitle() = Returns True if the string follows the rules of a title\n",
    "txt = \"Hello, And Welcome To My World!\"\n",
    "x = txt.istitle()\n",
    "print(x)\n",
    "\n",
    "# isupper() = Returns True if all characters in the string are upper case\n",
    "txt = \"THIS IS NOW!\"\n",
    "x = txt.isupper()\n",
    "print(x)\n",
    "\n",
    "# join() = Joins the elements of an iterable to the end of the string\n",
    "myTuple = (\"John\", \"Peter\", \"Vicky\")\n",
    "x = \"#\".join(myTuple)\n",
    "print(x)\n",
    "\n",
    "# ljust() = Returns a left justified version of the string\n",
    "txt = \"banana\"\n",
    "x = txt.ljust(20)\n",
    "print(x, \"is my favorite fruit.\")\n",
    "\n",
    "# lower() = Converts a string into lower case\n",
    "txt = \"Hello my FRIENDS\"\n",
    "x = txt.lower()\n",
    "print(x)\n",
    "\n",
    "# lstrip() = Returns a left trim version of the string\n",
    "txt = \"     banana     \"\n",
    "x = txt.lstrip()\n",
    "print(\"of all fruits\", x, \"is my favorite\")\n",
    "\n",
    "# maketrans() = Returns a translation table to be used in translations\n",
    "txt = \"Hello Sam!\"\n",
    "mytable = str.maketrans(\"S\", \"P\")\n",
    "print(txt.translate(mytable))\n",
    "\n",
    "# partition() = Returns a tuple where the string is parted into three parts\n",
    "txt = \"I could eat bananas all day\"\n",
    "x = txt.partition(\"bananas\")\n",
    "print(x)\n",
    "\n",
    "# replace() = Returns a string where a specified value is replaced with a specified value\n",
    "txt = \"I like bananas\"\n",
    "x = txt.replace(\"bananas\", \"apples\")\n",
    "print(x)\n",
    "\n",
    "#  rfind() = Searches the string for a specified value and returns the last position of where it was found\n",
    "txt = \"Mi casa, su casa.\"\n",
    "x = txt.rfind(\"casa\")\n",
    "print(x)\n",
    "\n",
    "# rindex() = Searches the string for a specified value and returns the last position of where it was found\n",
    "txt = \"Mi casa, su casa.\"\n",
    "x = txt.rindex(\"casa\")\n",
    "print(x)\n",
    "\n"
   ]
  },
  {
   "cell_type": "code",
   "execution_count": null,
   "id": "4b5f51f8",
   "metadata": {},
   "outputs": [
    {
     "name": "stdout",
     "output_type": "stream",
     "text": [
      "              banana is my favorite fruit.\n",
      "('I could eat bananas all day, ', 'bananas', ' are my favorite fruit')\n",
      "['apple', 'banana', 'cherry']\n",
      "of all fruits      banana is my favorite\n",
      "['welcome', 'to', 'the', 'jungle']\n",
      "['Thank you for the music', 'Welcome to the jungle']\n",
      "True\n",
      "of all fruits banana is my favorite\n",
      "hELLO mY nAME iS peter\n",
      "Welcome To My World\n",
      "Hello Pam!\n",
      "HELLO MY FRIENDS\n",
      "0000000050\n"
     ]
    }
   ],
   "source": [
    "# rjust() = Returns a right justified version of the string\n",
    "txt = \"banana\"\n",
    "x = txt.rjust(20)\n",
    "print(x, \"is my favorite fruit.\")\n",
    "\n",
    "# rpartition() = Returns a tuple where the string is parted into three parts\n",
    "txt = \"I could eat bananas all day, bananas are my favorite fruit\"\n",
    "x = txt.rpartition(\"bananas\")\n",
    "print(x)\n",
    "\n",
    "# rsplit() = Splits the string at the specified separator, and returns a list\n",
    "txt = \"apple, banana, cherry\"\n",
    "x = txt.rsplit(\", \")\n",
    "print(x)\n",
    "\n",
    "# rstrip() = Returns a right trim version of the string\n",
    "txt = \"     banana     \"\n",
    "x = txt.rstrip()\n",
    "print(\"of all fruits\", x, \"is my favorite\")\n",
    "\n",
    "# split() = Splits the string at the specified separator, and returns a list\n",
    "txt = \"welcome to the jungle\"\n",
    "x = txt.split()\n",
    "print(x)\n",
    "\n",
    "# splitlines() = Splits the string at line breaks and returns a list\n",
    "txt = \"Thank you for the music\\nWelcome to the jungle\"\n",
    "x = txt.splitlines()\n",
    "print(x)\n",
    "\n",
    "# startswith() = Returns true if the string starts with the specified value\n",
    "txt = \"Hello, welcome to my world.\"\n",
    "x = txt.startswith(\"Hello\")\n",
    "print(x)\n",
    "\n",
    "# strip() = Returns a trimmed version of the string\n",
    "txt = \"     banana     \"\n",
    "x = txt.strip()\n",
    "print(\"of all fruits\", x, \"is my favorite\")\n",
    "\n",
    "# swapcase() = Swaps cases, lower case becomes upper case and vice versa\n",
    "txt = \"Hello My Name Is PETER\"\n",
    "x = txt.swapcase()\n",
    "print(x)\n",
    "\n",
    "# title() = Converts the first character of each word to upper case\n",
    "txt = \"Welcome to my world\"\n",
    "x = txt.title()\n",
    "print(x)\n",
    "\n",
    "# translate() = Returns a translated string\n",
    "#use a dictionary with ascii codes to replace 83 (S) with 80 (P):\n",
    "mydict = {83:  80}\n",
    "txt = \"Hello Sam!\"\n",
    "print(txt.translate(mydict))\n",
    "\n",
    "# upper() = Converts a string into upper case\n",
    "txt = \"Hello my friends\"\n",
    "x = txt.upper()\n",
    "print(x)\n",
    "\n",
    "# zfill() = Fills the string with a specified number of 0 values at the beginning\n",
    "txt = \"50\"\n",
    "x = txt.zfill(10)\n",
    "print(x)"
   ]
  },
  {
   "cell_type": "markdown",
   "id": "f20fcbfe",
   "metadata": {},
   "source": [
    "# Python Booleans\n",
    "\n",
    "Booleans represent one of two values: `True` or `False`.\n",
    "\n",
    "## Boolean Values\n",
    "\n",
    "In programming you often need to know if an expression is ``True`` or ``False``.\n",
    "\n",
    "You can evaluate any expression in Python, and get one of two answers, True or False.\n",
    "\n",
    "When you compare two values, the expression is evaluated and Python returns the Boolean answer:"
   ]
  },
  {
   "cell_type": "code",
   "execution_count": 121,
   "id": "c035499b",
   "metadata": {},
   "outputs": [
    {
     "name": "stdout",
     "output_type": "stream",
     "text": [
      "True\n",
      "False\n",
      "False\n"
     ]
    }
   ],
   "source": [
    "print(10 > 9)\n",
    "print(10 == 9)\n",
    "print(10 < 9)"
   ]
  },
  {
   "cell_type": "markdown",
   "id": "2ee11bf6",
   "metadata": {},
   "source": [
    "When you run a condition in an if statement, Python returns `True` or `False`:"
   ]
  },
  {
   "cell_type": "code",
   "execution_count": 122,
   "id": "d414b4d9",
   "metadata": {},
   "outputs": [
    {
     "name": "stdout",
     "output_type": "stream",
     "text": [
      "b is not greater than a\n"
     ]
    }
   ],
   "source": [
    "a = 200\n",
    "b = 33\n",
    "\n",
    "if b > a:\n",
    "  print(\"b is greater than a\")\n",
    "else:\n",
    "  print(\"b is not greater than a\")"
   ]
  },
  {
   "cell_type": "markdown",
   "id": "454ba38f",
   "metadata": {},
   "source": [
    "## Evaluate Values and Variables\n",
    "\n",
    "The `bool()` function allows you to evaluate any value, and give you `True` or `False` in return,"
   ]
  },
  {
   "cell_type": "code",
   "execution_count": 123,
   "id": "b190dd17",
   "metadata": {},
   "outputs": [
    {
     "name": "stdout",
     "output_type": "stream",
     "text": [
      "True\n",
      "True\n"
     ]
    }
   ],
   "source": [
    "print(bool(\"Hello\"))\n",
    "print(bool(15))"
   ]
  },
  {
   "cell_type": "code",
   "execution_count": 124,
   "id": "d48cd94d",
   "metadata": {},
   "outputs": [
    {
     "name": "stdout",
     "output_type": "stream",
     "text": [
      "True\n",
      "True\n"
     ]
    }
   ],
   "source": [
    "x = \"Hello\"\n",
    "y = 15\n",
    "\n",
    "print(bool(x))\n",
    "print(bool(y))"
   ]
  },
  {
   "cell_type": "markdown",
   "id": "d564e7fa",
   "metadata": {},
   "source": [
    "## Most Values are True\n",
    "\n",
    "Almost any value is evaluated to `True` if it has some sort of content.\n",
    "\n",
    "Any string is `True`, except empty strings.\n",
    "\n",
    "Any number is `True`, except `0`.\n",
    "\n",
    "Any list, tuple, set, and dictionary are `True`, except empty ones."
   ]
  },
  {
   "cell_type": "code",
   "execution_count": 125,
   "id": "667f6bfe",
   "metadata": {},
   "outputs": [
    {
     "name": "stdout",
     "output_type": "stream",
     "text": [
      "True\n",
      "True\n",
      "True\n"
     ]
    }
   ],
   "source": [
    "print(bool(\"abc\"))\n",
    "print(bool(123))\n",
    "print(bool([\"apple\", \"cherry\", \"banana\"]))"
   ]
  },
  {
   "cell_type": "markdown",
   "id": "0dca0158",
   "metadata": {},
   "source": [
    "## Some Values are False\n",
    "\n",
    "In fact, there are not many values that evaluate to `False`, except empty values, such as `()`, `[]`, `{}`, \"\", the number `0`, and the value `None`. And of course the value `False` evaluates to `False`."
   ]
  },
  {
   "cell_type": "code",
   "execution_count": 126,
   "id": "d8586964",
   "metadata": {},
   "outputs": [
    {
     "name": "stdout",
     "output_type": "stream",
     "text": [
      "False\n",
      "False\n",
      "False\n",
      "False\n",
      "False\n",
      "False\n",
      "False\n"
     ]
    }
   ],
   "source": [
    "print(bool(False))\n",
    "print(bool(None))\n",
    "print(bool(0))\n",
    "print(bool(\"\"))\n",
    "print(bool(()))\n",
    "print(bool([]))\n",
    "print(bool({}))"
   ]
  },
  {
   "cell_type": "markdown",
   "id": "7566f137",
   "metadata": {},
   "source": [
    "One more value, or object in this case, evaluates to `False`, and that is if you have an object that is made from a class with a `__len__` function that returns `0` or `False`:"
   ]
  },
  {
   "cell_type": "code",
   "execution_count": 127,
   "id": "70acde78",
   "metadata": {},
   "outputs": [
    {
     "name": "stdout",
     "output_type": "stream",
     "text": [
      "False\n"
     ]
    }
   ],
   "source": [
    "class myclass():\n",
    "  def __len__(self):\n",
    "    return 0\n",
    "\n",
    "myobj = myclass()\n",
    "print(bool(myobj))"
   ]
  },
  {
   "cell_type": "markdown",
   "id": "d949c743",
   "metadata": {},
   "source": [
    "## Functions can Return a Boolean\n",
    "\n",
    "You can create functions that returns a Boolean Value:"
   ]
  },
  {
   "cell_type": "code",
   "execution_count": 128,
   "id": "9edfbf7b",
   "metadata": {},
   "outputs": [
    {
     "name": "stdout",
     "output_type": "stream",
     "text": [
      "True\n"
     ]
    }
   ],
   "source": [
    "def myFunction() :\n",
    "  return True\n",
    "\n",
    "print(myFunction())"
   ]
  },
  {
   "cell_type": "markdown",
   "id": "b16bba72",
   "metadata": {},
   "source": [
    "You can execute code based on the Boolean answer of a function:"
   ]
  },
  {
   "cell_type": "code",
   "execution_count": 129,
   "id": "13b60739",
   "metadata": {},
   "outputs": [
    {
     "name": "stdout",
     "output_type": "stream",
     "text": [
      "YES!\n"
     ]
    }
   ],
   "source": [
    "def myFunction() :\n",
    "  return True\n",
    "\n",
    "if myFunction():\n",
    "  print(\"YES!\")\n",
    "else:\n",
    "  print(\"NO!\")"
   ]
  },
  {
   "cell_type": "markdown",
   "id": "5982d1fe",
   "metadata": {},
   "source": [
    "Python also has many built-in functions that return a boolean value, like the `isinstance()` function, which can be used to determine if an object is of a certain data type:"
   ]
  },
  {
   "cell_type": "code",
   "execution_count": 130,
   "id": "51292246",
   "metadata": {},
   "outputs": [
    {
     "name": "stdout",
     "output_type": "stream",
     "text": [
      "True\n"
     ]
    }
   ],
   "source": [
    "x = 200\n",
    "print(isinstance(x, int))"
   ]
  },
  {
   "cell_type": "code",
   "execution_count": null,
   "id": "9d0d1692",
   "metadata": {},
   "outputs": [
    {
     "name": "stdout",
     "output_type": "stream",
     "text": [
      "Hi, I'm John and I'm 36 years old.\n"
     ]
    }
   ],
   "source": [
    "class Person:\n",
    "    def __init__(self, name, age):\n",
    "        self.name = name\n",
    "        self.age = age\n",
    "    \n",
    "    def greet(self):\n",
    "        print(f\"Hi, I'm {self.name} and I'm {self.age} years old.\")\n",
    "\n",
    "p1 = Person(\"John Conor\", 36)\n",
    "p1.greet()\n",
    "\n"
   ]
  }
 ],
 "metadata": {
  "kernelspec": {
   "display_name": "Python 3",
   "language": "python",
   "name": "python3"
  },
  "language_info": {
   "codemirror_mode": {
    "name": "ipython",
    "version": 3
   },
   "file_extension": ".py",
   "mimetype": "text/x-python",
   "name": "python",
   "nbconvert_exporter": "python",
   "pygments_lexer": "ipython3",
   "version": "3.13.2"
  }
 },
 "nbformat": 4,
 "nbformat_minor": 5
}
